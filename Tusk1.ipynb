{
 "cells": [
  {
   "cell_type": "code",
   "execution_count": 1,
   "id": "6c0021c0-6b71-4d4e-a487-b504b3cfeadf",
   "metadata": {},
   "outputs": [
    {
     "name": "stderr",
     "output_type": "stream",
     "text": [
      "[nltk_data] Downloading package punkt to\n",
      "[nltk_data]     /Users/andreyvasilyev/nltk_data...\n",
      "[nltk_data]   Package punkt is already up-to-date!\n",
      "[nltk_data] Downloading package stopwords to\n",
      "[nltk_data]     /Users/andreyvasilyev/nltk_data...\n",
      "[nltk_data]   Package stopwords is already up-to-date!\n"
     ]
    },
    {
     "data": {
      "text/plain": [
       "True"
      ]
     },
     "execution_count": 1,
     "metadata": {},
     "output_type": "execute_result"
    }
   ],
   "source": [
    "import pandas as pd\n",
    "from sklearn.model_selection import train_test_split\n",
    "import nltk\n",
    "import string\n",
    "from nltk.corpus import stopwords\n",
    "from nltk. tokenize import word_tokenize \n",
    "from nltk.stem import SnowballStemmer \n",
    "nltk.download ('punkt')\n",
    "from sklearn.pipeline import Pipeline \n",
    "from sklearn.linear_model import LogisticRegression\n",
    "from sklearn.feature_extraction. text import TfidfVectorizer\n",
    "from sklearn.metrics import precision_score, recall_score, precision_recall_curve \n",
    "from matplotlib import pyplot as plt\n",
    "from sklearn.metrics import precision_recall_curve\n",
    "import numpy as np \n",
    "from sklearn.model_selection import GridSearchCV\n",
    "import nltk\n",
    "nltk.download('stopwords')"
   ]
  },
  {
   "cell_type": "markdown",
   "id": "4b65ace3-b940-486a-8940-729701ae9771",
   "metadata": {},
   "source": [
    "сохраняем тренировочный датасет в переменную df"
   ]
  },
  {
   "cell_type": "code",
   "execution_count": 2,
   "id": "c0adf07d-9d63-42a8-a2f5-560726a5b5f3",
   "metadata": {},
   "outputs": [],
   "source": [
    "df=pd.read_csv('train.csv')"
   ]
  },
  {
   "cell_type": "markdown",
   "id": "cd535cd6-918e-47f6-a099-5f0a041252dc",
   "metadata": {},
   "source": [
    "просматриваем датасет"
   ]
  },
  {
   "cell_type": "code",
   "execution_count": 3,
   "id": "85db4429-8c7a-4d2e-89fa-70ce95168c24",
   "metadata": {},
   "outputs": [
    {
     "name": "stdout",
     "output_type": "stream",
     "text": [
      "            ID                                               text  sentiment\n",
      "0        21098  .с.,и спросил его:  о Посланник Аллаха!Ты пори...          1\n",
      "1        21099  Роднее всех родных Попала я в ГКБ №8 еще в дек...          1\n",
      "2        21100  Непорядочное отношение к своим работникам Рабо...          2\n",
      "3        21101  ). Отсутствуют нормативы, Госты и прочее, что ...          1\n",
      "4        21102             У меня машина в руках 5 лет и это п...          1\n",
      "...        ...                                                ...        ...\n",
      "189886  210984  Мой юбилей я отмечал в ресторане \" Астория \" ....          2\n",
      "189887  210985  Отлично встретили, разместили в роскошном номе...          1\n",
      "189888  210986  Была в Васаби на ст. метро Сенная .  Во первых...          0\n",
      "189889  210987  Ребята не стоит смотреть этот фильм. Вы молоды...          0\n",
      "189890  210988  Про махание руками нигде  не нашел.  Почему се...          1\n",
      "\n",
      "[189891 rows x 3 columns]\n"
     ]
    }
   ],
   "source": [
    "print(df)"
   ]
  },
  {
   "cell_type": "code",
   "execution_count": 4,
   "id": "91004bad-213b-44b4-9062-de1fbc57d11c",
   "metadata": {},
   "outputs": [
    {
     "data": {
      "text/plain": [
       "(189891, 3)"
      ]
     },
     "execution_count": 4,
     "metadata": {},
     "output_type": "execute_result"
    }
   ],
   "source": [
    "df.shape"
   ]
  },
  {
   "cell_type": "markdown",
   "id": "cabf0e12-87c0-4fb9-8ca7-07f8ef5aa249",
   "metadata": {},
   "source": [
    "разбиение на токены"
   ]
  },
  {
   "cell_type": "code",
   "execution_count": 5,
   "id": "bc99086b-5db5-41c2-8e8a-10e531172e46",
   "metadata": {},
   "outputs": [],
   "source": [
    "\n",
    "sentence_example = df. iloc [1] [\"text\" ]\n",
    "\n",
    "tokens = word_tokenize(sentence_example, language=\"russian\")\n",
    "\n",
    "tokens_without_punctuation = [i for i in tokens if i not in string. punctuation]\n",
    "\n",
    "russian_stop_words = stopwords. words (\"russian\")\n",
    "\n",
    "tokens_without_stop_words_and_punctuation = [i for i in tokens_without_punctuation if i not in russian_stop_words]\n",
    "\n",
    "snowball = SnowballStemmer (language=\"russian\")\n",
    "\n",
    "stemmed_tokens = [snowball.stem(i) for i in tokens_without_stop_words_and_punctuation]"
   ]
  },
  {
   "cell_type": "markdown",
   "id": "f78a9d0c-b3dc-4512-91fd-a70f8aa0f084",
   "metadata": {},
   "source": [
    "просмотр корректности работы"
   ]
  },
  {
   "cell_type": "code",
   "execution_count": 6,
   "id": "c5fbea74-e511-46f8-bd64-b6be7e9ed1a1",
   "metadata": {},
   "outputs": [
    {
     "name": "stdout",
     "output_type": "stream",
     "text": [
      "Исходный текст: Роднее всех родных Попала я в ГКБ №8 еще в декабре 2002 г. Ехать в больницу очень боялась, но делать нечего, рожать надо. О ГКБ № 8 слышала много хорошего. Когда приехала в приемное отделение, мои колени тряслись от страха, но меня там встретили очень вежливо. Осмотр врача был аккуратным и осторожным, во всем чувствовалась забота и внимание. После того, как меня определили в палату, моим врачом стала Попова Любовь Васильевна. Я благодарна судьбе за то, что она свела меня с таким прекрасным человеком. Она огромнейшей души человек и супер-врач. Внимательна, тактична, отвечала на все, порой даже глупые вопросы. Всегда может подбодрить, улыбнуться. Расскажет зачем и какие препараты нам назначают, а также зачем и какие анализы мы сдаем. С ней я себя чувствовала как \"за каменной стеной\". К тому же у нас собралась веселая палата. На этаже есть телевизор, работае с 17 до 22 часов. Вообщем-то этого вполне хватало, т. к. у каждого были свои процедуры, капельницы, уколы и т. д. По поводу уколов и капельниц хочется сказать отдельное спасибо Анжеле. Рука у нее легкая, да и сама она, что называется, \"своя девчонка\". Без всяких выпендрежей и заморочек. Также хочется сказать спасибо и сестре - хозяйке (к сожалению, не помню ее имя). Сперва она показалась нам очень шумной, но потом мы не представляли себе и дня без нее. Она всегда была с нами внимательна. Всегда вовремя меняла постельное белье, пеленки, полотенца. Всегда следила за тем, чтобы были чистыми холодильники. Должна сказать, что работа в отделении патологии налажена отлично. Никто не суетится, не бегает, не кричит. Все четко знают свои обязанности и оперативно выполняют работу. Все это благодаря хорошим организаторским способностям заведующей отделением, Аландровой Татьяны Вычеславовны. За то время, что я провела в больнице на обследовании, я так всех полюбила, что если бы не Новый год, то уходить не хотелось. А мой врач - Любовь Васильевна, стала для меня роднее всех родных. \n",
      "———————-\n",
      "Токены: ['Роднее', 'всех', 'родных', 'Попала', 'я', 'в', 'ГКБ', '№8', 'еще', 'в', 'декабре', '2002', 'г.', 'Ехать', 'в', 'больницу', 'очень', 'боялась', ',', 'но', 'делать', 'нечего', ',', 'рожать', 'надо', '.', 'О', 'ГКБ', '№', '8', 'слышала', 'много', 'хорошего', '.', 'Когда', 'приехала', 'в', 'приемное', 'отделение', ',', 'мои', 'колени', 'тряслись', 'от', 'страха', ',', 'но', 'меня', 'там', 'встретили', 'очень', 'вежливо', '.', 'Осмотр', 'врача', 'был', 'аккуратным', 'и', 'осторожным', ',', 'во', 'всем', 'чувствовалась', 'забота', 'и', 'внимание', '.', 'После', 'того', ',', 'как', 'меня', 'определили', 'в', 'палату', ',', 'моим', 'врачом', 'стала', 'Попова', 'Любовь', 'Васильевна', '.', 'Я', 'благодарна', 'судьбе', 'за', 'то', ',', 'что', 'она', 'свела', 'меня', 'с', 'таким', 'прекрасным', 'человеком', '.', 'Она', 'огромнейшей', 'души', 'человек', 'и', 'супер-врач', '.', 'Внимательна', ',', 'тактична', ',', 'отвечала', 'на', 'все', ',', 'порой', 'даже', 'глупые', 'вопросы', '.', 'Всегда', 'может', 'подбодрить', ',', 'улыбнуться', '.', 'Расскажет', 'зачем', 'и', 'какие', 'препараты', 'нам', 'назначают', ',', 'а', 'также', 'зачем', 'и', 'какие', 'анализы', 'мы', 'сдаем', '.', 'С', 'ней', 'я', 'себя', 'чувствовала', 'как', '``', 'за', 'каменной', 'стеной', \"''\", '.', 'К', 'тому', 'же', 'у', 'нас', 'собралась', 'веселая', 'палата', '.', 'На', 'этаже', 'есть', 'телевизор', ',', 'работае', 'с', '17', 'до', '22', 'часов', '.', 'Вообщем-то', 'этого', 'вполне', 'хватало', ',', 'т.', 'к.', 'у', 'каждого', 'были', 'свои', 'процедуры', ',', 'капельницы', ',', 'уколы', 'и', 'т.', 'д.', 'По', 'поводу', 'уколов', 'и', 'капельниц', 'хочется', 'сказать', 'отдельное', 'спасибо', 'Анжеле', '.', 'Рука', 'у', 'нее', 'легкая', ',', 'да', 'и', 'сама', 'она', ',', 'что', 'называется', ',', '``', 'своя', 'девчонка', \"''\", '.', 'Без', 'всяких', 'выпендрежей', 'и', 'заморочек', '.', 'Также', 'хочется', 'сказать', 'спасибо', 'и', 'сестре', '-', 'хозяйке', '(', 'к', 'сожалению', ',', 'не', 'помню', 'ее', 'имя', ')', '.', 'Сперва', 'она', 'показалась', 'нам', 'очень', 'шумной', ',', 'но', 'потом', 'мы', 'не', 'представляли', 'себе', 'и', 'дня', 'без', 'нее', '.', 'Она', 'всегда', 'была', 'с', 'нами', 'внимательна', '.', 'Всегда', 'вовремя', 'меняла', 'постельное', 'белье', ',', 'пеленки', ',', 'полотенца', '.', 'Всегда', 'следила', 'за', 'тем', ',', 'чтобы', 'были', 'чистыми', 'холодильники', '.', 'Должна', 'сказать', ',', 'что', 'работа', 'в', 'отделении', 'патологии', 'налажена', 'отлично', '.', 'Никто', 'не', 'суетится', ',', 'не', 'бегает', ',', 'не', 'кричит', '.', 'Все', 'четко', 'знают', 'свои', 'обязанности', 'и', 'оперативно', 'выполняют', 'работу', '.', 'Все', 'это', 'благодаря', 'хорошим', 'организаторским', 'способностям', 'заведующей', 'отделением', ',', 'Аландровой', 'Татьяны', 'Вычеславовны', '.', 'За', 'то', 'время', ',', 'что', 'я', 'провела', 'в', 'больнице', 'на', 'обследовании', ',', 'я', 'так', 'всех', 'полюбила', ',', 'что', 'если', 'бы', 'не', 'Новый', 'год', ',', 'то', 'уходить', 'не', 'хотелось', '.', 'А', 'мой', 'врач', '-', 'Любовь', 'Васильевна', ',', 'стала', 'для', 'меня', 'роднее', 'всех', 'родных', '.']\n",
      "————————-\n",
      "Токены без пунктуации: ['Роднее', 'всех', 'родных', 'Попала', 'я', 'в', 'ГКБ', '№8', 'еще', 'в', 'декабре', '2002', 'г.', 'Ехать', 'в', 'больницу', 'очень', 'боялась', 'но', 'делать', 'нечего', 'рожать', 'надо', 'О', 'ГКБ', '№', '8', 'слышала', 'много', 'хорошего', 'Когда', 'приехала', 'в', 'приемное', 'отделение', 'мои', 'колени', 'тряслись', 'от', 'страха', 'но', 'меня', 'там', 'встретили', 'очень', 'вежливо', 'Осмотр', 'врача', 'был', 'аккуратным', 'и', 'осторожным', 'во', 'всем', 'чувствовалась', 'забота', 'и', 'внимание', 'После', 'того', 'как', 'меня', 'определили', 'в', 'палату', 'моим', 'врачом', 'стала', 'Попова', 'Любовь', 'Васильевна', 'Я', 'благодарна', 'судьбе', 'за', 'то', 'что', 'она', 'свела', 'меня', 'с', 'таким', 'прекрасным', 'человеком', 'Она', 'огромнейшей', 'души', 'человек', 'и', 'супер-врач', 'Внимательна', 'тактична', 'отвечала', 'на', 'все', 'порой', 'даже', 'глупые', 'вопросы', 'Всегда', 'может', 'подбодрить', 'улыбнуться', 'Расскажет', 'зачем', 'и', 'какие', 'препараты', 'нам', 'назначают', 'а', 'также', 'зачем', 'и', 'какие', 'анализы', 'мы', 'сдаем', 'С', 'ней', 'я', 'себя', 'чувствовала', 'как', '``', 'за', 'каменной', 'стеной', \"''\", 'К', 'тому', 'же', 'у', 'нас', 'собралась', 'веселая', 'палата', 'На', 'этаже', 'есть', 'телевизор', 'работае', 'с', '17', 'до', '22', 'часов', 'Вообщем-то', 'этого', 'вполне', 'хватало', 'т.', 'к.', 'у', 'каждого', 'были', 'свои', 'процедуры', 'капельницы', 'уколы', 'и', 'т.', 'д.', 'По', 'поводу', 'уколов', 'и', 'капельниц', 'хочется', 'сказать', 'отдельное', 'спасибо', 'Анжеле', 'Рука', 'у', 'нее', 'легкая', 'да', 'и', 'сама', 'она', 'что', 'называется', '``', 'своя', 'девчонка', \"''\", 'Без', 'всяких', 'выпендрежей', 'и', 'заморочек', 'Также', 'хочется', 'сказать', 'спасибо', 'и', 'сестре', 'хозяйке', 'к', 'сожалению', 'не', 'помню', 'ее', 'имя', 'Сперва', 'она', 'показалась', 'нам', 'очень', 'шумной', 'но', 'потом', 'мы', 'не', 'представляли', 'себе', 'и', 'дня', 'без', 'нее', 'Она', 'всегда', 'была', 'с', 'нами', 'внимательна', 'Всегда', 'вовремя', 'меняла', 'постельное', 'белье', 'пеленки', 'полотенца', 'Всегда', 'следила', 'за', 'тем', 'чтобы', 'были', 'чистыми', 'холодильники', 'Должна', 'сказать', 'что', 'работа', 'в', 'отделении', 'патологии', 'налажена', 'отлично', 'Никто', 'не', 'суетится', 'не', 'бегает', 'не', 'кричит', 'Все', 'четко', 'знают', 'свои', 'обязанности', 'и', 'оперативно', 'выполняют', 'работу', 'Все', 'это', 'благодаря', 'хорошим', 'организаторским', 'способностям', 'заведующей', 'отделением', 'Аландровой', 'Татьяны', 'Вычеславовны', 'За', 'то', 'время', 'что', 'я', 'провела', 'в', 'больнице', 'на', 'обследовании', 'я', 'так', 'всех', 'полюбила', 'что', 'если', 'бы', 'не', 'Новый', 'год', 'то', 'уходить', 'не', 'хотелось', 'А', 'мой', 'врач', 'Любовь', 'Васильевна', 'стала', 'для', 'меня', 'роднее', 'всех', 'родных']\n",
      "—————————\n",
      "Токены без пунктуации и стоп слов: ['Роднее', 'родных', 'Попала', 'ГКБ', '№8', 'декабре', '2002', 'г.', 'Ехать', 'больницу', 'очень', 'боялась', 'делать', 'нечего', 'рожать', 'О', 'ГКБ', '№', '8', 'слышала', 'хорошего', 'Когда', 'приехала', 'приемное', 'отделение', 'мои', 'колени', 'тряслись', 'страха', 'встретили', 'очень', 'вежливо', 'Осмотр', 'врача', 'аккуратным', 'осторожным', 'всем', 'чувствовалась', 'забота', 'внимание', 'После', 'определили', 'палату', 'моим', 'врачом', 'стала', 'Попова', 'Любовь', 'Васильевна', 'Я', 'благодарна', 'судьбе', 'свела', 'таким', 'прекрасным', 'человеком', 'Она', 'огромнейшей', 'души', 'человек', 'супер-врач', 'Внимательна', 'тактична', 'отвечала', 'порой', 'глупые', 'вопросы', 'Всегда', 'подбодрить', 'улыбнуться', 'Расскажет', 'какие', 'препараты', 'нам', 'назначают', 'также', 'какие', 'анализы', 'сдаем', 'С', 'чувствовала', '``', 'каменной', 'стеной', \"''\", 'К', 'тому', 'собралась', 'веселая', 'палата', 'На', 'этаже', 'телевизор', 'работае', '17', '22', 'часов', 'Вообщем-то', 'вполне', 'хватало', 'т.', 'к.', 'каждого', 'свои', 'процедуры', 'капельницы', 'уколы', 'т.', 'д.', 'По', 'поводу', 'уколов', 'капельниц', 'хочется', 'сказать', 'отдельное', 'спасибо', 'Анжеле', 'Рука', 'легкая', 'сама', 'называется', '``', 'своя', 'девчонка', \"''\", 'Без', 'всяких', 'выпендрежей', 'заморочек', 'Также', 'хочется', 'сказать', 'спасибо', 'сестре', 'хозяйке', 'сожалению', 'помню', 'имя', 'Сперва', 'показалась', 'нам', 'очень', 'шумной', 'представляли', 'дня', 'Она', 'нами', 'внимательна', 'Всегда', 'вовремя', 'меняла', 'постельное', 'белье', 'пеленки', 'полотенца', 'Всегда', 'следила', 'чистыми', 'холодильники', 'Должна', 'сказать', 'работа', 'отделении', 'патологии', 'налажена', 'отлично', 'Никто', 'суетится', 'бегает', 'кричит', 'Все', 'четко', 'знают', 'свои', 'обязанности', 'оперативно', 'выполняют', 'работу', 'Все', 'это', 'благодаря', 'хорошим', 'организаторским', 'способностям', 'заведующей', 'отделением', 'Аландровой', 'Татьяны', 'Вычеславовны', 'За', 'время', 'провела', 'больнице', 'обследовании', 'полюбила', 'Новый', 'год', 'уходить', 'хотелось', 'А', 'врач', 'Любовь', 'Васильевна', 'стала', 'роднее', 'родных']\n",
      "—————\n",
      "Токены после стемминга: ['родн', 'родн', 'попа', 'гкб', '№8', 'декабр', '2002', 'г.', 'еха', 'больниц', 'очен', 'боя', 'дела', 'неч', 'рожа', 'о', 'гкб', '№', '8', 'слыша', 'хорош', 'когд', 'приеха', 'приемн', 'отделен', 'мо', 'колен', 'трясл', 'страх', 'встрет', 'очен', 'вежлив', 'осмотр', 'врач', 'аккуратн', 'осторожн', 'всем', 'чувствова', 'забот', 'вниман', 'посл', 'определ', 'палат', 'мо', 'врач', 'стал', 'попов', 'любов', 'васильевн', 'я', 'благодарн', 'судьб', 'свел', 'так', 'прекрасн', 'человек', 'он', 'огромн', 'душ', 'человек', 'супер-врач', 'внимательн', 'тактичн', 'отвеча', 'пор', 'глуп', 'вопрос', 'всегд', 'подбодр', 'улыбнут', 'расскажет', 'как', 'препарат', 'нам', 'назнача', 'такж', 'как', 'анализ', 'сда', 'с', 'чувствова', '``', 'камен', 'стен', \"''\", 'к', 'том', 'собра', 'весел', 'палат', 'на', 'этаж', 'телевизор', 'работа', '17', '22', 'час', 'вообщем-т', 'вполн', 'хвата', 'т.', 'к.', 'кажд', 'сво', 'процедур', 'капельниц', 'укол', 'т.', 'д.', 'по', 'повод', 'укол', 'капельниц', 'хочет', 'сказа', 'отдельн', 'спасиб', 'анжел', 'рук', 'легк', 'сам', 'называ', '``', 'сво', 'девчонк', \"''\", 'без', 'всяк', 'выпендреж', 'заморочек', 'такж', 'хочет', 'сказа', 'спасиб', 'сестр', 'хозяйк', 'сожален', 'помн', 'им', 'сперв', 'показа', 'нам', 'очен', 'шумн', 'представля', 'дня', 'он', 'нам', 'внимательн', 'всегд', 'воврем', 'меня', 'постельн', 'бел', 'пеленк', 'полотенц', 'всегд', 'след', 'чист', 'холодильник', 'должн', 'сказа', 'работ', 'отделен', 'патолог', 'налаж', 'отличн', 'никт', 'сует', 'бега', 'крич', 'все', 'четк', 'знают', 'сво', 'обязан', 'оперативн', 'выполня', 'работ', 'все', 'эт', 'благодар', 'хорош', 'организаторск', 'способн', 'завед', 'отделен', 'аландров', 'татья', 'вычеславовн', 'за', 'врем', 'провел', 'больниц', 'обследован', 'полюб', 'нов', 'год', 'уход', 'хотел', 'а', 'врач', 'любов', 'васильевн', 'стал', 'родн', 'родн']\n",
      "————\n"
     ]
    }
   ],
   "source": [
    "print(f\"Исходный текст: {sentence_example}\")\n",
    "print(\"———————-\")\n",
    "print (f\"Токены: {tokens}\")\n",
    "print(\"————————-\")\n",
    "print (f\"Токены без пунктуации: {tokens_without_punctuation}\")\n",
    "print(\"—————————\")\n",
    "print(f\"Токены без пунктуации и стоп слов: {tokens_without_stop_words_and_punctuation}\")\n",
    "print (\"—————\")\n",
    "print (f\"Токены после стемминга: {stemmed_tokens}\")\n",
    "print(\"————\")"
   ]
  },
  {
   "cell_type": "markdown",
   "id": "d60ad8d6-c03f-4beb-a7d8-7506793fca34",
   "metadata": {},
   "source": [
    "написание функции преобразования в токены для дальнейшего использования"
   ]
  },
  {
   "cell_type": "code",
   "execution_count": 7,
   "id": "8bc516ad-a334-4ed5-8785-a67521c35dc5",
   "metadata": {},
   "outputs": [],
   "source": [
    "snowball = SnowballStemmer (language=\"russian\" )\n",
    "russian_stop_words = stopwords.words (\"russian\" )\n",
    "def tokenize_sentence(sentence: str, remove_stop_words: bool = True):\n",
    "    tokens = word_tokenize(sentence, language=\"russian\" )\n",
    "    tokens = [i for i in tokens if i not in string. punctuation]\n",
    "    if remove_stop_words:\n",
    "        tokens = [i for i in tokens if i not in russian_stop_words]\n",
    "    tokens = [snowball.stem(i) for i in tokens]\n",
    "    return tokens"
   ]
  },
  {
   "cell_type": "markdown",
   "id": "877d7bc9-6801-4d59-9bf9-5c8ca18b895f",
   "metadata": {},
   "source": [
    "векторизация"
   ]
  },
  {
   "cell_type": "code",
   "execution_count": 8,
   "id": "21e6014f-01ab-41f3-a555-f337b6e38e6c",
   "metadata": {},
   "outputs": [],
   "source": [
    "vectorizer = TfidfVectorizer(tokenizer=lambda x: tokenize_sentence(x, remove_stop_words=True),token_pattern=None)"
   ]
  },
  {
   "cell_type": "markdown",
   "id": "2f3118b4-89f6-4b42-a06e-e9630783c0ce",
   "metadata": {},
   "source": [
    "обучение векторайзера"
   ]
  },
  {
   "cell_type": "code",
   "execution_count": 9,
   "id": "7ac29ead-4afd-4bb5-a467-495e728acbaa",
   "metadata": {},
   "outputs": [],
   "source": [
    "features = vectorizer. fit_transform(df[\"text\"] )"
   ]
  },
  {
   "cell_type": "markdown",
   "id": "d5c11fe6-957e-4d6e-9c54-14225595e4a8",
   "metadata": {},
   "source": [
    "обучение модели логистической регрессии"
   ]
  },
  {
   "cell_type": "code",
   "execution_count": 11,
   "id": "064bf8c7-1968-48e3-9ac6-d47fd493e51f",
   "metadata": {},
   "outputs": [
    {
     "data": {
      "text/html": [
       "<style>#sk-container-id-1 {color: black;background-color: white;}#sk-container-id-1 pre{padding: 0;}#sk-container-id-1 div.sk-toggleable {background-color: white;}#sk-container-id-1 label.sk-toggleable__label {cursor: pointer;display: block;width: 100%;margin-bottom: 0;padding: 0.3em;box-sizing: border-box;text-align: center;}#sk-container-id-1 label.sk-toggleable__label-arrow:before {content: \"▸\";float: left;margin-right: 0.25em;color: #696969;}#sk-container-id-1 label.sk-toggleable__label-arrow:hover:before {color: black;}#sk-container-id-1 div.sk-estimator:hover label.sk-toggleable__label-arrow:before {color: black;}#sk-container-id-1 div.sk-toggleable__content {max-height: 0;max-width: 0;overflow: hidden;text-align: left;background-color: #f0f8ff;}#sk-container-id-1 div.sk-toggleable__content pre {margin: 0.2em;color: black;border-radius: 0.25em;background-color: #f0f8ff;}#sk-container-id-1 input.sk-toggleable__control:checked~div.sk-toggleable__content {max-height: 200px;max-width: 100%;overflow: auto;}#sk-container-id-1 input.sk-toggleable__control:checked~label.sk-toggleable__label-arrow:before {content: \"▾\";}#sk-container-id-1 div.sk-estimator input.sk-toggleable__control:checked~label.sk-toggleable__label {background-color: #d4ebff;}#sk-container-id-1 div.sk-label input.sk-toggleable__control:checked~label.sk-toggleable__label {background-color: #d4ebff;}#sk-container-id-1 input.sk-hidden--visually {border: 0;clip: rect(1px 1px 1px 1px);clip: rect(1px, 1px, 1px, 1px);height: 1px;margin: -1px;overflow: hidden;padding: 0;position: absolute;width: 1px;}#sk-container-id-1 div.sk-estimator {font-family: monospace;background-color: #f0f8ff;border: 1px dotted black;border-radius: 0.25em;box-sizing: border-box;margin-bottom: 0.5em;}#sk-container-id-1 div.sk-estimator:hover {background-color: #d4ebff;}#sk-container-id-1 div.sk-parallel-item::after {content: \"\";width: 100%;border-bottom: 1px solid gray;flex-grow: 1;}#sk-container-id-1 div.sk-label:hover label.sk-toggleable__label {background-color: #d4ebff;}#sk-container-id-1 div.sk-serial::before {content: \"\";position: absolute;border-left: 1px solid gray;box-sizing: border-box;top: 0;bottom: 0;left: 50%;z-index: 0;}#sk-container-id-1 div.sk-serial {display: flex;flex-direction: column;align-items: center;background-color: white;padding-right: 0.2em;padding-left: 0.2em;position: relative;}#sk-container-id-1 div.sk-item {position: relative;z-index: 1;}#sk-container-id-1 div.sk-parallel {display: flex;align-items: stretch;justify-content: center;background-color: white;position: relative;}#sk-container-id-1 div.sk-item::before, #sk-container-id-1 div.sk-parallel-item::before {content: \"\";position: absolute;border-left: 1px solid gray;box-sizing: border-box;top: 0;bottom: 0;left: 50%;z-index: -1;}#sk-container-id-1 div.sk-parallel-item {display: flex;flex-direction: column;z-index: 1;position: relative;background-color: white;}#sk-container-id-1 div.sk-parallel-item:first-child::after {align-self: flex-end;width: 50%;}#sk-container-id-1 div.sk-parallel-item:last-child::after {align-self: flex-start;width: 50%;}#sk-container-id-1 div.sk-parallel-item:only-child::after {width: 0;}#sk-container-id-1 div.sk-dashed-wrapped {border: 1px dashed gray;margin: 0 0.4em 0.5em 0.4em;box-sizing: border-box;padding-bottom: 0.4em;background-color: white;}#sk-container-id-1 div.sk-label label {font-family: monospace;font-weight: bold;display: inline-block;line-height: 1.2em;}#sk-container-id-1 div.sk-label-container {text-align: center;}#sk-container-id-1 div.sk-container {/* jupyter's `normalize.less` sets `[hidden] { display: none; }` but bootstrap.min.css set `[hidden] { display: none !important; }` so we also need the `!important` here to be able to override the default hidden behavior on the sphinx rendered scikit-learn.org. See: https://github.com/scikit-learn/scikit-learn/issues/21755 */display: inline-block !important;position: relative;}#sk-container-id-1 div.sk-text-repr-fallback {display: none;}</style><div id=\"sk-container-id-1\" class=\"sk-top-container\"><div class=\"sk-text-repr-fallback\"><pre>LogisticRegression(max_iter=200000, random_state=0)</pre><b>In a Jupyter environment, please rerun this cell to show the HTML representation or trust the notebook. <br />On GitHub, the HTML representation is unable to render, please try loading this page with nbviewer.org.</b></div><div class=\"sk-container\" hidden><div class=\"sk-item\"><div class=\"sk-estimator sk-toggleable\"><input class=\"sk-toggleable__control sk-hidden--visually\" id=\"sk-estimator-id-1\" type=\"checkbox\" checked><label for=\"sk-estimator-id-1\" class=\"sk-toggleable__label sk-toggleable__label-arrow\">LogisticRegression</label><div class=\"sk-toggleable__content\"><pre>LogisticRegression(max_iter=200000, random_state=0)</pre></div></div></div></div></div>"
      ],
      "text/plain": [
       "LogisticRegression(max_iter=200000, random_state=0)"
      ]
     },
     "execution_count": 11,
     "metadata": {},
     "output_type": "execute_result"
    }
   ],
   "source": [
    "model = LogisticRegression (random_state=0,max_iter=200000)\n",
    "model.fit(features, df[\"sentiment\"])"
   ]
  },
  {
   "cell_type": "markdown",
   "id": "736d065a-6b70-42f7-9145-c713b6efcb7a",
   "metadata": {},
   "source": [
    "проверка модели"
   ]
  },
  {
   "cell_type": "code",
   "execution_count": 12,
   "id": "b8e391e1-e9e4-40a9-b0c0-e7704fee41d5",
   "metadata": {},
   "outputs": [
    {
     "data": {
      "text/plain": [
       "array([1])"
      ]
     },
     "execution_count": 12,
     "metadata": {},
     "output_type": "execute_result"
    }
   ],
   "source": [
    "model.predict (features[0])"
   ]
  },
  {
   "cell_type": "markdown",
   "id": "5ecc3977-0bdf-4d63-9749-16a475f1972b",
   "metadata": {},
   "source": [
    "преобразование модели"
   ]
  },
  {
   "cell_type": "code",
   "execution_count": 14,
   "id": "36f6cd97-4748-45a9-a636-3d4ff7718d33",
   "metadata": {},
   "outputs": [],
   "source": [
    "model_pipeline = Pipeline ([\n",
    "    (\"vectorizer\", TfidfVectorizer (tokenizer=lambda x: tokenize_sentence(x, remove_stop_words=True),token_pattern=None)), \n",
    "    (\"model\", LogisticRegression(random_state=0,max_iter=200000))\n",
    "])"
   ]
  },
  {
   "cell_type": "code",
   "execution_count": 15,
   "id": "953efe71-0459-443a-9679-a43f1b2e1a4a",
   "metadata": {},
   "outputs": [
    {
     "data": {
      "text/html": [
       "<style>#sk-container-id-2 {color: black;background-color: white;}#sk-container-id-2 pre{padding: 0;}#sk-container-id-2 div.sk-toggleable {background-color: white;}#sk-container-id-2 label.sk-toggleable__label {cursor: pointer;display: block;width: 100%;margin-bottom: 0;padding: 0.3em;box-sizing: border-box;text-align: center;}#sk-container-id-2 label.sk-toggleable__label-arrow:before {content: \"▸\";float: left;margin-right: 0.25em;color: #696969;}#sk-container-id-2 label.sk-toggleable__label-arrow:hover:before {color: black;}#sk-container-id-2 div.sk-estimator:hover label.sk-toggleable__label-arrow:before {color: black;}#sk-container-id-2 div.sk-toggleable__content {max-height: 0;max-width: 0;overflow: hidden;text-align: left;background-color: #f0f8ff;}#sk-container-id-2 div.sk-toggleable__content pre {margin: 0.2em;color: black;border-radius: 0.25em;background-color: #f0f8ff;}#sk-container-id-2 input.sk-toggleable__control:checked~div.sk-toggleable__content {max-height: 200px;max-width: 100%;overflow: auto;}#sk-container-id-2 input.sk-toggleable__control:checked~label.sk-toggleable__label-arrow:before {content: \"▾\";}#sk-container-id-2 div.sk-estimator input.sk-toggleable__control:checked~label.sk-toggleable__label {background-color: #d4ebff;}#sk-container-id-2 div.sk-label input.sk-toggleable__control:checked~label.sk-toggleable__label {background-color: #d4ebff;}#sk-container-id-2 input.sk-hidden--visually {border: 0;clip: rect(1px 1px 1px 1px);clip: rect(1px, 1px, 1px, 1px);height: 1px;margin: -1px;overflow: hidden;padding: 0;position: absolute;width: 1px;}#sk-container-id-2 div.sk-estimator {font-family: monospace;background-color: #f0f8ff;border: 1px dotted black;border-radius: 0.25em;box-sizing: border-box;margin-bottom: 0.5em;}#sk-container-id-2 div.sk-estimator:hover {background-color: #d4ebff;}#sk-container-id-2 div.sk-parallel-item::after {content: \"\";width: 100%;border-bottom: 1px solid gray;flex-grow: 1;}#sk-container-id-2 div.sk-label:hover label.sk-toggleable__label {background-color: #d4ebff;}#sk-container-id-2 div.sk-serial::before {content: \"\";position: absolute;border-left: 1px solid gray;box-sizing: border-box;top: 0;bottom: 0;left: 50%;z-index: 0;}#sk-container-id-2 div.sk-serial {display: flex;flex-direction: column;align-items: center;background-color: white;padding-right: 0.2em;padding-left: 0.2em;position: relative;}#sk-container-id-2 div.sk-item {position: relative;z-index: 1;}#sk-container-id-2 div.sk-parallel {display: flex;align-items: stretch;justify-content: center;background-color: white;position: relative;}#sk-container-id-2 div.sk-item::before, #sk-container-id-2 div.sk-parallel-item::before {content: \"\";position: absolute;border-left: 1px solid gray;box-sizing: border-box;top: 0;bottom: 0;left: 50%;z-index: -1;}#sk-container-id-2 div.sk-parallel-item {display: flex;flex-direction: column;z-index: 1;position: relative;background-color: white;}#sk-container-id-2 div.sk-parallel-item:first-child::after {align-self: flex-end;width: 50%;}#sk-container-id-2 div.sk-parallel-item:last-child::after {align-self: flex-start;width: 50%;}#sk-container-id-2 div.sk-parallel-item:only-child::after {width: 0;}#sk-container-id-2 div.sk-dashed-wrapped {border: 1px dashed gray;margin: 0 0.4em 0.5em 0.4em;box-sizing: border-box;padding-bottom: 0.4em;background-color: white;}#sk-container-id-2 div.sk-label label {font-family: monospace;font-weight: bold;display: inline-block;line-height: 1.2em;}#sk-container-id-2 div.sk-label-container {text-align: center;}#sk-container-id-2 div.sk-container {/* jupyter's `normalize.less` sets `[hidden] { display: none; }` but bootstrap.min.css set `[hidden] { display: none !important; }` so we also need the `!important` here to be able to override the default hidden behavior on the sphinx rendered scikit-learn.org. See: https://github.com/scikit-learn/scikit-learn/issues/21755 */display: inline-block !important;position: relative;}#sk-container-id-2 div.sk-text-repr-fallback {display: none;}</style><div id=\"sk-container-id-2\" class=\"sk-top-container\"><div class=\"sk-text-repr-fallback\"><pre>Pipeline(steps=[(&#x27;vectorizer&#x27;,\n",
       "                 TfidfVectorizer(token_pattern=None,\n",
       "                                 tokenizer=&lt;function &lt;lambda&gt; at 0x104b080e0&gt;)),\n",
       "                (&#x27;model&#x27;, LogisticRegression(max_iter=200000, random_state=0))])</pre><b>In a Jupyter environment, please rerun this cell to show the HTML representation or trust the notebook. <br />On GitHub, the HTML representation is unable to render, please try loading this page with nbviewer.org.</b></div><div class=\"sk-container\" hidden><div class=\"sk-item sk-dashed-wrapped\"><div class=\"sk-label-container\"><div class=\"sk-label sk-toggleable\"><input class=\"sk-toggleable__control sk-hidden--visually\" id=\"sk-estimator-id-2\" type=\"checkbox\" ><label for=\"sk-estimator-id-2\" class=\"sk-toggleable__label sk-toggleable__label-arrow\">Pipeline</label><div class=\"sk-toggleable__content\"><pre>Pipeline(steps=[(&#x27;vectorizer&#x27;,\n",
       "                 TfidfVectorizer(token_pattern=None,\n",
       "                                 tokenizer=&lt;function &lt;lambda&gt; at 0x104b080e0&gt;)),\n",
       "                (&#x27;model&#x27;, LogisticRegression(max_iter=200000, random_state=0))])</pre></div></div></div><div class=\"sk-serial\"><div class=\"sk-item\"><div class=\"sk-estimator sk-toggleable\"><input class=\"sk-toggleable__control sk-hidden--visually\" id=\"sk-estimator-id-3\" type=\"checkbox\" ><label for=\"sk-estimator-id-3\" class=\"sk-toggleable__label sk-toggleable__label-arrow\">TfidfVectorizer</label><div class=\"sk-toggleable__content\"><pre>TfidfVectorizer(token_pattern=None,\n",
       "                tokenizer=&lt;function &lt;lambda&gt; at 0x104b080e0&gt;)</pre></div></div></div><div class=\"sk-item\"><div class=\"sk-estimator sk-toggleable\"><input class=\"sk-toggleable__control sk-hidden--visually\" id=\"sk-estimator-id-4\" type=\"checkbox\" ><label for=\"sk-estimator-id-4\" class=\"sk-toggleable__label sk-toggleable__label-arrow\">LogisticRegression</label><div class=\"sk-toggleable__content\"><pre>LogisticRegression(max_iter=200000, random_state=0)</pre></div></div></div></div></div></div></div>"
      ],
      "text/plain": [
       "Pipeline(steps=[('vectorizer',\n",
       "                 TfidfVectorizer(token_pattern=None,\n",
       "                                 tokenizer=<function <lambda> at 0x104b080e0>)),\n",
       "                ('model', LogisticRegression(max_iter=200000, random_state=0))])"
      ]
     },
     "execution_count": 15,
     "metadata": {},
     "output_type": "execute_result"
    }
   ],
   "source": [
    "model_pipeline. fit(df[\"text\"], df[\"sentiment\"])"
   ]
  },
  {
   "cell_type": "markdown",
   "id": "55b30752-69e6-4450-8dca-4b9aea2e8e7f",
   "metadata": {},
   "source": [
    "сохранение тестового датасета с текстами в переменную"
   ]
  },
  {
   "cell_type": "code",
   "execution_count": 16,
   "id": "091cc6ca-bf5a-4c1b-83d4-7e878dd667cd",
   "metadata": {},
   "outputs": [],
   "source": [
    "df_test=pd.read_csv('test.csv')"
   ]
  },
  {
   "cell_type": "markdown",
   "id": "6bd91120-9fec-4d35-ade6-00476398672d",
   "metadata": {},
   "source": [
    "просмотр"
   ]
  },
  {
   "cell_type": "code",
   "execution_count": 17,
   "id": "2236824f-d6f6-4291-873f-2a21375a7073",
   "metadata": {},
   "outputs": [
    {
     "data": {
      "text/html": [
       "<div>\n",
       "<style scoped>\n",
       "    .dataframe tbody tr th:only-of-type {\n",
       "        vertical-align: middle;\n",
       "    }\n",
       "\n",
       "    .dataframe tbody tr th {\n",
       "        vertical-align: top;\n",
       "    }\n",
       "\n",
       "    .dataframe thead th {\n",
       "        text-align: right;\n",
       "    }\n",
       "</style>\n",
       "<table border=\"1\" class=\"dataframe\">\n",
       "  <thead>\n",
       "    <tr style=\"text-align: right;\">\n",
       "      <th></th>\n",
       "      <th>ID</th>\n",
       "      <th>text</th>\n",
       "    </tr>\n",
       "  </thead>\n",
       "  <tbody>\n",
       "    <tr>\n",
       "      <th>0</th>\n",
       "      <td>0</td>\n",
       "      <td>Развода на деньги нет Наблюдаюсь в Лайфклиник ...</td>\n",
       "    </tr>\n",
       "    <tr>\n",
       "      <th>1</th>\n",
       "      <td>1</td>\n",
       "      <td>Отель выбрали потому что рядом со стадионом. О...</td>\n",
       "    </tr>\n",
       "    <tr>\n",
       "      <th>2</th>\n",
       "      <td>2</td>\n",
       "      <td>Вылечили Гноился с рождения глазик, в поликлин...</td>\n",
       "    </tr>\n",
       "    <tr>\n",
       "      <th>3</th>\n",
       "      <td>3</td>\n",
       "      <td>Хорошее расположение.С вокзала дошли пешком.Но...</td>\n",
       "    </tr>\n",
       "    <tr>\n",
       "      <th>4</th>\n",
       "      <td>4</td>\n",
       "      <td>Отличное месторасположение,прекрасный вид,особ...</td>\n",
       "    </tr>\n",
       "    <tr>\n",
       "      <th>...</th>\n",
       "      <td>...</td>\n",
       "      <td>...</td>\n",
       "    </tr>\n",
       "    <tr>\n",
       "      <th>21093</th>\n",
       "      <td>21093</td>\n",
       "      <td>Несколько лет назад муж останавливался в этом ...</td>\n",
       "    </tr>\n",
       "    <tr>\n",
       "      <th>21094</th>\n",
       "      <td>21094</td>\n",
       "      <td>Спасли от боли После родов у меня появились бо...</td>\n",
       "    </tr>\n",
       "    <tr>\n",
       "      <th>21095</th>\n",
       "      <td>21095</td>\n",
       "      <td>з ролика понятно одно - девушка- наблюдатель  ...</td>\n",
       "    </tr>\n",
       "    <tr>\n",
       "      <th>21096</th>\n",
       "      <td>21096</td>\n",
       "      <td>Остались всем довольны, дружелюбный персонал, ...</td>\n",
       "    </tr>\n",
       "    <tr>\n",
       "      <th>21097</th>\n",
       "      <td>21097</td>\n",
       "      <td>Спасибо огромное за сыночка Хочу выразить огро...</td>\n",
       "    </tr>\n",
       "  </tbody>\n",
       "</table>\n",
       "<p>21098 rows × 2 columns</p>\n",
       "</div>"
      ],
      "text/plain": [
       "          ID                                               text\n",
       "0          0  Развода на деньги нет Наблюдаюсь в Лайфклиник ...\n",
       "1          1  Отель выбрали потому что рядом со стадионом. О...\n",
       "2          2  Вылечили Гноился с рождения глазик, в поликлин...\n",
       "3          3  Хорошее расположение.С вокзала дошли пешком.Но...\n",
       "4          4  Отличное месторасположение,прекрасный вид,особ...\n",
       "...      ...                                                ...\n",
       "21093  21093  Несколько лет назад муж останавливался в этом ...\n",
       "21094  21094  Спасли от боли После родов у меня появились бо...\n",
       "21095  21095  з ролика понятно одно - девушка- наблюдатель  ...\n",
       "21096  21096  Остались всем довольны, дружелюбный персонал, ...\n",
       "21097  21097  Спасибо огромное за сыночка Хочу выразить огро...\n",
       "\n",
       "[21098 rows x 2 columns]"
      ]
     },
     "execution_count": 17,
     "metadata": {},
     "output_type": "execute_result"
    }
   ],
   "source": [
    "df_test"
   ]
  },
  {
   "cell_type": "markdown",
   "id": "90305f2c-bf97-4afb-90b3-a959fcbb8d47",
   "metadata": {},
   "source": [
    "сохранение тестового датасета с значениями в переменную"
   ]
  },
  {
   "cell_type": "code",
   "execution_count": 18,
   "id": "564bcccd-e897-437c-95c3-017cc1172fd2",
   "metadata": {},
   "outputs": [],
   "source": [
    "df_test_sub=pd.read_csv('sample_submission.csv')"
   ]
  },
  {
   "cell_type": "markdown",
   "id": "f7c08b46-11be-4744-81e5-3038964ec04e",
   "metadata": {},
   "source": [
    "просмотр"
   ]
  },
  {
   "cell_type": "code",
   "execution_count": 19,
   "id": "55027aed-8973-400f-beb0-5db0d0f60f01",
   "metadata": {},
   "outputs": [
    {
     "data": {
      "text/html": [
       "<div>\n",
       "<style scoped>\n",
       "    .dataframe tbody tr th:only-of-type {\n",
       "        vertical-align: middle;\n",
       "    }\n",
       "\n",
       "    .dataframe tbody tr th {\n",
       "        vertical-align: top;\n",
       "    }\n",
       "\n",
       "    .dataframe thead th {\n",
       "        text-align: right;\n",
       "    }\n",
       "</style>\n",
       "<table border=\"1\" class=\"dataframe\">\n",
       "  <thead>\n",
       "    <tr style=\"text-align: right;\">\n",
       "      <th></th>\n",
       "      <th>ID</th>\n",
       "      <th>sentiment</th>\n",
       "    </tr>\n",
       "  </thead>\n",
       "  <tbody>\n",
       "    <tr>\n",
       "      <th>0</th>\n",
       "      <td>0</td>\n",
       "      <td>0</td>\n",
       "    </tr>\n",
       "    <tr>\n",
       "      <th>1</th>\n",
       "      <td>1</td>\n",
       "      <td>2</td>\n",
       "    </tr>\n",
       "    <tr>\n",
       "      <th>2</th>\n",
       "      <td>2</td>\n",
       "      <td>2</td>\n",
       "    </tr>\n",
       "    <tr>\n",
       "      <th>3</th>\n",
       "      <td>3</td>\n",
       "      <td>2</td>\n",
       "    </tr>\n",
       "    <tr>\n",
       "      <th>4</th>\n",
       "      <td>4</td>\n",
       "      <td>1</td>\n",
       "    </tr>\n",
       "    <tr>\n",
       "      <th>...</th>\n",
       "      <td>...</td>\n",
       "      <td>...</td>\n",
       "    </tr>\n",
       "    <tr>\n",
       "      <th>21093</th>\n",
       "      <td>21093</td>\n",
       "      <td>0</td>\n",
       "    </tr>\n",
       "    <tr>\n",
       "      <th>21094</th>\n",
       "      <td>21094</td>\n",
       "      <td>0</td>\n",
       "    </tr>\n",
       "    <tr>\n",
       "      <th>21095</th>\n",
       "      <td>21095</td>\n",
       "      <td>0</td>\n",
       "    </tr>\n",
       "    <tr>\n",
       "      <th>21096</th>\n",
       "      <td>21096</td>\n",
       "      <td>0</td>\n",
       "    </tr>\n",
       "    <tr>\n",
       "      <th>21097</th>\n",
       "      <td>21097</td>\n",
       "      <td>1</td>\n",
       "    </tr>\n",
       "  </tbody>\n",
       "</table>\n",
       "<p>21098 rows × 2 columns</p>\n",
       "</div>"
      ],
      "text/plain": [
       "          ID  sentiment\n",
       "0          0          0\n",
       "1          1          2\n",
       "2          2          2\n",
       "3          3          2\n",
       "4          4          1\n",
       "...      ...        ...\n",
       "21093  21093          0\n",
       "21094  21094          0\n",
       "21095  21095          0\n",
       "21096  21096          0\n",
       "21097  21097          1\n",
       "\n",
       "[21098 rows x 2 columns]"
      ]
     },
     "execution_count": 19,
     "metadata": {},
     "output_type": "execute_result"
    }
   ],
   "source": [
    "df_test_sub"
   ]
  },
  {
   "cell_type": "markdown",
   "id": "54ac54b1-191c-4996-93a1-6030f577c1c5",
   "metadata": {},
   "source": [
    "тест модели"
   ]
  },
  {
   "cell_type": "code",
   "execution_count": 20,
   "id": "542a2718-ef9a-4e48-aee6-abd2ecb23295",
   "metadata": {},
   "outputs": [
    {
     "data": {
      "text/plain": [
       "array([1])"
      ]
     },
     "execution_count": 20,
     "metadata": {},
     "output_type": "execute_result"
    }
   ],
   "source": [
    "model_pipeline.predict( [df_test['text'][21097]] )"
   ]
  },
  {
   "cell_type": "code",
   "execution_count": 21,
   "id": "6120a51a-de91-49d0-8ca8-6983bd08bf40",
   "metadata": {},
   "outputs": [
    {
     "data": {
      "text/plain": [
       "array([1])"
      ]
     },
     "execution_count": 21,
     "metadata": {},
     "output_type": "execute_result"
    }
   ],
   "source": [
    "model_pipeline.predict( [df_test['text'][4]] )"
   ]
  },
  {
   "cell_type": "markdown",
   "id": "ade0bd7c-ea21-4a4b-a4b1-5002005d8be9",
   "metadata": {},
   "source": [
    "предсказание"
   ]
  },
  {
   "cell_type": "code",
   "execution_count": 22,
   "id": "3d4fcb0d-6046-4f9d-8663-63c4a34dbf0b",
   "metadata": {},
   "outputs": [
    {
     "name": "stdout",
     "output_type": "stream",
     "text": [
      "[2, 0, 1, 0, 1, 1, 2, 0, 1, 0, 1, 1, 2, 2, 1, 1, 1, 1, 1, 1, 0, 1, 2, 2, 1, 2, 2, 2, 0, 1, 0, 0, 0, 1, 1, 1, 1, 0, 1, 1, 1, 1, 1, 1, 1, 2, 2, 2, 0, 2, 2, 1, 1, 1, 2, 0, 0, 1, 1, 0, 1, 0, 2, 0, 0, 0, 1, 2, 1, 2, 1, 2, 1, 2, 1, 0, 2, 1, 2, 0, 0, 0, 0, 2, 0, 2, 0, 0, 2, 1, 1, 1, 0, 1, 1, 1, 1, 2, 1, 2, 1, 2, 0, 2, 1, 2, 2, 1, 0, 2, 1, 0, 0, 1, 1, 1, 2, 1, 2, 1, 1, 0, 1, 1, 0, 0, 0, 0, 1, 2, 1, 1, 0, 1, 1, 1, 0, 0, 0, 1, 2, 1, 2, 0, 2, 1, 0, 1, 2, 2, 1, 2, 0, 2, 1, 0, 2, 2, 0, 1, 1, 0, 0, 1, 2, 2, 1, 2, 2, 1, 2, 2, 0, 0, 0, 0, 1, 1, 1, 0, 1, 0, 1, 1, 1, 2, 2, 2, 0, 0, 1, 1, 1, 2, 0, 0, 1, 0, 1, 1, 2, 2, 2, 1, 0, 1, 1, 1, 2, 1, 1, 1, 1, 2, 0, 0, 2, 0, 1, 1, 2, 0, 0, 0, 2, 0, 1, 1, 1, 1, 1, 2, 2, 2, 1, 0, 2, 1, 2, 2, 0, 1, 0, 1, 1, 1, 1, 0, 2, 1, 1, 1, 1, 2, 1, 1, 1, 0, 0, 2, 2, 2, 1, 1, 2, 1, 0, 0, 2, 2, 1, 0, 0, 1, 0, 1, 1, 2, 2, 1, 0, 2, 2, 1, 1, 1, 2, 2, 1, 2, 2, 0, 2, 1, 1, 2, 0, 1, 1, 2, 1, 0, 2, 1, 2, 1, 0, 2, 1, 0, 1, 1, 0, 1, 1, 1, 1, 2, 1, 0, 1, 1, 1, 0, 1, 0, 1, 2, 0, 1, 0, 1, 2, 1, 1, 0, 2, 0, 1, 1, 1, 1, 2, 2, 1, 0, 2, 2, 1, 2, 1, 1, 1, 0, 0, 0, 2, 1, 2, 1, 1, 2, 1, 0, 2, 2, 1, 0, 0, 0, 1, 1, 0, 1, 1, 1, 0, 0, 0, 0, 0, 0, 1, 0, 0, 1, 2, 1, 2, 1, 1, 2, 1, 0, 2, 1, 1, 1, 0, 2, 2, 1, 2, 1, 0, 1, 2, 2, 0, 1, 2, 1, 2, 0, 1, 2, 1, 2, 1, 1, 2, 0, 1, 2, 2, 1, 1, 0, 1, 1, 0, 0, 0, 0, 2, 2, 2, 1, 1, 1, 1, 2, 0, 0, 0, 2, 2, 1, 0, 2, 0, 2, 1, 2, 2, 1, 0, 1, 1, 1, 2, 0, 0, 1, 0, 1, 0, 2, 1, 2, 0, 1, 1, 1, 0, 0, 2, 1, 0, 2, 2, 0, 2, 1, 1, 1, 2, 2, 1, 1, 0, 0, 1, 1, 1, 2, 0, 1, 2, 0, 1, 1, 1, 0, 1, 0, 0, 1, 0, 0, 2, 0, 0, 0, 1, 0, 1, 1, 0, 1, 2, 1, 2, 0, 2, 1, 0, 0, 0, 0, 1, 1, 0, 0, 2, 1, 2, 1, 0, 0, 1, 0, 2, 0, 2, 1, 0, 0, 1, 1, 1, 0, 1, 2, 0, 2, 2, 0, 2, 2, 1, 0, 2, 0, 2, 1, 1, 0, 0, 2, 2, 2, 1, 1, 1, 1, 1, 1, 0, 0, 0, 0, 2, 1, 1, 1, 1, 2, 2, 1, 2, 1, 2, 0, 0, 2, 1, 0, 1, 1, 2, 1, 1, 0, 2, 1, 2, 0, 2, 1, 1, 1, 1, 1, 1, 2, 1, 1, 2, 0, 2, 2, 2, 1, 2, 0, 1, 2, 2, 1, 2, 1, 0, 1, 2, 0, 1, 0, 0, 0, 2, 2, 2, 2, 1, 1, 2, 1, 1, 0, 0, 0, 2, 2, 1, 1, 1, 0, 1, 0, 1, 1, 2, 0, 1, 1, 2, 2, 0, 1, 0, 1, 1, 0, 1, 1, 0, 1, 2, 1, 1, 1, 1, 1, 1, 0, 1, 1, 2, 1, 0, 2, 1, 1, 1, 1, 1, 0, 1, 1, 1, 1, 2, 2, 1, 0, 2, 0, 0, 0, 0, 1, 1, 1, 2, 2, 0, 1, 2, 0, 1, 1, 1, 0, 0, 1, 1, 2, 2, 1, 2, 1, 1, 1, 1, 0, 0, 1, 1, 1, 2, 2, 1, 1, 0, 1, 2, 0, 1, 1, 0, 1, 1, 1, 1, 2, 1, 1, 2, 1, 1, 2, 1, 1, 2, 2, 1, 0, 1, 1, 0, 1, 2, 1, 1, 1, 0, 0, 0, 1, 2, 1, 2, 2, 0, 0, 1, 0, 2, 0, 2, 2, 0, 1, 2, 1, 1, 1, 1, 0, 2, 1, 1, 0, 0, 2, 0, 0, 1, 2, 0, 0, 2, 1, 0, 1, 1, 0, 2, 0, 1, 1, 0, 2, 2, 1, 1, 0, 1, 1, 0, 1, 1, 2, 2, 1, 0, 0, 2, 2, 1, 0, 1, 1, 0, 0, 1, 1, 2, 2, 1, 0, 1, 1, 2, 0, 2, 0, 2, 0, 1, 2, 1, 0, 1, 1, 0, 2, 0, 0, 1, 0, 1, 1, 0, 0, 1, 2, 2, 2, 1, 1, 1, 0, 2, 1, 1, 2, 2, 0, 1, 1, 2, 2, 2, 0, 1, 1, 1, 1, 0, 1, 0, 0, 0, 1, 0, 0, 1, 1, 1, 1, 0, 2, 1, 0, 1, 1, 0, 1, 1, 1, 2, 2, 0, 0, 2, 2, 1, 1, 1, 1, 2, 1, 0, 1, 1, 0, 1, 0, 2, 1, 0, 1, 2, 0, 1, 1, 2, 0, 1, 1, 1, 1, 2, 2, 0, 2, 0, 0, 2, 1, 2, 2, 0, 0, 0, 2, 0, 1, 0, 1, 2, 1, 1, 1, 0, 2, 2, 2, 1, 1, 1, 0, 1, 2, 1, 2, 1, 1, 0, 2, 1, 1, 1, 1, 2, 2, 0, 2, 1, 0, 1, 1, 0, 2, 0, 0, 0, 1, 2, 2, 2, 0, 2, 2, 1, 2, 1, 1, 2, 1, 0, 1, 0, 1, 2, 1, 2, 2, 1, 0, 1, 1, 0, 1, 0, 2, 2, 1, 0, 1, 2, 0, 0, 1, 2, 0, 1, 1, 1, 0, 1, 0, 1, 0, 0, 1, 1, 2, 2, 2, 1, 0, 0, 1, 1, 1, 0, 1, 1, 2, 0, 1, 1, 1, 1, 1, 0, 1, 1, 0, 0, 2, 1, 0, 0, 0, 1, 1, 1, 2, 0, 1, 2, 1, 2, 2, 1, 1, 0, 0, 1, 1, 1, 0, 0, 1, 1, 0, 1, 1, 1, 0, 1, 2, 1, 1, 2, 1, 1, 1, 2, 0, 2, 0, 1, 2, 1, 0, 2, 0, 0, 1, 1, 1, 0, 1, 1, 1, 1, 2, 1, 0, 0, 0, 1, 2, 2, 1, 1, 1, 0, 1, 1, 1, 1, 1, 0, 1, 1, 1, 0, 2, 1, 0, 1, 1, 1, 1, 1, 1, 1, 0, 1, 1, 0, 2, 1, 0, 1, 2, 2, 1, 1, 2, 1, 1, 1, 1, 1, 1, 2, 0, 1, 1, 2, 1, 1, 1, 1, 2, 1, 1, 2, 2, 0, 1, 1, 1, 1, 0, 1, 0, 0, 1, 0, 0, 0, 0, 1, 0, 0, 1, 1, 0, 1, 2, 1, 2, 0, 2, 0, 0, 0, 0, 1, 1, 1, 1, 0, 2, 0, 0, 1, 1, 1, 0, 2, 2, 1, 1, 0, 0, 0, 1, 0, 1, 0, 1, 1, 1, 1, 0, 1, 2, 0, 2, 1, 2, 2, 2, 0, 1, 0, 1, 1, 1, 1, 2, 1, 1, 1, 2, 1, 0, 1, 1, 0, 2, 0, 1, 2, 2, 0, 1, 1, 1, 2, 0, 1, 0, 2, 1, 0, 2, 2, 1, 2, 1, 1, 0, 1, 1, 1, 1, 1, 1, 1, 2, 2, 1, 1, 0, 1, 0, 2, 1, 2, 0, 1, 0, 2, 2, 1, 1, 0, 2, 2, 1, 0, 2, 0, 2, 1, 1, 2, 0, 2, 1, 2, 0, 1, 0, 0, 0, 1, 0, 1, 1, 0, 1, 0, 0, 1, 0, 1, 2, 0, 1, 1, 2, 2, 2, 1, 1, 1, 1, 1, 1, 0, 1, 1, 1, 2, 2, 1, 0, 0, 0, 2, 2, 2, 0, 1, 1, 1, 0, 2, 2, 1, 1, 0, 1, 0, 1, 2, 1, 0, 0, 1, 1, 1, 2, 1, 1, 1, 0, 1, 1, 1, 1, 2, 0, 0, 0, 2, 0, 2, 1, 1, 0, 0, 0, 1, 1, 0, 1, 0, 1, 2, 1, 2, 1, 1, 2, 2, 1, 1, 2, 1, 2, 1, 1, 2, 1, 2, 1, 0, 1, 2, 0, 0, 1, 0, 1, 2, 0, 1, 2, 1, 1, 2, 2, 1, 2, 0, 2, 0, 2, 0, 1, 0, 1, 2, 1, 1, 1, 1, 2, 0, 1, 2, 1, 1, 2, 0, 1, 2, 1, 1, 0, 1, 1, 2, 2, 1, 1, 0, 1, 0, 0, 1, 1, 0, 0, 1, 2, 1, 0, 1, 1, 0, 2, 1, 1, 1, 1, 0, 2, 1, 1, 1, 2, 2, 1, 2, 1, 1, 1, 1, 2, 2, 2, 1, 0, 1, 1, 0, 1, 1, 2, 1, 0, 0, 1, 0, 1, 1, 1, 2, 2, 1, 1, 1, 0, 1, 1, 0, 1, 1, 2, 0, 1, 1, 1, 1, 2, 2, 1, 1, 2, 1, 0, 0, 2, 0, 1, 0, 2, 1, 1, 2, 2, 1, 2, 1, 1, 1, 0, 1, 1, 1, 2, 1, 1, 1, 1, 0, 0, 1, 1, 2, 2, 2, 1, 0, 1, 1, 2, 2, 0, 1, 0, 0, 1, 2, 2, 1, 2, 2, 1, 1, 1, 0, 0, 1, 1, 1, 2, 1, 2, 0, 1, 0, 1, 1, 1, 0, 1, 2, 0, 1, 1, 0, 2, 2, 2, 2, 1, 2, 2, 2, 0, 1, 1, 0, 1, 1, 0, 0, 0, 1, 2, 1, 1, 0, 1, 0, 0, 1, 1, 0, 1, 1, 1, 0, 2, 2, 1, 1, 1, 1, 0, 1, 2, 0, 1, 0, 0, 0, 1, 1, 0, 1, 2, 0, 1, 1, 1, 1, 2, 0, 2, 2, 2, 1, 1, 1, 0, 1, 1, 0, 0, 1, 2, 1, 2, 1, 1, 1, 1, 2, 2, 1, 1, 2, 2, 0, 2, 1, 1, 0, 1, 1, 1, 0, 1, 0, 0, 2, 0, 1, 1, 0, 0, 2, 0, 1, 0, 0, 2, 0, 0, 2, 2, 2, 1, 1, 2, 0, 1, 2, 0, 0, 0, 1, 1, 2, 1, 1, 1, 1, 2, 2, 1, 1, 0, 1, 0, 2, 1, 0, 1, 1, 1, 1, 2, 2, 1, 0, 1, 0, 2, 1, 2, 0, 1, 1, 0, 0, 1, 0, 2, 1, 1, 1, 1, 2, 1, 1, 2, 1, 1, 2, 0, 1, 1, 1, 2, 1, 1, 1, 0, 1, 2, 1, 0, 1, 1, 1, 1, 1, 1, 1, 1, 0, 2, 1, 2, 0, 1, 0, 0, 1, 0, 2, 0, 0, 2, 2, 2, 2, 1, 0, 0, 1, 1, 0, 2, 0, 0, 1, 0, 1, 1, 1, 1, 1, 0, 0, 0, 1, 2, 1, 0, 1, 2, 1, 0, 2, 0, 1, 2, 0, 0, 1, 2, 0, 2, 2, 1, 2, 2, 0, 1, 0, 2, 0, 2, 1, 2, 0, 2, 1, 1, 1, 0, 2, 1, 1, 0, 1, 2, 2, 2, 2, 1, 1, 2, 1, 1, 2, 1, 0, 2, 2, 1, 1, 1, 1, 2, 2, 2, 1, 1, 1, 0, 0, 0, 0, 1, 2, 1, 1, 0, 2, 0, 1, 1, 1, 1, 2, 0, 1, 1, 1, 0, 1, 2, 1, 1, 1, 0, 1, 2, 1, 1, 1, 1, 2, 0, 1, 1, 1, 2, 2, 0, 2, 1, 2, 1, 2, 0, 0, 2, 1, 0, 0, 0, 2, 2, 0, 0, 1, 1, 0, 0, 2, 1, 1, 1, 1, 0, 1, 2, 0, 1, 1, 1, 2, 1, 1, 0, 2, 0, 1, 1, 1, 1, 0, 1, 0, 2, 0, 1, 0, 0, 0, 1, 0, 0, 2, 0, 0, 2, 0, 1, 2, 1, 2, 2, 0, 1, 2, 2, 1, 0, 0, 1, 0, 2, 1, 0, 1, 1, 2, 2, 1, 1, 0, 2, 2, 0, 2, 2, 1, 2, 1, 0, 2, 1, 0, 2, 1, 0, 2, 0, 1, 1, 1, 2, 1, 1, 2, 0, 2, 0, 1, 1, 1, 2, 2, 2, 1, 1, 1, 1, 2, 0, 1, 1, 1, 0, 2, 1, 1, 2, 2, 1, 2, 1, 1, 1, 1, 2, 1, 1, 0, 1, 2, 2, 1, 0, 2, 1, 2, 1, 1, 0, 1, 0, 1, 1, 0, 1, 0, 0, 1, 2, 0, 1, 1, 0, 0, 1, 1, 0, 2, 2, 1, 1, 2, 2, 1, 1, 1, 0, 1, 0, 1, 2, 1, 2, 1, 1, 1, 2, 2, 1, 0, 1, 2, 1, 0, 0, 0, 2, 2, 1, 0, 1, 0, 2, 1, 0, 1, 1, 1, 0, 0, 2, 2, 0, 2, 0, 1, 0, 1, 0, 1, 1, 1, 1, 0, 2, 1, 2, 2, 1, 2, 1, 2, 1, 2, 1, 1, 0, 2, 1, 0, 0, 2, 0, 1, 1, 0, 2, 2, 0, 1, 0, 1, 1, 1, 1, 1, 0, 1, 1, 0, 2, 0, 0, 1, 2, 1, 2, 0, 2, 1, 0, 1, 0, 2, 0, 2, 1, 1, 1, 2, 1, 2, 0, 2, 1, 1, 0, 0, 2, 0, 2, 0, 1, 1, 2, 2, 1, 2, 1, 2, 2, 0, 0, 1, 2, 1, 1, 1, 2, 1, 0, 2, 1, 1, 1, 1, 2, 2, 2, 0, 0, 0, 1, 0, 0, 0, 1, 0, 2, 1, 1, 2, 1, 0, 2, 0, 1, 1, 1, 1, 2, 1, 1, 1, 0, 1, 0, 0, 0, 1, 1, 1, 1, 2, 2, 1, 1, 2, 1, 1, 1, 0, 1, 2, 0, 2, 2, 1, 1, 0, 1, 0, 1, 2, 1, 0, 1, 1, 0, 0, 1, 2, 0, 2, 1, 1, 2, 1, 2, 0, 2, 0, 2, 1, 1, 1, 0, 0, 1, 0, 1, 1, 0, 1, 1, 1, 0, 1, 1, 1, 0, 2, 1, 0, 1, 2, 1, 1, 1, 0, 2, 0, 1, 0, 1, 0, 1, 1, 1, 2, 1, 1, 1, 1, 0, 2, 1, 1, 2, 1, 1, 1, 2, 2, 1, 2, 2, 1, 2, 2, 1, 1, 0, 2, 1, 0, 0, 1, 1, 0, 0, 0, 2, 1, 1, 0, 1, 1, 1, 2, 2, 1, 1, 2, 2, 1, 0, 0, 1, 1, 2, 1, 1, 2, 0, 0, 0, 1, 0, 0, 1, 2, 2, 1, 0, 1, 0, 0, 2, 0, 2, 1, 0, 1, 1, 0, 0, 1, 2, 1, 1, 1, 2, 1, 1, 1, 1, 0, 0, 2, 0, 0, 1, 1, 1, 1, 1, 1, 1, 2, 1, 1, 2, 2, 2, 1, 2, 1, 1, 2, 1, 0, 2, 0, 0, 1, 0, 2, 1, 1, 2, 1, 1, 0, 0, 2, 1, 1, 1, 1, 1, 1, 1, 1, 2, 0, 1, 1, 1, 2, 2, 1, 0, 0, 1, 0, 1, 2, 0, 2, 1, 0, 1, 1, 2, 2, 0, 1, 2, 1, 0, 1, 2, 1, 2, 0, 1, 1, 1, 0, 1, 1, 1, 0, 1, 0, 1, 1, 0, 2, 0, 0, 2, 1, 2, 1, 1, 1, 0, 0, 2, 1, 0, 1, 0, 1, 2, 2, 0, 1, 2, 1, 0, 1, 2, 0, 1, 1, 1, 1, 1, 0, 1, 0, 1, 1, 1, 0, 2, 1, 1, 1, 1, 2, 1, 1, 2, 2, 0, 1, 1, 0, 2, 1, 0, 2, 2, 1, 1, 0, 2, 0, 1, 1, 0, 1, 2, 1, 1, 2, 1, 0, 1, 2, 2, 1, 0, 1, 1, 1, 1, 2, 2, 1, 1, 2, 1, 0, 0, 0, 0, 1, 1, 2, 1, 2, 1, 1, 2, 0, 0, 0, 2, 1, 1, 1, 0, 1, 2, 2, 0, 2, 1, 2, 2, 0, 1, 0, 2, 1, 0, 1, 1, 0, 0, 1, 1, 0, 1, 1, 1, 1, 0, 1, 2, 2, 0, 1, 1, 2, 2, 1, 0, 2, 1, 2, 1, 2, 2, 2, 2, 1, 1, 1, 1, 1, 1, 1, 2, 0, 0, 1, 2, 0, 0, 2, 1, 0, 1, 2, 0, 2, 1, 1, 1, 0, 2, 2, 1, 0, 0, 0, 0, 1, 1, 1, 1, 1, 2, 1, 1, 0, 1, 2, 1, 0, 0, 0, 0, 0, 0, 1, 2, 1, 2, 2, 2, 0, 2, 0, 1, 2, 1, 1, 0, 2, 1, 0, 0, 1, 0, 0, 2, 1, 1, 1, 1, 0, 1, 1, 0, 0, 1, 0, 1, 2, 2, 0, 1, 1, 2, 2, 1, 1, 0, 0, 1, 2, 0, 2, 0, 2, 1, 1, 0, 1, 1, 0, 0, 2, 2, 1, 1, 0, 0, 1, 1, 1, 1, 2, 2, 0, 1, 1, 1, 0, 1, 1, 1, 2, 1, 1, 2, 1, 2, 1, 2, 1, 1, 1, 1, 2, 1, 2, 1, 2, 1, 0, 2, 1, 2, 0, 1, 2, 2, 2, 0, 1, 2, 1, 2, 1, 1, 1, 0, 1, 1, 1, 2, 1, 1, 1, 2, 0, 0, 1, 1, 1, 1, 1, 1, 2, 1, 0, 0, 1, 0, 1, 1, 2, 1, 1, 1, 1, 2, 2, 1, 2, 1, 2, 2, 1, 1, 1, 1, 0, 2, 2, 0, 0, 1, 2, 1, 2, 2, 1, 2, 2, 1, 0, 1, 1, 2, 2, 1, 0, 1, 1, 2, 1, 1, 0, 1, 0, 1, 0, 1, 0, 1, 2, 0, 0, 2, 1, 1, 1, 1, 0, 1, 0, 1, 0, 1, 1, 2, 1, 1, 1, 1, 2, 0, 2, 2, 1, 1, 1, 0, 1, 0, 1, 1, 1, 1, 1, 2, 0, 1, 1, 0, 1, 1, 2, 2, 0, 0, 2, 1, 1, 0, 1, 1, 2, 1, 1, 1, 0, 0, 0, 0, 1, 2, 0, 1, 2, 0, 0, 2, 1, 2, 1, 0, 2, 1, 2, 0, 2, 0, 2, 1, 0, 1, 1, 0, 2, 2, 1, 0, 1, 0, 1, 0, 2, 1, 1, 0, 1, 1, 1, 2, 1, 1, 0, 0, 0, 0, 1, 0, 1, 0, 1, 1, 1, 1, 0, 1, 1, 1, 0, 0, 1, 0, 2, 1, 1, 1, 2, 0, 2, 0, 1, 2, 1, 1, 1, 2, 1, 1, 2, 1, 2, 1, 0, 1, 0, 1, 1, 1, 1, 2, 1, 2, 1, 1, 0, 2, 1, 1, 1, 0, 1, 0, 1, 0, 0, 2, 1, 0, 2, 1, 1, 1, 1, 2, 2, 0, 1, 2, 1, 1, 0, 1, 1, 0, 2, 1, 2, 2, 1, 1, 1, 2, 1, 0, 2, 1, 1, 2, 0, 0, 0, 1, 1, 2, 0, 1, 1, 1, 1, 1, 1, 0, 1, 2, 2, 2, 0, 2, 2, 1, 1, 1, 1, 1, 2, 1, 1, 1, 2, 2, 1, 2, 2, 1, 1, 1, 1, 1, 1, 0, 2, 0, 1, 1, 2, 2, 0, 1, 1, 0, 1, 2, 2, 1, 1, 1, 1, 0, 2, 1, 1, 1, 2, 0, 2, 1, 1, 2, 0, 0, 1, 0, 1, 2, 1, 1, 2, 0, 0, 0, 2, 1, 2, 0, 1, 2, 2, 0, 1, 1, 1, 2, 0, 2, 1, 0, 1, 1, 1, 2, 0, 2, 0, 2, 0, 1, 0, 1, 1, 0, 2, 0, 2, 1, 1, 2, 2, 0, 1, 1, 0, 1, 1, 0, 2, 2, 1, 1, 1, 1, 0, 1, 2, 0, 1, 0, 0, 1, 0, 2, 2, 0, 0, 1, 0, 2, 1, 2, 0, 1, 2, 0, 0, 1, 1, 1, 0, 1, 0, 1, 2, 0, 2, 2, 1, 0, 1, 1, 1, 0, 0, 2, 2, 1, 0, 1, 2, 0, 1, 0, 0, 1, 0, 0, 1, 1, 2, 1, 2, 2, 1, 0, 2, 2, 0, 2, 1, 0, 0, 1, 1, 2, 0, 1, 0, 1, 2, 1, 2, 2, 0, 1, 0, 2, 1, 2, 1, 1, 1, 1, 2, 1, 2, 1, 0, 2, 2, 1, 1, 1, 0, 2, 1, 0, 1, 2, 2, 2, 1, 0, 1, 2, 1, 1, 1, 2, 0, 1, 0, 1, 1, 1, 0, 1, 0, 1, 1, 0, 0, 1, 1, 1, 0, 0, 2, 0, 1, 1, 0, 0, 1, 2, 1, 1, 2, 0, 0, 2, 2, 2, 1, 1, 2, 1, 2, 1, 1, 1, 1, 1, 1, 1, 1, 2, 2, 1, 1, 2, 1, 1, 1, 1, 0, 2, 1, 0, 0, 1, 2, 1, 1, 0, 1, 2, 1, 2, 1, 2, 1, 0, 1, 1, 1, 0, 1, 0, 2, 0, 0, 2, 1, 2, 1, 2, 1, 1, 2, 2, 0, 2, 1, 2, 1, 2, 1, 1, 2, 0, 1, 1, 1, 0, 1, 0, 0, 0, 1, 1, 1, 1, 2, 2, 1, 1, 0, 1, 1, 1, 1, 2, 1, 1, 2, 2, 1, 1, 2, 0, 0, 1, 1, 2, 0, 0, 1, 1, 1, 2, 1, 1, 0, 1, 1, 1, 1, 2, 2, 2, 0, 2, 1, 1, 0, 0, 1, 1, 0, 0, 1, 2, 2, 1, 1, 1, 2, 1, 0, 1, 1, 2, 2, 1, 2, 1, 1, 1, 1, 0, 1, 0, 1, 2, 1, 0, 1, 0, 0, 0, 1, 2, 1, 1, 2, 1, 1, 1, 0, 1, 2, 2, 1, 0, 1, 0, 1, 1, 2, 1, 2, 1, 1, 1, 1, 2, 1, 1, 1, 1, 0, 1, 2, 2, 0, 1, 0, 2, 1, 0, 1, 1, 0, 1, 1, 1, 0, 1, 2, 2, 1, 1, 0, 0, 1, 2, 0, 1, 0, 2, 1, 1, 1, 1, 2, 2, 0, 1, 0, 0, 2, 1, 1, 2, 2, 0, 0, 0, 1, 1, 1, 1, 1, 2, 1, 1, 0, 0, 2, 0, 2, 1, 0, 1, 1, 1, 1, 0, 1, 1, 0, 0, 0, 0, 1, 1, 0, 0, 1, 0, 1, 0, 0, 1, 1, 0, 1, 1, 1, 1, 1, 2, 0, 0, 0, 0, 1, 2, 1, 0, 1, 1, 1, 1, 1, 0, 2, 2, 1, 2, 1, 0, 0, 2, 1, 0, 2, 1, 2, 1, 2, 0, 1, 2, 1, 0, 0, 2, 1, 1, 1, 1, 1, 0, 1, 1, 1, 1, 1, 2, 1, 2, 1, 2, 1, 1, 2, 2, 2, 1, 2, 2, 0, 2, 1, 1, 2, 0, 0, 1, 2, 1, 2, 0, 2, 1, 1, 2, 2, 1, 1, 1, 1, 0, 0, 1, 0, 0, 2, 1, 1, 1, 1, 0, 1, 0, 1, 1, 1, 0, 1, 1, 1, 1, 0, 1, 1, 2, 2, 2, 1, 1, 0, 2, 2, 2, 0, 1, 1, 0, 1, 1, 0, 2, 1, 1, 0, 1, 0, 1, 0, 1, 2, 0, 2, 2, 1, 1, 0, 0, 2, 1, 1, 0, 2, 1, 1, 1, 1, 2, 2, 2, 1, 1, 2, 2, 2, 2, 1, 2, 2, 0, 2, 1, 2, 2, 0, 1, 1, 1, 1, 2, 2, 0, 1, 1, 0, 2, 1, 2, 1, 1, 1, 0, 2, 1, 1, 1, 0, 1, 0, 1, 1, 1, 2, 1, 2, 0, 0, 1, 0, 2, 2, 0, 1, 1, 0, 1, 0, 1, 1, 1, 1, 2, 1, 0, 0, 0, 1, 2, 1, 1, 2, 2, 1, 0, 0, 1, 1, 2, 1, 0, 2, 2, 1, 1, 1, 1, 0, 1, 1, 0, 1, 2, 1, 1, 0, 1, 2, 1, 1, 0, 0, 1, 2, 0, 1, 0, 1, 2, 0, 1, 2, 1, 0, 1, 0, 1, 2, 0, 2, 0, 0, 2, 2, 1, 1, 0, 2, 2, 0, 1, 2, 1, 1, 1, 1, 1, 2, 1, 2, 2, 2, 2, 0, 2, 1, 0, 1, 0, 1, 1, 1, 2, 1, 0, 2, 1, 1, 1, 2, 2, 1, 2, 2, 2, 1, 1, 1, 0, 2, 0, 1, 1, 0, 1, 1, 1, 2, 2, 1, 2, 1, 1, 0, 0, 2, 0, 1, 2, 1, 0, 1, 1, 1, 1, 0, 2, 1, 1, 1, 1, 2, 0, 0, 1, 1, 1, 1, 1, 1, 1, 0, 0, 0, 1, 1, 2, 0, 1, 1, 1, 0, 0, 0, 0, 1, 1, 1, 1, 1, 1, 0, 2, 2, 2, 1, 0, 0, 1, 0, 1, 1, 1, 0, 2, 0, 0, 0, 0, 1, 2, 0, 0, 1, 2, 0, 1, 1, 1, 1, 2, 2, 0, 1, 0, 2, 0, 0, 1, 1, 1, 0, 1, 1, 1, 1, 2, 0, 1, 2, 2, 2, 2, 0, 2, 2, 2, 0, 0, 0, 2, 2, 2, 2, 0, 1, 0, 0, 2, 0, 1, 0, 1, 2, 1, 2, 1, 1, 1, 0, 1, 1, 0, 1, 2, 2, 0, 1, 0, 1, 2, 2, 1, 2, 0, 1, 0, 2, 1, 1, 1, 1, 2, 1, 1, 1, 1, 1, 0, 2, 1, 1, 2, 2, 2, 1, 1, 0, 2, 1, 1, 0, 1, 1, 1, 2, 2, 1, 0, 0, 0, 0, 1, 2, 1, 2, 0, 1, 0, 0, 1, 2, 0, 1, 0, 1, 1, 1, 2, 1, 0, 1, 0, 2, 0, 0, 0, 2, 1, 1, 1, 2, 0, 2, 0, 0, 0, 2, 1, 0, 1, 0, 1, 1, 1, 1, 0, 0, 1, 1, 1, 1, 2, 0, 0, 2, 2, 1, 0, 0, 2, 1, 2, 0, 1, 2, 1, 1, 0, 1, 1, 1, 1, 2, 0, 1, 1, 2, 1, 2, 1, 1, 1, 1, 0, 0, 1, 1, 1, 0, 0, 0, 1, 1, 0, 1, 2, 0, 1, 0, 2, 0, 0, 2, 1, 1, 1, 0, 0, 2, 2, 2, 1, 1, 2, 1, 0, 0, 1, 1, 1, 1, 1, 1, 2, 1, 0, 2, 0, 0, 1, 0, 0, 2, 0, 0, 1, 2, 1, 1, 1, 1, 1, 2, 0, 2, 2, 0, 0, 1, 2, 1, 0, 1, 1, 0, 1, 1, 0, 2, 1, 2, 1, 0, 0, 2, 1, 2, 0, 1, 2, 0, 1, 1, 0, 0, 1, 1, 2, 0, 2, 0, 0, 2, 1, 1, 2, 1, 1, 1, 0, 2, 2, 1, 1, 2, 1, 0, 0, 0, 0, 2, 1, 2, 1, 1, 1, 2, 2, 1, 1, 1, 1, 0, 1, 1, 1, 1, 1, 0, 2, 1, 1, 2, 0, 2, 1, 0, 1, 1, 0, 2, 1, 0, 0, 1, 1, 1, 2, 2, 2, 0, 1, 0, 2, 1, 0, 1, 1, 1, 2, 1, 0, 2, 1, 1, 1, 1, 0, 1, 1, 0, 1, 1, 1, 2, 0, 0, 0, 0, 1, 0, 1, 0, 1, 0, 2, 0, 2, 2, 1, 1, 0, 0, 1, 1, 1, 1, 1, 1, 2, 2, 0, 2, 1, 1, 0, 1, 1, 0, 1, 1, 1, 1, 1, 0, 1, 1, 1, 0, 2, 1, 1, 2, 0, 1, 2, 1, 0, 2, 2, 1, 1, 2, 2, 1, 1, 0, 2, 1, 2, 1, 2, 0, 1, 1, 1, 0, 1, 1, 0, 0, 1, 0, 0, 0, 2, 1, 0, 0, 1, 1, 1, 0, 1, 1, 0, 0, 1, 1, 2, 0, 1, 1, 0, 0, 1, 2, 1, 1, 1, 1, 2, 1, 0, 1, 1, 0, 2, 1, 1, 1, 2, 0, 1, 0, 0, 2, 1, 1, 1, 2, 1, 0, 1, 1, 1, 1, 1, 0, 1, 0, 2, 2, 0, 2, 1, 1, 1, 1, 1, 2, 0, 1, 0, 1, 1, 1, 1, 1, 2, 1, 2, 0, 2, 0, 1, 1, 2, 0, 1, 1, 2, 1, 1, 1, 1, 1, 1, 0, 1, 1, 1, 1, 0, 1, 2, 1, 2, 1, 1, 0, 2, 1, 1, 2, 1, 1, 2, 0, 1, 2, 2, 0, 2, 1, 0, 1, 2, 1, 1, 2, 1, 1, 0, 2, 1, 1, 2, 2, 0, 1, 1, 1, 1, 2, 1, 1, 1, 2, 1, 2, 1, 2, 1, 1, 1, 1, 1, 2, 0, 2, 0, 1, 2, 0, 1, 1, 1, 1, 1, 1, 1, 1, 0, 2, 1, 1, 1, 1, 1, 2, 0, 2, 1, 1, 2, 1, 1, 1, 2, 1, 2, 1, 1, 0, 2, 1, 1, 2, 2, 2, 2, 1, 2, 2, 1, 1, 1, 1, 1, 1, 1, 2, 1, 2, 0, 1, 2, 2, 1, 1, 1, 2, 1, 2, 1, 2, 0, 1, 1, 2, 0, 1, 2, 2, 2, 0, 0, 2, 1, 1, 1, 1, 2, 1, 0, 0, 1, 1, 0, 2, 2, 1, 1, 1, 1, 0, 0, 1, 2, 2, 0, 1, 1, 1, 2, 1, 2, 0, 1, 2, 1, 1, 0, 0, 0, 0, 1, 0, 2, 1, 1, 1, 1, 1, 0, 2, 1, 1, 0, 1, 0, 0, 1, 1, 1, 1, 0, 1, 0, 1, 2, 2, 2, 1, 1, 1, 1, 0, 0, 1, 1, 2, 1, 0, 2, 2, 1, 1, 1, 2, 1, 0, 1, 2, 1, 2, 1, 1, 2, 1, 1, 0, 2, 0, 1, 2, 0, 1, 1, 1, 1, 0, 1, 0, 1, 1, 0, 1, 1, 1, 0, 2, 1, 0, 0, 2, 2, 0, 2, 1, 0, 0, 1, 1, 2, 1, 0, 0, 2, 2, 1, 0, 2, 2, 1, 0, 0, 2, 1, 2, 1, 2, 0, 2, 2, 1, 2, 1, 1, 2, 1, 1, 0, 1, 1, 0, 1, 2, 2, 0, 2, 2, 0, 0, 0, 1, 2, 0, 1, 2, 1, 0, 1, 0, 1, 1, 1, 1, 1, 2, 1, 1, 1, 1, 1, 0, 0, 1, 0, 2, 2, 1, 0, 1, 1, 1, 2, 2, 1, 2, 0, 2, 0, 1, 1, 1, 1, 1, 1, 1, 1, 0, 1, 1, 1, 1, 0, 1, 2, 1, 2, 1, 0, 1, 0, 1, 0, 1, 1, 1, 0, 0, 2, 1, 0, 1, 1, 1, 0, 1, 1, 1, 1, 2, 0, 1, 2, 0, 1, 2, 0, 2, 0, 1, 1, 1, 1, 2, 0, 0, 1, 1, 1, 0, 1, 1, 0, 1, 1, 1, 0, 1, 1, 1, 0, 0, 2, 2, 0, 1, 0, 0, 2, 0, 1, 0, 1, 2, 1, 1, 0, 2, 1, 2, 1, 1, 2, 0, 0, 0, 1, 1, 0, 0, 0, 2, 1, 2, 1, 0, 2, 1, 1, 1, 1, 2, 0, 1, 0, 1, 2, 1, 1, 0, 0, 1, 1, 1, 2, 1, 1, 1, 0, 1, 2, 1, 1, 2, 0, 1, 0, 2, 1, 0, 1, 1, 1, 0, 2, 0, 1, 1, 1, 1, 2, 1, 2, 2, 2, 0, 1, 0, 1, 1, 1, 0, 1, 1, 2, 2, 1, 2, 1, 2, 1, 1, 2, 0, 2, 0, 1, 1, 0, 1, 1, 0, 0, 1, 1, 1, 1, 2, 2, 1, 1, 2, 1, 1, 0, 1, 1, 2, 1, 1, 1, 1, 2, 1, 2, 1, 2, 0, 1, 0, 2, 2, 1, 0, 2, 2, 0, 2, 0, 2, 1, 1, 0, 2, 0, 1, 1, 2, 2, 0, 1, 1, 1, 1, 1, 2, 0, 2, 1, 1, 1, 2, 2, 2, 2, 0, 1, 0, 1, 1, 0, 2, 1, 1, 0, 1, 2, 0, 1, 0, 0, 2, 2, 1, 1, 1, 1, 1, 1, 2, 0, 2, 1, 2, 1, 2, 1, 2, 1, 0, 1, 1, 0, 0, 1, 1, 2, 1, 2, 2, 0, 1, 1, 1, 1, 0, 1, 2, 1, 0, 1, 2, 1, 2, 1, 2, 0, 2, 0, 1, 0, 0, 0, 1, 1, 1, 0, 1, 1, 0, 1, 2, 0, 1, 0, 1, 1, 1, 1, 1, 1, 0, 0, 1, 1, 1, 2, 1, 2, 1, 1, 2, 1, 1, 0, 2, 2, 1, 0, 0, 1, 1, 1, 2, 0, 0, 1, 1, 2, 0, 1, 2, 2, 2, 2, 0, 0, 1, 2, 1, 2, 1, 0, 2, 2, 0, 0, 0, 1, 1, 0, 0, 0, 1, 1, 2, 1, 1, 1, 1, 2, 1, 2, 0, 1, 2, 1, 1, 2, 2, 1, 1, 2, 0, 2, 1, 2, 0, 1, 0, 0, 0, 0, 0, 2, 0, 1, 0, 1, 0, 0, 1, 1, 1, 2, 1, 2, 1, 0, 0, 0, 1, 0, 1, 1, 2, 1, 2, 0, 1, 1, 2, 0, 2, 1, 2, 0, 2, 1, 2, 1, 0, 0, 0, 0, 1, 1, 1, 1, 2, 1, 0, 1, 1, 0, 2, 1, 1, 1, 1, 1, 2, 0, 1, 1, 0, 1, 0, 1, 2, 2, 0, 1, 1, 1, 1, 0, 2, 0, 2, 1, 1, 0, 1, 2, 1, 1, 1, 0, 0, 0, 1, 0, 2, 0, 0, 0, 0, 2, 1, 2, 2, 0, 2, 1, 0, 0, 0, 1, 1, 1, 1, 1, 0, 1, 1, 0, 1, 1, 1, 2, 0, 0, 2, 2, 2, 2, 1, 0, 0, 0, 1, 1, 0, 1, 2, 2, 2, 1, 2, 1, 1, 1, 2, 0, 0, 2, 1, 2, 2, 2, 0, 2, 1, 1, 1, 1, 0, 0, 1, 2, 0, 1, 1, 0, 2, 1, 2, 1, 1, 1, 1, 2, 1, 2, 1, 1, 1, 1, 0, 2, 0, 1, 1, 2, 1, 2, 0, 1, 0, 1, 1, 1, 0, 1, 0, 1, 1, 2, 1, 0, 2, 0, 0, 0, 1, 1, 2, 0, 1, 1, 1, 2, 2, 0, 2, 2, 1, 2, 2, 1, 1, 1, 0, 1, 0, 2, 1, 1, 1, 1, 0, 1, 1, 1, 1, 2, 1, 1, 1, 1, 1, 0, 1, 0, 2, 0, 0, 1, 2, 1, 1, 1, 1, 1, 1, 1, 0, 2, 0, 1, 1, 1, 0, 2, 1, 0, 2, 0, 0, 2, 0, 1, 2, 1, 2, 2, 1, 2, 1, 1, 0, 1, 2, 0, 0, 1, 0, 1, 2, 2, 0, 1, 2, 1, 1, 1, 0, 0, 1, 2, 2, 2, 1, 2, 0, 2, 1, 1, 2, 0, 0, 1, 1, 1, 2, 2, 2, 1, 2, 0, 0, 2, 2, 0, 1, 1, 2, 0, 1, 0, 0, 1, 1, 0, 1, 2, 0, 2, 1, 1, 0, 1, 2, 0, 1, 2, 1, 0, 1, 0, 0, 1, 0, 0, 1, 1, 1, 0, 0, 1, 1, 0, 0, 0, 1, 2, 1, 1, 0, 1, 1, 1, 1, 2, 0, 1, 2, 1, 1, 1, 0, 1, 1, 1, 1, 1, 1, 2, 0, 2, 1, 1, 2, 1, 2, 0, 2, 0, 2, 1, 1, 0, 2, 2, 1, 2, 0, 0, 1, 0, 2, 1, 1, 1, 2, 1, 1, 1, 0, 0, 1, 0, 1, 1, 0, 0, 0, 2, 1, 1, 1, 1, 0, 1, 0, 2, 1, 0, 2, 1, 2, 0, 1, 0, 1, 2, 2, 0, 2, 1, 2, 0, 1, 0, 1, 0, 1, 1, 0, 0, 0, 2, 1, 2, 0, 0, 1, 1, 1, 2, 1, 2, 0, 1, 1, 1, 1, 1, 2, 0, 1, 2, 1, 2, 1, 1, 1, 1, 1, 0, 1, 1, 0, 2, 0, 1, 2, 1, 2, 2, 2, 2, 0, 1, 0, 1, 2, 1, 2, 1, 2, 1, 2, 2, 1, 2, 2, 1, 1, 1, 2, 1, 1, 2, 1, 1, 2, 2, 2, 1, 2, 1, 1, 1, 1, 0, 1, 1, 1, 2, 1, 1, 0, 1, 1, 2, 2, 1, 2, 1, 1, 0, 1, 1, 1, 0, 0, 1, 1, 1, 0, 0, 0, 1, 1, 1, 1, 1, 1, 1, 2, 1, 2, 0, 1, 2, 1, 1, 1, 0, 1, 1, 0, 1, 2, 0, 2, 0, 1, 2, 2, 1, 1, 2, 0, 1, 0, 0, 1, 0, 0, 1, 2, 0, 2, 0, 0, 1, 0, 2, 2, 0, 1, 0, 2, 1, 1, 1, 1, 2, 2, 0, 1, 1, 1, 1, 2, 0, 1, 1, 2, 0, 1, 2, 2, 0, 0, 2, 1, 0, 0, 2, 1, 1, 1, 1, 2, 2, 1, 1, 1, 0, 1, 1, 2, 1, 1, 0, 1, 0, 1, 1, 2, 2, 2, 2, 0, 1, 1, 2, 2, 2, 0, 0, 2, 2, 2, 2, 1, 1, 0, 0, 1, 2, 0, 0, 0, 0, 0, 1, 0, 1, 1, 1, 2, 0, 0, 2, 1, 1, 2, 1, 1, 1, 0, 1, 2, 2, 2, 0, 1, 1, 1, 1, 0, 1, 1, 1, 1, 1, 1, 1, 0, 1, 2, 2, 1, 1, 0, 1, 1, 0, 1, 2, 0, 0, 0, 1, 0, 2, 2, 1, 1, 0, 1, 0, 0, 0, 0, 2, 1, 0, 1, 1, 0, 1, 2, 0, 1, 1, 1, 0, 1, 1, 1, 1, 1, 0, 0, 0, 1, 1, 0, 1, 1, 1, 1, 2, 1, 0, 1, 1, 1, 0, 1, 1, 1, 1, 1, 1, 2, 0, 0, 0, 0, 1, 0, 1, 0, 0, 1, 0, 1, 1, 2, 0, 1, 0, 2, 2, 0, 2, 1, 0, 2, 0, 2, 0, 1, 0, 1, 2, 0, 0, 0, 1, 1, 0, 2, 0, 2, 2, 1, 2, 1, 0, 1, 2, 0, 1, 1, 1, 1, 1, 1, 0, 2, 1, 0, 0, 1, 2, 2, 0, 2, 2, 2, 0, 1, 2, 0, 1, 0, 0, 1, 1, 1, 1, 1, 1, 2, 2, 1, 0, 2, 2, 1, 2, 1, 2, 1, 1, 2, 1, 2, 2, 1, 1, 2, 0, 1, 1, 0, 1, 1, 1, 1, 1, 1, 1, 0, 1, 1, 0, 2, 1, 1, 1, 2, 0, 1, 0, 0, 1, 1, 2, 0, 1, 0, 1, 1, 0, 2, 1, 1, 1, 2, 1, 1, 1, 1, 1, 1, 1, 0, 1, 0, 1, 1, 0, 0, 2, 0, 0, 1, 0, 0, 1, 0, 1, 1, 2, 1, 1, 1, 0, 2, 2, 1, 2, 1, 1, 1, 0, 1, 1, 0, 2, 1, 0, 0, 1, 1, 0, 1, 1, 0, 2, 1, 0, 2, 2, 0, 2, 1, 2, 0, 1, 1, 0, 2, 1, 2, 2, 1, 1, 1, 1, 2, 0, 1, 1, 1, 1, 0, 2, 1, 1, 2, 1, 2, 1, 0, 0, 1, 1, 0, 0, 1, 0, 1, 1, 2, 1, 2, 1, 0, 1, 1, 1, 0, 0, 1, 2, 0, 1, 2, 1, 0, 1, 1, 0, 2, 2, 1, 2, 1, 2, 1, 0, 0, 2, 0, 1, 1, 2, 1, 1, 1, 0, 1, 2, 2, 0, 2, 2, 0, 0, 0, 1, 2, 1, 0, 1, 0, 2, 0, 1, 1, 0, 1, 1, 2, 0, 1, 0, 1, 1, 0, 2, 0, 1, 1, 1, 1, 2, 2, 1, 2, 1, 2, 1, 1, 2, 1, 2, 0, 1, 1, 0, 2, 1, 2, 1, 0, 1, 1, 1, 0, 1, 0, 1, 2, 1, 1, 1, 0, 0, 0, 1, 2, 1, 2, 1, 1, 1, 0, 0, 2, 1, 1, 0, 2, 0, 1, 2, 0, 1, 0, 0, 0, 2, 1, 1, 1, 1, 0, 1, 1, 1, 2, 1, 1, 1, 1, 1, 1, 0, 2, 1, 1, 1, 1, 1, 2, 2, 0, 1, 2, 0, 1, 0, 0, 0, 0, 0, 0, 0, 2, 0, 0, 1, 2, 0, 2, 1, 1, 1, 2, 1, 2, 1, 2, 1, 1, 0, 1, 1, 0, 2, 1, 0, 0, 1, 1, 0, 1, 2, 1, 1, 0, 1, 1, 1, 0, 2, 1, 1, 1, 1, 1, 1, 0, 2, 2, 1, 2, 1, 2, 2, 1, 1, 1, 1, 1, 0, 0, 1, 1, 1, 1, 1, 1, 1, 1, 0, 0, 0, 1, 1, 2, 1, 2, 2, 1, 1, 0, 1, 1, 1, 0, 1, 2, 1, 0, 2, 0, 1, 1, 2, 1, 2, 1, 1, 1, 0, 2, 1, 1, 1, 1, 1, 2, 1, 2, 0, 1, 2, 2, 2, 1, 1, 2, 1, 0, 0, 1, 0, 1, 1, 0, 0, 1, 1, 2, 0, 1, 1, 1, 1, 0, 1, 2, 0, 2, 1, 1, 0, 1, 2, 1, 2, 2, 1, 0, 1, 2, 1, 2, 0, 2, 1, 1, 2, 2, 1, 1, 0, 2, 0, 0, 1, 1, 0, 1, 1, 2, 1, 2, 2, 1, 0, 1, 1, 1, 2, 1, 1, 1, 0, 1, 1, 1, 1, 0, 1, 1, 2, 1, 1, 0, 1, 1, 2, 2, 1, 1, 1, 1, 0, 2, 0, 0, 0, 1, 1, 2, 1, 1, 2, 1, 2, 2, 1, 1, 2, 2, 1, 1, 1, 2, 1, 2, 0, 0, 0, 1, 1, 1, 1, 2, 0, 1, 1, 1, 0, 0, 1, 1, 1, 1, 1, 2, 0, 1, 2, 1, 1, 1, 1, 0, 2, 1, 2, 0, 2, 1, 0, 2, 0, 2, 0, 2, 1, 0, 0, 1, 1, 0, 2, 2, 1, 1, 2, 0, 1, 0, 2, 1, 2, 2, 0, 2, 1, 1, 2, 1, 2, 2, 1, 2, 0, 1, 2, 1, 0, 2, 2, 1, 2, 0, 0, 1, 1, 1, 0, 1, 0, 2, 1, 0, 0, 1, 2, 1, 2, 1, 2, 1, 0, 1, 0, 1, 1, 1, 1, 0, 1, 0, 0, 0, 2, 2, 0, 1, 0, 2, 1, 2, 1, 2, 0, 2, 1, 0, 1, 1, 2, 1, 1, 1, 0, 1, 1, 0, 2, 2, 1, 1, 2, 0, 0, 2, 1, 1, 0, 0, 1, 1, 2, 2, 1, 1, 1, 2, 1, 2, 0, 1, 1, 2, 1, 2, 0, 1, 2, 1, 1, 0, 1, 0, 1, 2, 0, 1, 1, 1, 1, 1, 1, 1, 2, 1, 1, 2, 2, 0, 2, 1, 0, 1, 1, 0, 1, 0, 0, 0, 2, 0, 0, 0, 1, 2, 1, 0, 0, 0, 2, 0, 0, 1, 1, 1, 1, 2, 0, 2, 0, 1, 1, 0, 0, 1, 0, 2, 2, 2, 1, 2, 1, 0, 0, 2, 1, 0, 0, 0, 2, 0, 1, 0, 2, 0, 1, 2, 0, 2, 1, 0, 0, 2, 2, 1, 0, 0, 1, 1, 2, 0, 1, 2, 1, 0, 1, 1, 1, 0, 0, 0, 1, 1, 1, 2, 0, 1, 2, 2, 1, 1, 1, 1, 0, 2, 0, 1, 1, 1, 1, 0, 1, 2, 1, 0, 1, 0, 0, 0, 1, 1, 1, 1, 1, 0, 0, 1, 1, 0, 0, 1, 2, 1, 1, 1, 0, 1, 1, 1, 2, 2, 1, 1, 2, 1, 2, 1, 1, 1, 0, 1, 1, 0, 0, 1, 2, 0, 1, 2, 1, 2, 1, 2, 2, 1, 2, 0, 1, 1, 1, 0, 2, 1, 2, 2, 1, 1, 0, 0, 0, 0, 1, 1, 1, 0, 0, 2, 1, 0, 1, 1, 2, 0, 1, 1, 2, 1, 0, 1, 2, 1, 2, 1, 0, 2, 0, 2, 1, 1, 1, 0, 0, 1, 0, 2, 1, 0, 0, 2, 1, 1, 1, 0, 1, 0, 2, 0, 1, 0, 1, 1, 1, 0, 1, 2, 1, 1, 1, 1, 2, 2, 0, 0, 0, 1, 0, 1, 1, 1, 1, 2, 1, 2, 0, 1, 0, 1, 1, 1, 0, 1, 1, 1, 0, 2, 2, 1, 0, 2, 0, 1, 2, 2, 2, 0, 2, 2, 1, 2, 1, 1, 1, 0, 1, 1, 1, 1, 2, 2, 1, 2, 0, 1, 1, 0, 0, 0, 2, 1, 1, 2, 2, 1, 1, 1, 1, 1, 0, 2, 1, 1, 1, 2, 1, 2, 1, 1, 1, 1, 0, 2, 1, 1, 2, 1, 0, 0, 0, 1, 2, 1, 1, 0, 0, 1, 2, 0, 1, 0, 0, 2, 0, 1, 1, 1, 1, 1, 1, 2, 1, 1, 2, 2, 0, 2, 1, 0, 0, 2, 2, 1, 1, 1, 1, 1, 0, 1, 2, 1, 1, 2, 0, 1, 2, 1, 0, 1, 2, 1, 1, 1, 1, 0, 2, 1, 1, 1, 0, 2, 1, 0, 1, 1, 1, 1, 1, 1, 0, 2, 1, 1, 1, 2, 0, 0, 1, 1, 2, 1, 1, 2, 0, 1, 2, 1, 2, 1, 1, 1, 2, 1, 2, 1, 0, 1, 1, 1, 1, 2, 0, 2, 1, 1, 1, 1, 2, 1, 0, 0, 0, 0, 1, 1, 1, 2, 1, 1, 1, 0, 1, 1, 1, 1, 0, 1, 1, 1, 1, 0, 1, 2, 2, 0, 1, 0, 1, 0, 1, 0, 1, 0, 0, 0, 0, 2, 1, 1, 1, 1, 1, 2, 0, 1, 2, 2, 1, 2, 1, 1, 1, 0, 0, 0, 0, 1, 1, 0, 0, 2, 1, 2, 1, 2, 1, 1, 0, 0, 2, 1, 1, 2, 0, 1, 0, 0, 0, 1, 2, 1, 0, 2, 1, 1, 1, 2, 2, 0, 1, 1, 1, 2, 2, 1, 0, 0, 0, 0, 2, 2, 0, 2, 2, 0, 2, 1, 0, 1, 2, 1, 1, 2, 1, 1, 0, 2, 0, 1, 0, 0, 2, 1, 0, 1, 0, 0, 1, 2, 0, 2, 0, 1, 1, 1, 0, 0, 1, 2, 2, 1, 0, 1, 0, 0, 0, 2, 2, 1, 1, 1, 1, 2, 2, 1, 1, 0, 0, 0, 1, 1, 0, 1, 1, 1, 1, 0, 0, 2, 1, 2, 1, 1, 0, 2, 1, 1, 1, 2, 0, 2, 1, 0, 1, 1, 0, 0, 1, 1, 2, 1, 0, 2, 1, 0, 2, 0, 2, 2, 2, 1, 1, 0, 1, 1, 1, 1, 0, 0, 0, 2, 0, 1, 1, 1, 1, 0, 1, 0, 1, 1, 2, 1, 2, 1, 1, 2, 2, 1, 2, 1, 1, 0, 0, 1, 1, 1, 0, 1, 1, 0, 1, 1, 0, 2, 1, 1, 0, 0, 1, 1, 0, 1, 1, 2, 2, 0, 1, 0, 1, 1, 1, 0, 0, 0, 0, 0, 1, 0, 1, 2, 1, 2, 2, 2, 2, 1, 1, 1, 2, 1, 1, 0, 2, 1, 2, 0, 1, 2, 1, 0, 2, 2, 0, 0, 1, 2, 1, 2, 0, 1, 0, 0, 1, 0, 1, 0, 1, 0, 0, 1, 1, 2, 2, 0, 0, 2, 0, 1, 1, 1, 1, 2, 0, 1, 2, 1, 1, 1, 1, 2, 1, 0, 0, 2, 1, 1, 2, 1, 2, 2, 1, 2, 1, 0, 1, 0, 0, 1, 2, 2, 2, 0, 2, 0, 1, 0, 1, 1, 1, 1, 1, 1, 1, 2, 1, 2, 2, 1, 1, 1, 1, 1, 1, 1, 2, 2, 1, 1, 2, 1, 1, 0, 0, 0, 2, 1, 1, 0, 1, 0, 0, 0, 1, 1, 1, 2, 0, 2, 2, 1, 0, 2, 1, 2, 1, 1, 1, 1, 1, 1, 1, 1, 1, 1, 0, 0, 1, 2, 2, 1, 1, 2, 0, 1, 0, 1, 1, 2, 1, 1, 1, 1, 1, 1, 0, 1, 0, 2, 1, 1, 0, 2, 0, 1, 0, 1, 0, 0, 1, 2, 1, 1, 1, 2, 1, 0, 0, 1, 1, 1, 1, 2, 1, 1, 1, 1, 2, 2, 1, 2, 2, 1, 2, 0, 0, 1, 1, 0, 0, 2, 1, 1, 0, 0, 0, 2, 1, 1, 1, 0, 0, 2, 2, 2, 1, 1, 2, 1, 1, 1, 0, 1, 2, 1, 1, 1, 1, 1, 1, 1, 0, 1, 1, 1, 1, 2, 1, 2, 1, 1, 1, 1, 2, 2, 2, 1, 2, 1, 0, 0, 1, 2, 0, 1, 1, 1, 1, 1, 0, 1, 0, 0, 1, 2, 0, 0, 2, 1, 0, 1, 0, 1, 1, 2, 2, 2, 1, 0, 1, 2, 2, 0, 1, 1, 2, 1, 1, 2, 1, 1, 1, 1, 1, 0, 2, 0, 0, 2, 0, 1, 2, 1, 1, 2, 1, 1, 0, 0, 1, 1, 1, 2, 1, 0, 2, 1, 1, 2, 1, 1, 1, 1, 2, 1, 2, 2, 1, 1, 2, 0, 0, 1, 2, 1, 1, 2, 2, 1, 1, 1, 2, 0, 0, 1, 2, 1, 0, 0, 0, 1, 2, 2, 0, 1, 0, 1, 2, 0, 1, 1, 1, 1, 1, 1, 1, 1, 1, 1, 0, 0, 1, 1, 2, 1, 2, 1, 0, 2, 1, 1, 1, 2, 0, 0, 2, 2, 0, 1, 0, 1, 1, 1, 1, 1, 1, 1, 2, 2, 1, 1, 1, 1, 2, 2, 1, 2, 0, 1, 1, 0, 1, 1, 1, 0, 1, 1, 2, 1, 1, 0, 1, 1, 2, 1, 1, 1, 2, 2, 1, 0, 0, 1, 0, 1, 1, 1, 1, 1, 1, 1, 2, 1, 2, 1, 1, 1, 1, 2, 2, 1, 1, 1, 1, 1, 1, 1, 0, 1, 0, 0, 1, 2, 0, 1, 1, 1, 1, 1, 0, 0, 1, 0, 1, 0, 0, 1, 0, 1, 1, 0, 1, 1, 1, 0, 1, 1, 0, 1, 0, 1, 2, 0, 2, 2, 0, 1, 2, 1, 1, 2, 0, 1, 1, 1, 2, 1, 1, 0, 1, 0, 1, 0, 1, 1, 2, 0, 1, 1, 1, 1, 0, 1, 0, 1, 1, 1, 1, 0, 0, 1, 1, 1, 1, 1, 1, 1, 1, 1, 0, 0, 2, 1, 2, 1, 2, 2, 0, 2, 2, 1, 1, 2, 1, 0, 2, 1, 1, 0, 0, 2, 1, 1, 2, 2, 2, 1, 2, 0, 2, 2, 1, 1, 0, 1, 2, 1, 0, 0, 1, 2, 1, 2, 1, 2, 0, 1, 0, 1, 0, 1, 1, 0, 1, 1, 1, 1, 2, 0, 2, 1, 1, 0, 0, 1, 1, 2, 2, 2, 1, 1, 1, 1, 1, 0, 0, 2, 1, 1, 0, 1, 1, 2, 1, 1, 1, 2, 1, 2, 1, 0, 2, 2, 2, 1, 2, 0, 1, 1, 0, 0, 2, 1, 1, 0, 2, 0, 2, 0, 0, 1, 2, 1, 1, 1, 0, 2, 1, 0, 2, 2, 2, 0, 1, 1, 2, 1, 1, 0, 0, 1, 1, 1, 2, 2, 0, 0, 1, 2, 1, 1, 2, 0, 0, 1, 1, 1, 0, 2, 1, 2, 1, 2, 2, 2, 0, 1, 1, 0, 0, 1, 0, 1, 1, 0, 1, 0, 1, 0, 2, 1, 0, 0, 0, 1, 1, 2, 1, 0, 0, 1, 1, 2, 2, 0, 2, 2, 2, 1, 1, 1, 1, 2, 2, 1, 0, 1, 0, 1, 2, 0, 1, 0, 1, 0, 1, 1, 1, 1, 1, 1, 0, 1, 0, 0, 1, 0, 1, 2, 1, 1, 2, 1, 2, 0, 0, 0, 2, 1, 1, 1, 2, 2, 1, 0, 2, 1, 1, 2, 0, 2, 0, 1, 1, 0, 1, 1, 1, 1, 0, 1, 0, 0, 0, 1, 0, 1, 2, 2, 2, 1, 1, 2, 1, 0, 1, 1, 1, 1, 2, 0, 0, 2, 1, 2, 1, 1, 1, 0, 1, 1, 2, 2, 2, 0, 0, 1, 1, 1, 1, 0, 1, 1, 2, 2, 0, 1, 0, 1, 1, 0, 0, 1, 1, 1, 2, 1, 2, 1, 1, 2, 1, 0, 0, 1, 1, 0, 0, 2, 2, 0, 0, 1, 1, 2, 1, 2, 0, 1, 1, 1, 0, 1, 1, 2, 0, 0, 2, 0, 0, 1, 2, 1, 2, 2, 2, 1, 0, 1, 1, 0, 1, 2, 0, 1, 2, 0, 1, 0, 1, 1, 1, 1, 0, 0, 1, 1, 1, 1, 1, 1, 2, 1, 1, 1, 1, 1, 2, 2, 1, 1, 2, 1, 0, 0, 2, 1, 0, 1, 1, 2, 2, 0, 0, 1, 2, 0, 1, 1, 1, 1, 1, 0, 1, 1, 0, 0, 1, 1, 0, 2, 2, 2, 0, 1, 0, 0, 1, 2, 0, 1, 0, 2, 1, 2, 1, 0, 2, 1, 1, 1, 1, 1, 1, 1, 2, 2, 0, 1, 2, 2, 1, 2, 0, 1, 1, 0, 1, 0, 0, 2, 2, 1, 1, 2, 1, 0, 0, 0, 1, 2, 2, 1, 1, 2, 2, 0, 1, 1, 0, 0, 0, 1, 0, 0, 0, 2, 1, 2, 0, 1, 0, 1, 0, 2, 2, 2, 0, 1, 0, 1, 1, 1, 1, 0, 2, 0, 1, 1, 2, 0, 0, 0, 2, 1, 2, 2, 1, 0, 0, 0, 1, 1, 1, 1, 2, 0, 2, 0, 0, 2, 2, 1, 0, 0, 1, 0, 1, 0, 0, 2, 2, 0, 1, 2, 1, 1, 2, 1, 2, 1, 0, 0, 1, 1, 1, 0, 1, 0, 2, 1, 1, 2, 1, 0, 2, 1, 1, 1, 2, 2, 2, 1, 1, 0, 2, 0, 1, 1, 1, 2, 1, 1, 2, 1, 0, 1, 0, 1, 0, 1, 1, 0, 1, 1, 0, 0, 1, 2, 2, 1, 2, 1, 0, 1, 1, 1, 0, 1, 0, 1, 0, 1, 2, 1, 0, 1, 1, 1, 0, 0, 0, 1, 0, 1, 1, 0, 2, 1, 0, 2, 1, 1, 0, 2, 2, 0, 1, 1, 0, 0, 1, 2, 1, 1, 0, 1, 1, 2, 1, 1, 1, 1, 2, 0, 0, 0, 1, 1, 1, 1, 2, 2, 1, 1, 0, 0, 0, 0, 2, 0, 2, 1, 1, 0, 0, 2, 1, 2, 0, 1, 1, 1, 0, 1, 0, 1, 0, 0, 1, 2, 1, 0, 1, 2, 1, 1, 1, 2, 1, 1, 0, 1, 2, 2, 2, 1, 0, 0, 0, 2, 2, 0, 1, 0, 1, 0, 0, 0, 2, 2, 0, 1, 2, 1, 1, 1, 0, 0, 1, 1, 1, 0, 2, 2, 1, 2, 1, 0, 1, 2, 2, 2, 1, 0, 2, 1, 0, 2, 1, 1, 2, 1, 0, 2, 1, 2, 1, 0, 1, 1, 0, 2, 0, 0, 1, 0, 0, 1, 1, 2, 2, 1, 1, 0, 0, 0, 0, 2, 2, 2, 1, 0, 1, 0, 0, 1, 1, 1, 2, 2, 0, 0, 1, 2, 0, 1, 1, 2, 2, 2, 1, 1, 1, 2, 1, 2, 1, 2, 0, 2, 2, 1, 1, 1, 1, 2, 1, 2, 2, 1, 1, 1, 1, 2, 0, 1, 1, 0, 2, 0, 0, 2, 1, 0, 1, 1, 2, 2, 1, 1, 0, 1, 0, 1, 2, 1, 2, 1, 0, 1, 1, 1, 1, 1, 2, 1, 0, 1, 1, 2, 1, 2, 1, 1, 2, 2, 0, 1, 1, 2, 1, 2, 2, 0, 1, 2, 2, 1, 1, 0, 1, 1, 1, 0, 0, 1, 1, 2, 2, 1, 0, 1, 0, 2, 0, 1, 2, 2, 1, 1, 2, 1, 1, 2, 1, 1, 2, 1, 2, 0, 2, 1, 1, 2, 0, 2, 0, 1, 0, 2, 1, 1, 1, 0, 1, 0, 1, 0, 1, 1, 2, 1, 2, 1, 1, 1, 1, 1, 0, 2, 1, 0, 2, 1, 0, 0, 1, 2, 1, 1, 0, 0, 0, 2, 2, 1, 2, 2, 1, 1, 1, 2, 1, 1, 0, 2, 2, 0, 0, 0, 0, 1, 2, 1, 1, 1, 2, 2, 1, 2, 1, 1, 1, 2, 0, 1, 0, 1, 2, 0, 1, 0, 0, 1, 2, 1, 2, 1, 1, 2, 1, 2, 2, 0, 0, 2, 1, 1, 0, 2, 1, 2, 1, 1, 2, 2, 0, 2, 1, 0, 1, 2, 1, 1, 1, 1, 1, 2, 1, 1, 1, 0, 2, 0, 2, 2, 0, 1, 0, 1, 0, 1, 2, 2, 0, 0, 2, 1, 1, 0, 1, 1, 0, 1, 2, 0, 2, 1, 1, 2, 2, 1, 1, 0, 2, 0, 2, 1, 0, 0, 1, 1, 1, 2, 1, 1, 2, 1, 1, 1, 0, 0, 1, 0, 0, 0, 0, 1, 2, 2, 0, 2, 1, 1, 0, 1, 2, 2, 1, 1, 2, 2, 2, 1, 1, 0, 1, 1, 1, 1, 0, 1, 0, 1, 0, 0, 1, 0, 0, 0, 1, 1, 1, 1, 1, 1, 2, 1, 1, 2, 1, 1, 2, 1, 2, 0, 1, 2, 0, 1, 2, 2, 0, 1, 1, 0, 1, 1, 1, 1, 1, 1, 1, 1, 1, 0, 1, 0, 0, 1, 1, 1, 0, 2, 2, 1, 1, 0, 1, 2, 1, 1, 0, 2, 0, 2, 1, 0, 1, 1, 2, 1, 2, 1, 1, 1, 1, 1, 0, 2, 0, 2, 2, 1, 0, 0, 1, 1, 0, 2, 2, 2, 1, 0, 1, 1, 2, 0, 1, 1, 1, 1, 0, 1, 1, 1, 2, 2, 1, 2, 2, 1, 1, 1, 2, 0, 0, 0, 1, 1, 2, 1, 0, 1, 0, 1, 1, 1, 2, 0, 2, 1, 2, 2, 1, 0, 0, 2, 0, 1, 0, 1, 1, 2, 1, 1, 1, 2, 0, 1, 1, 2, 2, 0, 2, 1, 1, 1, 0, 1, 0, 1, 1, 1, 0, 1, 0, 2, 1, 0, 1, 1, 0, 0, 0, 1, 1, 1, 1, 0, 2, 1, 0, 1, 0, 2, 1, 2, 1, 1, 1, 0, 0, 0, 1, 2, 2, 0, 0, 1, 2, 0, 1, 1, 1, 0, 0, 2, 2, 1, 2, 0, 0, 1, 0, 0, 1, 1, 1, 2, 1, 1, 1, 1, 2, 1, 0, 2, 1, 2, 0, 1, 0, 2, 1, 1, 1, 1, 1, 1, 1, 1, 2, 1, 1, 1, 0, 2, 1, 1, 2, 0, 1, 1, 1, 0, 0, 1, 1, 1, 1, 0, 0, 0, 2, 1, 1, 1, 2, 1, 2, 2, 1, 1, 1, 0, 2, 1, 0, 0, 1, 2, 1, 1, 1, 2, 2, 1, 2, 1, 1, 1, 0, 0, 0, 2, 1, 1, 2, 0, 1, 0, 1, 1, 1, 1, 2, 1, 0, 1, 0, 1, 2, 1, 1, 2, 1, 1, 1, 0, 0, 1, 0, 0, 2, 0, 2, 2, 1, 1, 1, 1, 1, 2, 2, 1, 1, 1, 1, 1, 1, 0, 2, 1, 1, 1, 1, 2, 1, 0, 2, 0, 2, 1, 1, 2, 1, 0, 1, 2, 1, 1, 2, 1, 0, 0, 0, 2, 0, 0, 1, 2, 0, 1, 1, 0, 1, 0, 1, 2, 1, 1, 0, 0, 2, 1, 1, 1, 1, 0, 1, 1, 2, 1, 2, 1, 2, 1, 0, 1, 0, 0, 1, 1, 1, 1, 1, 1, 1, 0, 0, 2, 2, 1, 2, 1, 1, 1, 0, 1, 1, 1, 1, 1, 1, 1, 1, 2, 2, 2, 1, 0, 0, 0, 0, 0, 1, 0, 0, 2, 0, 2, 0, 1, 0, 1, 2, 0, 1, 1, 1, 0, 1, 0, 1, 2, 1, 0, 2, 2, 1, 1, 1, 0, 0, 2, 0, 1, 0, 0, 1, 2, 0, 0, 0, 2, 1, 0, 2, 2, 1, 0, 1, 0, 1, 1, 1, 1, 2, 1, 0, 0, 1, 1, 2, 2, 1, 2, 1, 1, 0, 1, 0, 0, 1, 0, 2, 2, 0, 1, 0, 1, 0, 0, 0, 1, 0, 1, 0, 2, 1, 2, 0, 1, 2, 2, 0, 2, 1, 2, 2, 1, 2, 1, 1, 2, 2, 0, 0, 1, 2, 1, 2, 2, 0, 2, 1, 0, 0, 1, 2, 2, 1, 1, 0, 0, 0, 1, 2, 1, 1, 1, 0, 1, 0, 1, 1, 1, 1, 0, 1, 0, 1, 2, 0, 1, 1, 1, 0, 1, 2, 1, 0, 2, 2, 2, 1, 0, 1, 1, 0, 2, 1, 0, 1, 0, 1, 1, 2, 1, 1, 2, 2, 1, 0, 0, 1, 1, 1, 1, 0, 1, 1, 1, 0, 1, 1, 1, 0, 1, 1, 0, 1, 1, 0, 1, 0, 2, 0, 0, 1, 1, 1, 2, 1, 1, 1, 1, 1, 0, 0, 1, 1, 2, 2, 1, 0, 2, 1, 1, 1, 2, 1, 2, 1, 2, 1, 2, 0, 1, 1, 0, 1, 0, 1, 0, 0, 0, 0, 1, 1, 1, 1, 1, 1, 1, 0, 2, 0, 0, 2, 0, 1, 0, 2, 0, 2, 0, 1, 0, 2, 0, 2, 1, 1, 2, 0, 2, 1, 1, 0, 2, 0, 1, 2, 0, 0, 0, 1, 2, 1, 0, 0, 2, 0, 1, 1, 2, 1, 2, 1, 1, 1, 2, 0, 1, 1, 1, 0, 0, 1, 1, 1, 0, 1, 0, 1, 0, 2, 2, 2, 1, 0, 2, 2, 2, 2, 0, 2, 1, 2, 0, 2, 1, 1, 1, 2, 2, 1, 2, 2, 1, 1, 1, 2, 2, 1, 2, 1, 0, 1, 1, 1, 2, 1, 1, 1, 1, 2, 1, 0, 2, 0, 2, 1, 0, 2, 1, 2, 1, 1, 1, 1, 1, 0, 1, 0, 1, 1, 1, 0, 0, 0, 0, 0, 2, 2, 0, 1, 2, 1, 1, 0, 1, 2, 1, 2, 2, 1, 2, 2, 2, 1, 1, 1, 0, 2, 2, 0, 0, 0, 0, 1, 0, 2, 0, 0, 0, 0, 1, 0, 1, 0, 1, 0, 0, 1, 2, 1, 0, 2, 1, 2, 1, 1, 2, 2, 1, 0, 2, 2, 1, 0, 2, 1, 0, 0, 1, 2, 2, 1, 2, 1, 0, 0, 2, 0, 1, 0, 0, 1, 2, 2, 1, 0, 2, 1, 0, 2, 0, 1, 1, 2, 2, 0, 1, 1, 2, 1, 0, 2, 0, 2, 1, 0, 0, 1, 0, 1, 0, 1, 0, 0, 0, 1, 1, 0, 1, 0, 0, 1, 1, 2, 1, 1, 1, 0, 1, 0, 2, 2, 1, 2, 2, 1, 1, 1, 1, 0, 1, 1, 0, 0, 0, 1, 1, 0, 1, 2, 0, 1, 2, 0, 1, 1, 1, 1, 0, 0, 1, 1, 1, 0, 2, 1, 0, 2, 0, 1, 1, 2, 0, 1, 2, 0, 0, 1, 0, 2, 0, 1, 1, 0, 2, 2, 1, 1, 2, 1, 1, 1, 0, 1, 2, 1, 1, 1, 1, 1, 0, 1, 1, 1, 1, 1, 2, 2, 1, 1, 1, 0, 1, 1, 1, 1, 0, 1, 2, 2, 1, 1, 0, 2, 0, 1, 0, 1, 1, 1, 0, 2, 2, 0, 1, 1, 1, 2, 1, 1, 2, 1, 1, 1, 1, 2, 0, 2, 1, 0, 2, 2, 0, 1, 0, 1, 1, 1, 1, 2, 1, 1, 0, 1, 1, 1, 0, 0, 1, 0, 1, 1, 2, 1, 2, 1, 1, 1, 0, 2, 2, 1, 2, 1, 1, 1, 1, 1, 2, 2, 1, 1, 1, 1, 1, 2, 0, 0, 1, 0, 0, 1, 1, 0, 1, 1, 0, 1, 2, 0, 0, 0, 1, 1, 1, 0, 1, 1, 0, 1, 2, 2, 0, 1, 2, 0, 1, 1, 1, 1, 0, 2, 0, 1, 2, 2, 2, 1, 1, 0, 2, 0, 1, 0, 1, 0, 1, 2, 2, 0, 0, 1, 0, 2, 2, 0, 1, 1, 1, 1, 2, 0, 1, 1, 0, 1, 2, 1, 1, 0, 2, 0, 1, 1, 1, 1, 0, 1, 0, 0, 2, 1, 2, 1, 1, 0, 1, 1, 0, 0, 0, 2, 2, 1, 1, 0, 2, 2, 1, 1, 1, 2, 2, 2, 2, 2, 1, 1, 1, 2, 1, 1, 1, 0, 2, 1, 1, 2, 2, 0, 2, 0, 2, 1, 1, 1, 0, 2, 2, 1, 1, 1, 0, 0, 1, 0, 2, 1, 2, 1, 2, 0, 1, 2, 0, 1, 0, 1, 2, 0, 1, 1, 1, 1, 1, 2, 2, 2, 2, 2, 2, 1, 1, 1, 1, 0, 1, 1, 1, 1, 2, 1, 1, 1, 1, 0, 1, 1, 1, 2, 0, 1, 2, 0, 1, 1, 2, 0, 0, 1, 2, 0, 0, 0, 2, 1, 0, 0, 1, 1, 1, 1, 0, 1, 2, 1, 1, 1, 1, 1, 1, 2, 2, 0, 2, 1, 1, 0, 1, 1, 2, 1, 2, 1, 1, 2, 2, 2, 1, 2, 0, 1, 1, 0, 2, 0, 1, 1, 1, 1, 2, 1, 0, 1, 1, 1, 2, 0, 0, 1, 1, 0, 2, 0, 0, 2, 1, 0, 2, 2, 0, 0, 0, 1, 0, 1, 0, 0, 2, 1, 0, 0, 0, 0, 2, 1, 1, 2, 2, 0, 0, 1, 2, 2, 2, 2, 1, 0, 2, 1, 1, 1, 1, 1, 0, 1, 1, 0, 1, 1, 1, 1, 2, 1, 0, 0, 1, 2, 1, 0, 1, 0, 1, 2, 1, 0, 2, 1, 0, 1, 2, 1, 2, 0, 1, 0, 1, 1, 2, 2, 2, 1, 2, 1, 2, 1, 0, 1, 1, 0, 1, 1, 0, 1, 1, 0, 1, 1, 1, 2, 2, 1, 0, 1, 1, 1, 1, 1, 2, 0, 1, 2, 2, 1, 2, 0, 0, 0, 2, 1, 1, 1, 0, 1, 0, 2, 1, 0, 2, 1, 1, 2, 1, 1, 1, 2, 2, 0, 0, 1, 2, 1, 1, 0, 1, 0, 1, 1, 1, 2, 1, 0, 1, 0, 0, 0, 1, 1, 2, 1, 1, 0, 0, 1, 1, 0, 0, 1, 1, 0, 1, 1, 2, 2, 2, 2, 0, 0, 0, 1, 1, 1, 0, 2, 1, 1, 0, 1, 1, 0, 1, 0, 2, 2, 0, 1, 1, 1, 0, 0, 1, 1, 0, 0, 1, 1, 1, 1, 0, 1, 2, 2, 0, 2, 2, 2, 2, 1, 1, 1, 2, 0, 1, 0, 1, 2, 1, 1, 1, 0, 1, 2, 0, 1, 0, 0, 1, 2, 1, 1, 1, 2, 2, 1, 2, 0, 2, 0, 1, 0, 1, 1, 2, 1, 1, 2, 1, 1, 0, 2, 1, 0, 0, 1, 1, 2, 1, 0, 1, 1, 0, 1, 2, 1, 1, 1, 1, 1, 1, 0, 0, 1, 0, 1, 1, 0, 0, 1, 1, 0, 1, 2, 0, 0, 0, 0, 1, 2, 1, 1, 0, 1, 0, 0, 0, 2, 0, 1, 1, 1, 2, 2, 0, 1, 2, 1, 2, 2, 0, 0, 1, 2, 1, 2, 1, 0, 2, 1, 2, 1, 0, 1, 2, 2, 1, 1, 2, 0, 0, 1, 1, 1, 2, 1, 0, 1, 2, 2, 2, 2, 1, 1, 1, 1, 0, 1, 0, 0, 1, 0, 2, 1, 1, 1, 0, 2, 2, 0, 1, 1, 1, 0, 1, 1, 1, 1, 2, 1, 1, 1, 1, 2, 2, 2, 0, 1, 1, 1, 2, 0, 2, 2, 0, 2, 1, 0, 1, 2, 1, 2, 0, 1, 0, 0, 1, 0, 0, 1, 0, 2, 0, 1, 2, 1, 0, 1, 1, 0, 1, 1, 2, 2, 1, 2, 2, 1, 2, 0, 1, 0, 2, 2, 0, 2, 0, 1, 1, 0, 1, 2, 1, 1, 1, 1, 1, 2, 2, 1, 1, 1, 2, 2, 0, 1, 1, 2, 2, 2, 1, 0, 1, 2, 0, 1, 1, 2, 2, 0, 0, 0, 2, 0, 1, 0, 1, 0, 1, 0, 1, 2, 0, 2, 2, 0, 1, 2, 1, 2, 1, 1, 0, 0, 2, 1, 1, 1, 1, 1, 2, 1, 2, 1, 2, 1, 0, 0, 1, 1, 1, 0, 1, 0, 1, 1, 0, 1, 1, 0, 1, 2, 1, 1, 2, 2, 1, 1, 1, 0, 1, 1, 2, 2, 1, 1, 1, 2, 1, 0, 1, 2, 0, 2, 0, 1, 2, 2, 1, 2, 2, 1, 2, 0, 1, 1, 1, 0, 1, 1, 0, 2, 0, 2, 1, 1, 1, 1, 1, 2, 0, 2, 1, 1, 1, 1, 1, 1, 2, 1, 1, 1, 2, 0, 1, 0, 0, 1, 1, 2, 0, 0, 0, 1, 0, 2, 0, 1, 1, 0, 0, 1, 2, 2, 2, 0, 1, 0, 0, 1, 1, 1, 0, 1, 1, 0, 0, 0, 2, 1, 1, 0, 0, 0, 2, 0, 2, 1, 1, 1, 1, 1, 1, 0, 1, 1, 2, 0, 2, 0, 1, 2, 1, 1, 1, 1, 0, 0, 0, 1, 0, 0, 1, 1, 1, 1, 2, 0, 0, 1, 2, 2, 2, 0, 1, 1, 1, 1, 2, 0, 1, 0, 0, 2, 1, 1, 1, 2, 0, 0, 1, 0, 1, 0, 0, 0, 1, 1, 1, 2, 0, 0, 0, 2, 1, 0, 1, 1, 1, 1, 0, 0, 2, 1, 2, 0, 1, 1, 1, 0, 1, 1, 2, 1, 0, 0, 1, 0, 0, 1, 1, 1, 1, 1, 2, 1, 0, 0, 2, 1, 1, 1, 0, 2, 1, 1, 1, 1, 0, 1, 1, 2, 1, 0, 0, 2, 0, 0, 1, 0, 2, 1, 1, 1, 0, 1, 1, 2, 1, 0, 1, 1, 0, 1, 1, 1, 1, 1, 2, 2, 0, 0, 1, 0, 1, 0, 0, 1, 0, 0, 1, 1, 1, 2, 1, 1, 0, 2, 1, 0, 1, 1, 2, 1, 1, 1, 1, 0, 2, 2, 1, 2, 0, 1, 0, 2, 0, 2, 1, 2, 1, 2, 1, 1, 2, 1, 2, 2, 0, 2, 2, 1, 2, 1, 2, 1, 1, 0, 1, 0, 2, 2, 1, 0, 1, 1, 1, 2, 1, 1, 1, 1, 2, 2, 1, 0, 1, 2, 0, 1, 2, 1, 0, 2, 0, 0, 2, 1, 1, 2, 2, 1, 1, 1, 1, 1, 2, 1, 2, 2, 1, 1, 1, 1, 1, 2, 1, 1, 1, 0, 2, 1, 0, 2, 1, 0, 2, 1, 1, 1, 2, 1, 1, 2, 1, 0, 1, 1, 1, 1, 2, 2, 2, 0, 0, 0, 2, 0, 0, 1, 0, 0, 1, 2, 1, 0, 0, 0, 1, 0, 2, 1, 0, 1, 1, 2, 1, 2, 0, 1, 0, 1, 1, 2, 2, 1, 0, 2, 1, 1, 1, 1, 1, 0, 0, 0, 1, 0, 1, 2, 1, 0, 0, 2, 0, 1, 2, 0, 1, 2, 2, 2, 0, 1, 1, 2, 1, 1, 2, 1, 2, 2, 1, 1, 1, 0, 0, 1, 0, 0, 1, 1, 1, 1, 1, 1, 0, 1, 0, 0, 1, 1, 2, 1, 0, 2, 1, 1, 1, 0, 1, 2, 2, 2, 2, 2, 0, 1, 2, 2, 0, 2, 1, 2, 1, 1, 2, 0, 1, 0, 0, 2, 1, 1, 2, 1, 2, 2, 1, 1, 1, 0, 2, 1, 1, 1, 2, 2, 1, 1, 2, 0, 2, 2, 2, 1, 1, 1, 1, 0, 1, 1, 1, 2, 1, 1, 1, 1, 1, 1, 2, 1, 2, 1, 1, 1, 1, 1, 1, 1, 1, 0, 0, 2, 0, 1, 0, 1, 1, 0, 2, 2, 0, 0, 0, 2, 0, 0, 1, 1, 0, 1, 0, 1, 1, 0, 1, 1, 0, 0, 1, 0, 1, 2, 1, 2, 0, 0, 0, 0, 2, 1, 1, 1, 0, 0, 2, 1, 2, 0, 1, 1, 1, 1, 0, 2, 1, 1, 1, 2, 1, 0, 2, 1, 1, 0, 1, 1, 0, 1, 2, 2, 1, 2, 1, 1, 1, 2, 1, 0, 2, 0, 1, 1, 2, 1, 2, 0, 2, 2, 0, 2, 1, 1, 1, 0, 2, 1, 1, 0, 2, 1, 1, 1, 1, 2, 1, 1, 2, 2, 2, 0, 1, 1, 1, 2, 1, 0, 1, 1, 0, 2, 0, 2, 2, 1, 1, 2, 2, 0, 1, 0, 2, 2, 2, 1, 2, 1, 2, 2, 1, 2, 2, 0, 2, 2, 1, 0, 1, 2, 1, 2, 0, 1, 1, 1, 1, 2, 0, 2, 1, 0, 0, 1, 0, 2, 2, 1, 1, 0, 2, 1, 1, 1, 1, 1, 0, 1, 0, 1, 1, 2, 2, 1, 2, 1, 1, 0, 1, 1, 2, 1, 2, 0, 1, 1, 1, 1, 1, 0, 1, 1, 1, 0, 2, 0, 2, 2, 1, 1, 2, 2, 1, 1, 1, 1, 1, 2, 2, 1, 0, 0, 0, 1, 0, 2, 0, 2, 1, 1, 2, 0, 1, 1, 2, 1, 0, 0, 1, 2, 0, 0, 1, 1, 1, 1, 2, 1, 1, 0, 1, 2, 1, 2, 1, 0, 0, 0, 1, 2, 0, 2, 2, 1, 1, 2, 0, 0, 2, 0, 0, 2, 0, 2, 1, 0, 1, 2, 2, 1, 1, 2, 1, 0, 1, 0, 1, 2, 2, 0, 1, 0, 1, 1, 2, 1, 2, 0, 2, 1, 1, 1, 1, 1, 0, 0, 0, 1, 1, 2, 2, 2, 0, 1, 1, 0, 0, 0, 1, 1, 1, 1, 2, 1, 1, 0, 2, 1, 1, 1, 2, 2, 1, 0, 1, 1, 1, 1, 1, 2, 1, 1, 2, 0, 2, 1, 1, 1, 0, 1, 1, 0, 0, 1, 2, 1, 2, 1, 1, 1, 1, 0, 1, 0, 1, 0, 2, 1, 1, 1, 0, 1, 1, 2, 1, 1, 2, 0, 1, 1, 0, 0, 0, 0, 2, 1, 1, 2, 2, 1, 2, 1, 1, 1, 0, 1, 1, 0, 1, 1, 0, 2, 1, 1, 1, 1, 1, 2, 2, 1, 1, 1, 2, 0, 2, 0, 0, 1, 0, 0, 2, 1, 2, 1, 1, 0, 2, 0, 0, 0, 0, 1, 2, 1, 1, 0, 1, 0, 2, 2, 1, 2, 1, 1, 1, 1, 0, 1, 1, 0, 0, 1, 1, 1, 1, 1, 1, 1, 1, 1, 0, 2, 2, 0, 1, 2, 1, 1, 1, 1, 2, 1, 0, 2, 0, 2, 1, 1, 0, 2, 1, 1, 1, 2, 2, 1, 2, 1, 1, 2, 2, 1, 1, 1, 1, 1, 1, 2, 0, 2, 2, 0, 2, 1, 1, 2, 1, 2, 1, 1, 1, 1, 2, 1, 1, 1, 2, 2, 1, 0, 1, 1, 1, 1, 1, 1, 2, 2, 1, 2, 2, 2, 2, 1, 2, 2, 0, 0, 1, 0, 1, 1, 1, 0, 1, 1, 0, 1, 1, 0, 1, 0, 0, 1, 2, 2, 0, 0, 1, 2, 1, 1, 2, 0, 1, 0, 1, 2, 1, 0, 1, 0, 1, 2, 1, 1, 1, 0, 2, 1, 1, 1, 1, 0, 1, 1, 1, 1, 2, 0, 1, 0, 1, 2, 2, 1, 1, 2, 1, 1, 1, 2, 1, 0, 2, 2, 1, 1, 2, 1, 0, 1, 1, 2, 2, 1, 1, 0, 1, 1, 1, 1, 2, 0, 1, 1, 0, 0, 1, 1, 2, 1, 1, 0, 0, 1, 0, 1, 2, 0, 0, 2, 1, 2, 0, 2, 1, 1, 2, 1, 1, 1, 2, 1, 1, 1, 1, 1, 1, 1, 2, 2, 2, 2, 0, 2, 1, 1, 1, 1, 1, 2, 0, 2, 1, 1, 2, 1, 0, 0, 2, 0, 2, 0, 1, 1, 1, 2, 1, 1, 1, 0, 1, 1, 0, 2, 1, 0, 1, 2, 1, 1, 0, 1, 2, 1, 1, 0, 1, 0, 1, 1, 1, 2, 2, 1, 0, 0, 0, 0, 1, 0, 1, 1, 1, 1, 1, 1, 1, 1, 0, 0, 1, 1, 1, 1, 2, 1, 0, 0, 1, 0, 1, 2, 1, 0, 0, 0, 1, 1, 1, 1, 1, 0, 2, 1, 1, 1, 2, 2, 0, 1, 1, 0, 1, 1, 1, 2, 2, 1, 0, 2, 2, 1, 1, 1, 2, 1, 0, 1, 0, 2, 1, 1, 1, 0, 2, 2, 0, 1, 0, 2, 1, 2, 0, 1, 1, 1, 0, 2, 2, 1, 2, 0, 2, 1, 0, 1, 0, 1, 2, 2, 1, 0, 1, 2, 2, 0, 0, 1, 1, 0, 1, 1, 1, 2, 2, 1, 1, 2, 1, 2, 0, 1, 1, 0, 0, 2, 0, 0, 0, 1, 1, 0, 1, 0, 1, 0, 0, 0, 0, 2, 1, 2, 1, 0, 1, 0, 1, 2, 1, 2, 2, 1, 2, 2, 1, 0, 1, 1, 0, 0, 2, 0, 1, 1, 1, 1, 1, 0, 1, 1, 0, 0, 1, 1, 1, 1, 1, 0, 0, 0, 1, 2, 0, 2, 1, 1, 2, 1, 0, 0, 2, 1, 1, 2, 1, 0, 1, 1, 1, 1, 1, 1, 2, 1, 1, 0, 1, 1, 1, 0, 0, 2, 1, 2, 1, 2, 2, 0, 2, 2, 1, 1, 0, 2, 1, 0, 1, 2, 1, 1, 1, 0, 2, 1, 1, 1, 2, 0, 0, 0, 1, 1, 2, 1, 0, 2, 0, 2, 1, 1, 0, 0, 1, 0, 1, 2, 0, 1, 1, 1, 1, 1, 1, 1, 2, 0, 1, 0, 1, 1, 0, 0, 1, 1, 1, 2, 2, 2, 0, 1, 2, 1, 1, 1, 0, 0, 2, 1, 2, 2, 2, 0, 0, 1, 1, 0, 2, 2, 2, 2, 0, 0, 2, 0, 1, 0, 2, 2, 1, 0, 2, 2, 2, 1, 2, 2, 1, 0, 1, 1, 1, 0, 2, 2, 2, 1, 1, 2, 1, 1, 0, 1, 2, 1, 0, 2, 1, 1, 2, 1, 1, 0, 0, 2, 1, 0, 2, 1, 2, 1, 0, 1, 1, 0, 1, 2, 0, 0, 1, 0, 2, 2, 0, 2, 1, 2, 2, 1, 1, 1, 0, 2, 2, 0, 1, 1, 2, 1, 1, 1, 1, 2, 2, 0, 0, 1, 1, 2, 1, 1, 1, 1, 2, 2, 1, 0, 1, 1, 2, 0, 1, 0, 1, 1, 1, 1, 2, 1, 1, 2, 1, 1, 1, 2, 1, 1, 0, 2, 1, 1, 1, 1, 0, 0, 1, 1, 2, 1, 2, 0, 2, 1, 1, 0, 1, 0, 1, 2, 0, 2, 0, 2, 2, 1, 1, 1, 0, 0, 2, 1, 2, 0, 0, 2, 0, 0, 1, 0, 1, 2, 0, 2, 2, 1, 2, 1, 1, 2, 1, 2, 2, 0, 1, 1, 0, 1, 0, 0, 1, 2, 2, 2, 1, 0, 1, 1, 0, 0, 0, 1, 1, 2, 1, 2, 1, 1, 1, 0, 1, 1, 2, 2, 1, 1, 0, 1, 2, 1, 0, 1, 1, 1, 1, 2, 2, 2, 1, 1, 2, 2, 1, 2, 1, 1, 0, 1, 1, 1, 0, 1, 0, 1, 2, 2, 1, 1, 1, 0, 2, 1, 0, 0, 2, 1, 1, 2, 1, 0, 1, 2, 1, 1, 0, 2, 0, 0, 0, 2, 2, 2, 1, 1, 2, 2, 1, 0, 1, 1, 1, 1, 0, 2, 0, 2, 2, 0, 1, 1, 0, 1, 2, 1, 2, 0, 1, 1, 2, 1, 0, 2, 0, 1, 2, 1, 0, 1, 1, 0, 1, 1, 1, 2, 0, 1, 1, 1, 1, 0, 0, 1, 2, 1, 0, 2, 1, 1, 1, 1, 1, 1, 1, 2, 1, 0, 2, 2, 0, 1, 1, 1, 1, 1, 1, 1, 0, 1, 0, 1, 2, 1, 1, 0, 2, 1, 2, 1, 0, 1, 1, 1, 2, 1, 1, 1, 1, 0, 1, 0, 2, 0, 2, 1, 1, 1, 0, 0, 1, 2, 0, 1, 0, 1, 0, 2, 0, 2, 2, 2, 2, 1, 2, 1, 0, 1, 1, 1, 0, 1, 0, 2, 2, 0, 1, 2, 1, 1, 1, 1, 1, 1, 1, 1, 2, 0, 1, 0, 1, 2, 1, 2, 2, 0, 0, 0, 0, 2, 0, 1, 1, 1, 1, 1, 1, 0, 0, 2, 2, 1, 0, 2, 1, 1, 1, 1, 1, 1, 1, 2, 1, 2, 1, 1, 0, 1, 1, 0, 0, 1, 2, 1, 0, 0, 0, 2, 1, 1, 0, 0, 2, 1, 0, 0, 1, 0, 2, 1, 1, 1, 2, 2, 0, 1, 0, 2, 1, 2, 0, 1, 0, 1, 2, 2, 0, 1, 1, 0, 2, 0, 0, 1, 2, 1, 2, 0, 1, 2, 1, 1, 1, 0, 0, 2, 1, 1, 1, 1, 1, 0, 2, 1, 1, 0, 0, 1, 1, 1, 1, 2, 1, 1, 0, 2, 2, 1, 0, 1, 1, 0, 1, 1, 0, 0, 2, 2, 1, 1, 1, 2, 2, 2, 1, 1, 0, 0, 0, 2, 1, 1, 1, 0, 1, 2, 0, 1, 2, 1, 2, 1, 1, 0, 1, 0, 1, 0, 2, 0, 2, 2, 1, 1, 0, 0, 0, 2, 1, 1, 1, 1, 1, 1, 2, 0, 1, 0, 1, 1, 2, 1, 1, 2, 0, 1, 2, 2, 0, 2, 1, 2, 1, 2, 1, 1, 1, 0, 2, 2, 1, 1, 2, 2, 1, 0, 2, 0, 0, 2, 1, 1, 1, 0, 1, 2, 0, 2, 0, 2, 1, 1, 0, 1, 0, 1, 2, 1, 1, 2, 2, 2, 1, 1, 1, 2, 1, 1, 2, 1, 0, 2, 0, 2, 2, 1, 2, 0, 0, 2, 1, 0, 0, 1, 1, 0, 1, 0, 2, 0, 1, 1, 0, 1, 0, 1, 2, 0, 2, 1, 1, 1, 2, 1, 2, 1, 1, 2, 1, 0, 1, 2, 1, 1, 1, 1, 0, 1, 0, 0, 1, 0, 2, 2, 1, 1, 1, 1, 1, 1, 0, 2, 1, 1, 0, 2, 0, 1, 0, 1, 0, 0, 0, 0, 0, 2, 2, 2, 1, 1, 0, 2, 0, 0, 2, 1, 2, 1, 1, 1, 0, 1, 1, 0, 1, 1, 1, 1, 0, 0, 1, 2, 1, 1, 2, 0, 0, 1, 1, 2, 0, 0, 0, 1, 1, 0, 1, 1, 1, 2, 1, 1, 1, 1, 0, 1, 2, 1, 1, 1, 1, 1, 2, 1, 0, 0, 1, 1, 2, 0, 1, 1, 0, 1, 1, 2, 0, 1, 1, 0, 2, 2, 1, 2, 1, 1, 1, 0, 0, 0, 1, 2, 1, 1, 2, 0, 1, 0, 0, 0, 1, 2, 1, 1, 1, 1, 1, 2, 2, 1, 2, 0, 1, 2, 1, 2, 2, 1, 1, 2, 1, 0, 1, 1, 1, 0, 1, 1, 0, 0, 1, 1, 0, 1, 2, 1, 0, 1, 1, 1, 2, 0, 0, 1, 1, 1, 0, 1, 1, 0, 1, 1, 0, 1, 0, 1, 0, 0, 1, 2, 1, 0, 1, 0, 1, 0, 1, 0, 0, 1, 2, 0, 1, 1, 1, 1, 0, 1, 1, 2, 2, 1, 1, 0, 0, 0, 0, 1, 1, 1, 1, 1, 0, 2, 2, 1, 2, 1, 2, 2, 1, 1, 1, 0, 0, 2, 1, 2, 1, 0, 1, 1, 1, 1, 0, 2, 0, 0, 0, 1, 0, 1, 2, 2, 2, 1, 1, 1, 2, 1, 2, 1, 0, 1, 1, 2, 1, 1, 1, 1, 2, 1, 2, 2, 1, 1, 1, 0, 1, 2, 0, 1, 2, 1, 1, 0, 1, 1, 1, 1, 2, 1, 0, 1, 0, 2, 1, 0, 0, 2, 0, 0, 0, 2, 0, 0, 2, 1, 1, 1, 0, 1, 1, 1, 1, 1, 2, 1, 0, 0, 0, 0, 0, 2, 0, 2, 1, 1, 0, 2, 1, 1, 0, 1, 0, 2, 0, 1, 2, 0, 0, 1, 2, 1, 1, 1, 0, 0, 2, 2, 0, 0, 1, 2, 1, 1, 2, 2, 1, 1, 2, 0, 1, 0, 2, 1, 2, 2, 2, 0, 1, 1, 0, 2, 0, 2, 1, 0, 0, 0, 0, 0, 1, 0, 1, 2, 2, 2, 2, 1, 0, 2, 1, 2, 1, 1, 1, 2, 1, 1, 1, 1, 0, 2, 1, 0, 0, 1, 2, 1, 2, 1, 0, 0, 2, 1, 0, 1, 0, 2, 0, 1, 0, 1, 1, 0, 1, 1, 1, 0, 2, 1, 0, 0, 1, 1, 1, 0, 1, 0, 0, 2, 2, 1, 2, 1, 2, 1, 1, 0, 1, 0, 2, 1, 1, 0, 1, 0, 2, 1, 1, 1, 1, 0, 2, 0, 1, 1, 1, 0, 2, 0, 0, 1, 0, 2, 0, 1, 2, 0, 1, 0, 0, 2, 2, 1, 1, 0, 2, 1, 1, 0, 1, 0, 2, 2, 2, 1, 2, 1, 1, 1, 1, 1, 0, 2, 1, 1, 1, 1, 1, 0, 1, 2, 0, 1, 1, 2, 1, 1, 0, 0, 1, 1, 1, 2, 1, 1, 0, 2, 1, 2, 1, 2, 0, 1, 1, 0, 0, 1, 0, 1, 2, 0, 2, 1, 0, 1, 2, 1, 1, 1, 1, 0, 1, 2, 2, 2, 1, 2, 1, 0, 1, 1, 2, 0, 1, 1, 0, 1, 1, 1, 1, 1, 0, 1, 1, 1, 1, 1, 2, 1, 0, 2, 2, 2, 0, 0, 1, 1, 0, 1, 1, 0, 1, 1, 1, 1, 2, 1, 1, 0, 0, 2, 0, 2, 2, 2, 1, 1, 1, 1, 1, 2, 2, 1, 1, 1, 2, 2, 1, 1, 1, 0, 0, 1, 2, 1, 2, 1, 1, 1, 1, 1, 0, 0, 1, 2, 1, 2, 0, 0, 2, 1, 1, 2, 0, 1, 1, 1, 1, 1, 0, 1, 1, 1, 0, 0, 1, 0, 2, 1, 2, 0, 0, 0, 0, 0, 0, 0, 2, 2, 0, 0, 1, 0, 2, 2, 1, 2, 0, 1, 1, 2, 2, 1, 0, 1, 0, 2, 1, 2, 1, 1, 1, 1, 0, 0, 2, 0, 1, 1, 1, 0, 1, 0, 1, 1, 0, 1, 2, 1, 2, 1, 1, 2, 1, 2, 2, 1, 1, 2, 1, 1, 0, 1, 0, 0, 0, 1, 1, 2, 1, 1, 1, 2, 1, 1, 0, 1, 1, 2, 2, 2, 1, 1, 0, 2, 0, 1, 2, 1, 2, 1, 1, 1, 1, 1, 1, 0, 0, 1, 0, 2, 2, 1, 2, 1, 1, 1, 0, 2, 0, 1, 1, 0, 2, 1, 1, 0, 1, 0, 1, 2, 1, 1, 1, 1, 1, 1, 0, 0, 0, 1, 1, 0, 1, 1, 1, 0, 2, 0, 0, 1, 1, 1, 1, 1, 1, 1, 1, 1, 2, 1, 2, 2, 2, 0, 1, 0, 1, 2, 2, 0, 2, 0, 1, 1, 0, 1, 1, 0, 2, 1, 1, 1, 0, 1, 1, 0, 1, 0, 1, 2, 2, 1, 0, 2, 1, 0, 1, 0, 0, 0, 1, 1, 1, 1, 0, 1, 1, 0, 1, 1, 1, 1, 2, 1, 1, 0, 1, 1, 1, 1, 1, 0, 2, 1, 2, 0, 1, 0, 2, 1, 1, 0, 2, 2, 1, 1, 0, 2, 2, 0, 0, 1, 1, 1, 1, 2, 1, 2, 1, 1, 1, 1, 2, 2, 2, 1, 0, 2, 2, 0, 2, 2, 0, 2, 1, 2, 0, 0, 2, 1, 2, 1, 2, 0, 0, 2, 1, 1, 1, 1, 2, 1, 1, 2, 1, 0, 2, 0, 0, 1, 1, 1, 1, 2, 1, 2, 2, 0, 2, 1, 1, 1, 0, 2, 0, 1, 2, 2, 1, 0, 2, 2, 1, 2, 0, 2, 1, 1, 1, 0, 0, 0, 0, 0, 2, 0, 0, 2, 1, 0, 2, 2, 0, 1, 2, 0, 1, 1, 2, 0, 0, 1, 1, 2, 0, 0, 1, 0, 2, 0, 2, 0, 1, 0, 1, 1, 2, 1, 2, 2, 2, 2, 2, 2, 1, 1, 1, 2, 0, 1, 1, 1, 0, 1, 0, 1, 1, 2, 0, 1, 0, 0, 0, 1, 1, 0, 0, 1, 0, 1, 2, 0, 1, 1, 1, 0, 1, 0, 1, 0, 0, 0, 1, 0, 2, 0, 0, 0, 1, 0, 2, 1, 0, 1, 1, 2, 1, 1, 1, 0, 1, 2, 2, 1, 0, 1, 0, 1, 0, 1, 1, 1, 0, 0, 0, 1, 1, 1, 2, 2, 1, 0, 2, 1, 1, 2, 1, 0, 1, 1, 2, 0, 2, 1, 1, 0, 2, 0, 2, 1, 1, 2, 2, 1, 1, 2, 1, 0, 1, 1, 1, 0, 2, 0, 2, 1, 1, 1, 0, 1, 1, 2, 1, 1, 2, 0, 1, 0, 2, 0, 1, 1, 2, 1, 2, 0, 1, 2, 1, 1, 1, 2, 1, 0, 1, 0, 0, 0, 1, 0, 1, 1, 1, 0, 2, 0, 2, 0, 1, 1, 2, 2, 1, 1, 1, 0, 2, 1, 1, 1, 1, 2, 1, 1, 1, 2, 2, 2, 0, 1, 2, 0, 2, 1, 0, 1, 2, 1, 0, 1, 1, 2, 1, 1, 0, 1, 1, 0, 0, 1, 1, 1, 1, 1, 2, 0, 0, 1, 2, 0, 2, 2, 2, 0, 0, 1, 1, 1, 1, 2, 2, 2, 1, 0, 1, 1, 1, 1, 1, 0, 2, 2, 0, 2, 0, 0, 1, 2, 1, 0, 1, 2, 1, 0, 1, 1, 0, 1, 0, 1, 2, 1, 1, 1, 1, 1, 1, 0, 1, 0, 2, 1, 0, 0, 1, 0, 0, 1, 1, 2, 0, 0, 2, 0, 2, 2, 2, 2, 2, 1, 2, 1, 1, 1, 1, 2, 0, 2, 0, 1, 0, 1, 0, 2, 1, 0, 1, 2, 0, 1, 1, 0, 2, 0, 0, 1, 1, 0, 1, 2, 2, 2, 1, 0, 0, 0, 2, 1, 1, 0, 1, 1, 1, 0, 0, 1, 2, 1, 0, 2, 0, 1, 0, 0, 1, 2, 1, 0, 0, 2, 1, 1, 1, 2, 1, 1, 1, 2, 2, 1, 0, 0, 1, 1, 1, 1, 1, 2, 1, 1, 2, 1, 1, 0, 2, 2, 0, 0, 2, 1, 1, 1, 1, 2, 1, 1, 1, 0, 0, 1, 0, 1, 1, 2, 0, 2, 0, 2, 1, 1, 2, 1, 2, 1, 1, 2, 2, 1, 1, 0, 2, 0, 0, 0, 2, 1, 1, 1, 1, 1, 1, 1, 0, 1, 0, 2, 1, 1, 1, 1, 0, 2, 2, 1, 0, 0, 2, 2, 2, 1, 2, 1, 2, 1, 0, 0, 1, 0, 1, 1, 0, 2, 0, 1, 2, 1, 0, 0, 1, 2, 1, 0, 1, 1, 1, 0, 1, 2, 1, 1, 1, 2, 0, 1, 1, 0, 0, 0, 0, 2, 0, 2, 1, 2, 2, 1, 0, 2, 2, 1, 2, 2, 0, 2, 1, 2, 1, 1, 0, 0, 1, 2, 0, 2, 1, 1, 1, 1, 0, 1, 1, 1, 2, 0, 2, 0, 1, 1, 1, 1, 1, 2, 1, 2, 1, 0, 1, 2, 1, 1, 1, 1, 1, 1, 2, 2, 0, 0, 1, 1, 1, 2, 1, 1, 2, 0, 1, 1, 1, 1, 2, 1, 0, 2, 0, 1, 1, 1, 1, 1, 0, 1, 0, 1, 1, 0, 2, 1, 1, 2, 1, 1, 0, 2, 2, 1, 1, 1, 0, 2, 1, 1, 0, 2, 0, 2, 1, 0, 2, 2, 2, 0, 1, 1, 1, 2, 2, 1, 0, 2, 2, 1, 0, 0, 1, 1, 1, 1, 0, 0, 1, 2, 2, 1, 2, 2, 2, 2, 1, 0, 2, 1, 1, 1, 0, 2, 2, 0, 2, 1, 1, 1, 1, 1, 0, 0, 1, 1, 1, 1, 1, 2, 2, 0, 2, 1, 0, 2, 0, 0, 1, 1, 0, 2, 2, 0, 2, 1, 2, 2, 2, 2, 2, 1, 1, 0, 2, 0, 2, 1, 1, 1, 0, 2, 0, 0, 0, 2, 2, 2, 0, 0, 0, 1, 1, 1, 2, 1, 1, 1, 1, 2, 1, 2, 0, 1, 1, 1, 2, 1, 1, 1, 2, 1, 0, 1, 1, 1, 2, 0, 0, 2, 0, 1, 1, 0, 1, 1, 1, 1, 1, 1, 1, 2, 1, 0, 1, 1, 1, 1, 1, 1, 1, 1, 1, 2, 0, 0, 1, 1, 1, 0, 2, 0, 2, 2, 0, 1, 1, 2, 0, 0, 2, 1, 2, 0, 0, 1, 1, 0, 1, 1, 1, 2, 1, 1, 2, 1, 1, 1, 1, 1, 0, 1, 1, 2, 0, 1, 2, 1, 0, 1, 1, 1, 1, 1, 0, 0, 1, 0, 2, 2, 0, 1, 1, 1, 0, 0, 2, 2, 2, 0, 2, 1, 2, 2, 0, 0, 0, 1, 0, 2, 2, 1, 0, 0, 1, 0, 0, 2, 1, 1, 1, 1, 1, 2, 0, 2, 0, 1, 1, 2, 1, 1, 1, 1, 1, 1, 2, 2, 0, 1, 1, 0, 2, 0, 0, 0, 1, 2, 1, 1, 1, 0, 0, 1, 1, 1, 2, 1, 0, 1, 2, 1, 1, 1, 1, 1, 0, 1, 1, 1, 1, 0, 0, 1, 0, 1, 2, 1, 2, 2, 1, 1, 1, 2, 0, 2, 0, 1, 1, 2, 1, 2, 0, 1, 1, 1, 2, 2, 1, 1, 0, 1, 0, 0, 2, 2, 1, 2, 1, 2, 0, 1, 0, 0, 1, 1, 1, 0, 1, 2, 2, 1, 0, 1, 0, 1, 0, 0, 0, 2, 1, 1, 1, 0, 1, 2, 1, 1, 2, 1, 2, 1, 0, 1, 1, 1, 1, 1, 2, 1, 1, 1, 0, 1, 0, 0, 0, 2, 1, 0, 1, 1, 1, 1, 2, 1, 1, 1, 0, 1, 2, 1, 1, 1, 0, 1, 1, 2, 2, 2, 1, 1, 1, 1, 1, 1, 2, 1, 1, 1, 0, 1, 1, 2, 1, 2, 0, 1, 1, 1, 2, 2, 2, 0, 2, 2, 1, 1, 0, 1, 1, 1, 0, 1, 1, 1, 1, 2, 2, 1, 1, 0, 1, 2, 2, 1, 2, 2, 2, 1, 0, 1, 0, 0, 0, 1, 2, 2, 1, 1, 1, 1, 1, 1, 0, 0, 0, 1, 2, 0, 0, 1, 1, 0, 1, 1, 1, 0, 1, 1, 0, 1, 1, 1, 1, 1, 1, 0, 2, 2, 2, 1, 0, 2, 0, 2, 1, 2, 0, 1, 0, 1, 1, 2, 0, 0, 1, 2, 2, 2, 2, 2, 0, 1, 1, 1, 1, 1, 1, 2, 1, 2, 0, 1, 0, 2, 1, 2, 2, 0, 1, 1, 2, 0, 2, 2, 1, 1, 2, 1, 0, 0, 2, 2, 1, 0, 2, 1, 0, 2, 0, 0, 1, 2, 1, 0, 1, 0, 1, 0, 0, 1, 1, 0, 0, 2, 0, 1, 0, 0, 0, 1, 1, 1, 1, 0, 2, 0, 1, 0, 1, 0, 1, 2, 0, 1, 1, 1, 1, 1, 0, 2, 0, 1, 0, 0, 0, 0, 2, 0, 2, 1, 2, 0, 1, 1, 1, 1, 1, 0, 2, 2, 2, 1, 0, 0, 1, 0, 1, 0, 1, 1, 0, 0, 0, 1, 1, 0, 1, 2, 1, 1, 0, 1, 2, 1, 1, 0, 2, 0, 1, 1, 2, 1, 1, 1, 2, 1, 2, 2, 1, 1, 1, 0, 0, 2, 0, 1, 1, 1, 0, 1, 0, 2, 1, 1, 1, 2, 0, 2, 2, 0, 1, 1, 2, 1, 1, 2, 1, 0, 0, 0, 1, 1, 0, 1, 0, 2, 0, 1, 1, 0, 1, 0, 1, 0, 1, 2, 1, 1, 2, 1, 1, 1, 0, 0, 2, 1, 1, 2, 2, 1, 1, 1, 2, 2, 1, 0, 1, 0, 1, 1, 0, 0, 1, 1, 2, 2, 0, 1, 2, 0, 2, 0, 0, 1, 0, 0, 2, 2, 2, 1, 2, 1, 0, 0, 2, 0, 0, 1, 0, 0, 1, 0, 0, 2, 2, 1, 1, 0, 1, 0, 0, 1, 0, 1, 1, 0, 2, 0, 1, 1, 1, 2, 1, 1, 1, 2, 2, 0, 1, 2, 1, 1, 2, 1, 2, 1, 1, 2, 1, 1, 0, 1, 0, 0, 1, 0, 1, 1, 1, 1, 0, 0, 0, 0, 0, 1, 2, 0, 2, 1, 1, 1, 0, 0, 2, 1, 0, 0, 1, 0, 1, 0, 0, 2, 1, 1, 0, 0, 0, 1, 1, 1, 1, 0, 0, 2, 1, 2, 1, 2, 0, 2, 1, 1, 2, 0, 2, 2, 2, 1, 1, 1, 0, 1, 2, 2, 1, 2, 1, 1, 1, 1, 2, 2, 1, 2, 2, 1, 1, 2, 0, 2, 1, 1, 2, 1, 2, 1, 2, 1, 2, 1, 1, 0, 1, 1, 2, 1, 1, 1, 2, 1, 1, 2, 0, 0, 0, 1, 0, 2, 1, 0, 1, 2, 1, 1, 0, 1, 0, 1, 0, 1, 1, 1, 2, 1, 0, 1, 0, 1, 1, 2, 1, 1, 1, 2, 1, 2, 2, 0, 2, 1, 0, 2, 1, 1, 2, 0, 2, 2, 1, 0, 1, 0, 1, 0, 1, 1, 1, 1, 2, 0, 1, 1, 0, 1, 1, 0, 2, 1, 1, 2, 2, 1, 1, 0, 1, 2, 0, 1, 1, 1, 1, 2, 1, 1, 1, 1, 0, 2, 2, 1, 1, 1, 1, 1, 1, 1, 2, 0, 1, 2, 0, 0, 1, 1, 2, 0, 2, 0, 0, 2, 1, 2, 1, 1, 0, 0, 1, 1, 2, 2, 2, 2, 0, 2, 0, 0, 0, 0, 2, 1, 1, 0, 0, 0, 1, 2, 1, 1, 2, 2, 0, 1, 0, 1, 1, 1, 1, 0, 1, 2, 0, 0, 2, 0, 0, 1, 0, 2, 2, 1, 2, 1, 0, 0, 1, 1, 1, 2, 2, 2, 1, 2, 1, 1, 1, 1, 0, 2, 2, 2, 1, 0, 2, 1, 1, 1, 1, 2, 2, 2, 1, 1, 1, 2, 1, 1, 1, 1, 1, 1, 1, 0, 0, 1, 2, 1, 1, 1, 0, 0, 2, 0, 1, 0, 0, 0, 2, 1, 0, 1, 2, 2, 0, 1, 0, 0, 1, 1, 2, 1, 1, 0, 2, 1, 1, 2, 0, 2, 2, 1, 0, 1, 0, 1, 1, 2, 1, 2, 2, 1, 0, 2, 1, 0, 2, 2, 1, 1, 2, 2, 1, 0, 1, 2, 1, 1, 0, 0, 1, 1, 0, 2, 0, 1, 0, 1, 1, 0, 0, 1, 2, 1, 1, 1, 0, 2, 1, 2, 1, 2, 2, 1, 1, 2, 1, 1, 0, 0, 2, 1, 0, 2, 0, 0, 1, 1, 1, 1, 1, 0, 2, 1, 1, 1, 0, 1, 0, 2, 2, 1, 0, 0, 0, 2, 1, 1, 0, 0, 2, 1, 2, 1, 1, 1, 0, 1, 1, 1, 2, 0, 0, 2, 1, 2, 1, 0, 2, 1, 2, 2, 1, 1, 1, 0, 1, 0, 2, 1, 1, 0, 0, 1, 0, 1, 1, 2, 1, 1, 2, 1, 1, 2, 1, 0, 2, 1, 1, 2, 2, 1, 1, 2, 0, 1, 1, 2, 0, 1, 1, 1, 1, 1, 0, 1, 1, 2, 0, 0, 2, 2, 2, 2, 1, 0, 1, 2, 2, 0, 0, 2, 0, 1, 1, 1, 0, 1, 1, 1, 2, 2, 2, 1, 1, 2, 2, 0, 1, 2, 2, 2, 0, 1, 1, 0, 0, 1, 1, 1, 1, 2, 1, 0, 1, 1, 0, 1, 2, 2, 0, 1, 1, 2, 1, 0, 0, 0, 1, 1, 2, 1, 0, 2, 1, 1, 1, 1, 1, 2, 0, 1, 2, 1, 0, 1, 1, 0, 1, 2, 1, 0, 0, 0, 1, 1, 2, 1, 1, 2, 0, 0, 1, 0, 0, 1, 1, 1, 2, 0, 1, 1, 1, 0, 2, 1, 0, 1, 1, 1, 1, 1, 1, 0, 0, 0, 0, 1, 1, 1, 1, 0, 1, 1, 0, 1, 2, 1, 0, 2, 2, 2, 1, 1, 1, 1, 1, 1, 0, 0, 0, 1, 1, 0, 0, 0, 2, 1, 2, 1, 2, 1, 1, 2, 1, 2, 1, 2, 0, 1, 2, 0, 1, 1, 1, 1, 1, 1, 0, 2, 2, 2, 1, 0, 1, 1, 0, 0, 1, 1, 1, 1, 0, 2, 1, 2, 1, 1, 2, 1, 2, 2, 0, 2, 1, 0, 0, 0, 1, 2, 2, 1, 0, 1, 1, 0, 1, 1, 1, 1, 2, 0, 1, 1, 1, 1, 0, 0, 2, 1, 1, 2, 2, 1, 1, 1, 1, 2, 2, 1, 1, 1, 1, 0, 0, 1, 1, 2, 0, 1, 0, 1, 2, 1, 1, 1, 0, 2, 1, 2, 2, 0, 0, 0, 1, 2, 1, 2, 2, 2, 1, 1, 0, 1, 1, 1, 1, 2, 1, 2, 0, 1, 1, 1, 1, 1, 0, 1, 0, 1, 1, 1, 0, 1, 0, 0, 1, 2, 2, 1, 1, 1, 1, 1, 0, 1, 1, 1, 1, 1, 0, 1, 0, 0, 0, 0, 2, 1, 1, 1, 1, 2, 2, 2, 1, 1, 1, 2, 0, 0, 0, 1, 1, 1, 1, 2, 1, 1, 2, 2, 1, 1, 2, 2, 1, 0, 2, 0, 1, 1, 1, 1, 1, 0, 0, 1, 0, 1, 1, 1, 1, 1, 1, 1, 0, 0, 2, 1, 2, 1, 0, 1, 0, 1, 1, 1, 1, 1, 2, 0, 1, 1, 0, 1, 0, 1, 1, 2, 1, 0, 1, 1, 2, 1, 1, 0, 0, 1, 1, 0, 2, 2, 1, 2, 2, 1, 1, 1, 1, 0, 0, 2, 1, 1, 1, 1, 2, 2, 0, 1, 2, 1, 1, 2, 0, 1, 1, 0, 2, 2, 2, 0, 1, 1, 1, 1, 1, 2, 1, 0, 2, 1, 1, 1, 0, 0, 1, 2, 2, 2, 1, 0, 2, 0, 2, 1, 1, 2, 1, 0, 1, 1, 0, 1, 0, 1, 0, 1, 2, 1, 0, 2, 2, 1, 1, 1, 2, 1, 0, 1, 1, 1, 0, 1, 0, 2, 0, 0, 0, 1, 1, 0, 1, 1, 1, 0, 1, 1, 1, 2, 2, 1, 1, 1, 0, 2, 1, 1, 2, 0, 0, 2, 1, 1, 0, 1, 1, 0, 1, 1, 1, 0, 1, 0, 2, 0, 0, 0, 1, 1, 1, 2, 1, 2, 1, 1, 1, 2, 1, 0, 1, 1, 1, 1, 1, 0, 1, 0, 0, 1, 2, 0, 2, 2, 0, 1, 0, 1, 0, 1, 2, 1, 1, 0, 2, 2, 2, 1, 2, 2, 1, 2, 1, 0, 1, 2, 1, 1, 2, 0, 1, 0, 0, 0, 1, 2, 0, 2, 0, 1, 0, 1, 1, 1, 1, 1, 0, 1, 0, 2, 2, 1, 1, 0, 1, 2, 0, 0, 2, 2, 1, 2, 1, 1, 1, 0, 0, 0, 1, 0, 1, 1, 1, 1, 1, 1, 2, 2, 1, 2, 0, 2, 1, 1, 1, 1, 1, 0, 1, 1, 2, 0, 2, 2, 0, 0, 1, 1, 0, 1, 0, 2, 0, 0, 1, 0, 0, 2, 1, 1, 1, 1, 0, 2, 1, 1, 0, 0, 1, 2, 0, 1, 0, 1, 1, 2, 1, 2, 1, 1, 0, 1, 0, 2, 2, 1, 0, 2, 2, 1, 1, 1, 2, 1, 2, 1, 1, 0, 2, 0, 1, 1, 0, 0, 1, 2, 2, 2, 1, 0, 2, 0, 1, 2, 2, 2, 1, 1, 1, 1, 1, 1, 1, 1, 1, 0, 1, 0, 1, 2, 0, 0, 0, 2, 0, 1, 1, 0, 0, 1, 0, 2, 0, 1, 1, 1, 0, 1, 1, 0, 2, 1, 0, 1, 2, 0, 1, 1, 1, 1, 1, 1, 1, 1, 2, 1, 1, 2, 0, 2, 1, 1, 0, 2, 0, 0, 0, 0, 1, 2, 1, 2, 1, 2, 2, 2, 1, 1, 2, 1, 0, 2, 2, 1, 0, 1, 0, 0, 2, 1, 1, 1, 2, 0, 0, 1, 0, 1, 1, 2, 1, 2, 0, 0, 1, 1, 1, 2, 0, 2, 0, 0, 0, 2, 1, 2, 1, 2, 1, 0, 1, 2, 1, 2, 0, 2, 0, 1, 2, 1, 1, 0, 1, 1, 1, 1, 1, 0, 0, 0, 0, 2, 2, 0, 1, 2, 1, 1, 1, 1, 0, 1, 1, 1, 1, 2, 0, 1, 1, 1, 0, 0, 1, 2, 1, 1, 1, 1, 1, 0, 1, 0, 1, 1, 1, 0, 1, 1, 2, 1, 0, 1, 1, 1, 0, 1, 2, 1, 1, 1, 0, 1, 1, 1, 0, 0, 2, 1, 1, 0, 1, 0, 1, 2, 0, 1, 0, 2, 1, 1, 1, 1, 1, 1, 0, 1, 0, 2, 1, 2, 2, 2, 1, 1, 1, 1, 1, 0, 2, 0, 0, 2, 0, 1, 2, 0, 1, 1, 2, 1, 2, 2, 1, 0, 1, 2, 1, 0, 2, 1, 0, 1, 1, 1, 2, 0, 1, 1, 2, 2, 2, 2, 1, 1, 1, 0, 2, 1, 0, 1, 1, 0, 1, 0, 1, 1, 1, 1, 2, 1, 2, 1, 0, 2, 2, 1, 2, 1, 1, 1, 0, 0, 1, 1, 2, 0, 1, 2, 2, 1, 1, 1, 2, 1, 1, 1, 0, 1, 1, 2, 1, 1, 1, 0, 0, 0, 1, 1, 2, 1, 2, 1, 0, 1, 1, 0, 1, 0, 1, 0, 2, 1, 1, 2, 1, 1, 1, 2, 1, 1, 1, 1, 1, 2, 0, 1, 1, 1, 1, 1, 1, 1, 1, 0, 2, 2, 1, 0, 1, 0, 0, 0, 2, 0, 0, 1, 1, 1, 1, 0, 1, 0, 1, 2, 0, 1, 0, 0, 1, 1, 1, 0, 2, 1, 0, 2, 2, 0, 2, 1, 2, 1, 2, 1, 0, 2, 2, 1, 1, 1, 2, 0, 1, 0, 1, 1, 0, 1, 1, 0, 2, 1, 1, 2, 0, 1, 1, 1, 1, 0, 2, 1, 0, 1, 1, 0, 1, 1, 0, 0, 2, 0, 1, 0, 0, 1, 1, 1, 1, 2, 1, 0, 2, 0, 1, 1, 1, 1, 2, 2, 2, 1, 0, 1, 1, 0, 1, 2, 1, 2, 0, 1, 1, 1, 0, 2, 1, 1, 2, 1, 1, 1, 0, 2, 0, 1, 2, 2, 1, 0, 2, 1, 0, 1, 1, 2, 2, 0, 1, 1, 1, 0, 1, 1, 2, 1, 1, 1, 2, 2, 1, 1, 0, 1, 1, 0, 0, 1, 2, 2, 1, 1, 1, 1, 0, 1, 2, 1, 0, 1, 1, 1, 1, 1, 1, 2, 2, 2, 1, 2, 1, 1, 1, 0, 1, 0, 1, 1, 2, 1, 0, 1, 2, 1, 1, 2, 2, 2, 2, 2, 2, 1, 0, 1, 0, 1, 1, 0, 2, 0, 0, 2, 1, 1, 1, 1, 0, 1, 1, 2, 1, 2, 0, 0, 0, 0, 1, 1, 2, 1, 1, 0, 2, 1, 1, 0, 1, 1, 0, 1, 1, 1, 2, 1, 0, 2, 1, 1, 1, 2, 0, 0, 1, 0, 1, 2, 1, 0, 2, 0, 0, 2, 1, 1, 0, 1, 1, 1, 1, 2, 1, 1, 1, 0, 1, 1, 0, 2, 1, 1, 1, 0, 1, 1, 2, 1, 1, 1, 0, 1, 2, 2, 2, 2, 1, 0, 1, 1, 1, 2, 1, 1, 2, 2, 1, 2, 1, 1, 1, 1, 1, 2, 2, 0, 0, 1, 1, 1, 0, 0, 1, 1, 0, 2, 1, 1, 1, 1, 1, 2, 1, 0, 2, 2, 2, 0, 1, 1, 0, 1, 2, 1, 1, 0, 0, 0, 1, 1, 2, 1, 0, 1, 1, 1, 2, 1, 2, 0, 1, 1, 2, 1, 2, 1, 2, 1, 0, 0, 0, 2, 1, 1, 2, 1, 1, 1, 1, 2, 0, 1, 1, 1, 0, 1, 2, 2, 0, 1, 0, 2, 0, 1, 1, 0, 1, 2, 0, 1, 2, 1, 1, 0, 1, 1, 0, 0, 1, 1, 1, 1, 0, 0, 0, 1, 1, 0, 1, 2, 2, 2, 1, 2, 1, 1, 1, 1, 1, 1, 1, 1, 2, 1, 1, 2, 2, 0, 1, 0, 1, 0, 0, 0, 2, 1, 1, 1, 2, 1, 2, 2, 1, 0, 1, 0, 0, 1, 2, 1, 1, 1, 1, 0, 1, 2, 1, 1, 0, 1, 1, 2, 2, 1, 2, 1, 2, 1, 1, 0, 2, 1, 0, 2, 1, 1, 1, 2, 1, 1, 0, 0, 1, 1, 1, 1, 2, 0, 0, 1, 2, 0, 1, 1, 1, 0, 1, 1, 2, 0, 1, 1, 1, 0, 1, 1, 1, 1, 0, 1, 1, 2, 0, 1, 2, 0, 1, 1, 0, 0, 1, 1, 2, 1, 0, 2, 0, 0, 1, 1, 0, 0, 2, 2, 1, 1, 1, 0, 2, 0, 1, 1, 1, 1, 1, 1, 1, 1, 0, 2, 0, 1, 2, 1, 1, 0, 1, 1, 2, 2, 2, 1, 0, 1, 1, 1, 1, 2, 1, 2, 2, 0, 0, 1, 2, 1, 0, 1, 2, 0, 0, 0, 2, 1, 1, 1, 2, 0, 1, 0, 1, 0, 0, 1, 1, 1, 0, 0, 2, 2, 0, 1, 0, 0, 1, 0, 1, 1, 2, 1, 2, 0, 1, 1, 2, 1, 0, 2, 1, 0, 1, 0, 1, 1, 2, 1, 0, 2, 1, 1, 0, 0, 2, 2, 0, 1, 2, 0, 1, 1, 1, 1, 1, 0, 2, 1, 1, 1, 2, 2, 1, 2, 1, 2, 2, 2, 2, 1, 2, 1, 0, 1, 1, 0, 1, 0, 1, 0, 0, 2, 0, 1, 0, 1, 1, 1, 1, 1, 1, 2, 2, 1, 1, 2, 2, 1, 0, 2, 2, 2, 0, 1, 2, 1, 1, 2, 1, 0, 2, 1, 1, 0, 2, 0, 1, 0, 2, 0, 0, 1, 0, 2, 1, 2, 1, 0, 2, 1, 1, 1, 0, 2, 1, 1, 0, 0, 0, 0, 0, 1, 0, 2, 0, 1, 1, 1, 2, 2, 1, 0, 2, 1, 0, 0, 0, 1, 0, 1, 1, 2, 0, 1, 1, 2, 1, 1, 1, 2, 1, 2, 0, 2, 1, 2, 0, 0, 1, 1, 1, 1, 2, 0, 1, 1, 1, 1, 1, 1, 2, 0, 0, 2, 0, 1, 0, 0, 0, 1, 0, 2, 0, 0, 1, 2, 2, 1, 1, 0, 1, 1, 1, 1, 1, 0, 1, 0, 2, 1, 1, 1, 1, 1, 0, 0, 2, 1, 2, 2, 1, 1, 2, 1, 1, 1, 0, 2, 0, 2, 0, 2, 2, 2, 2, 2, 0, 1, 1, 2, 0, 1, 1, 0, 0, 2, 0, 0, 1, 2, 2, 1, 1, 2, 2, 1, 1, 1, 2, 1, 1, 1, 2, 0, 1, 1, 1, 1, 0, 1, 0, 0, 1, 0, 0, 1, 1, 1, 1, 1, 0, 0, 1, 2, 2, 2, 1, 2, 2, 2, 1, 1, 2, 2, 0, 2, 1, 1, 1, 1, 0, 0, 1, 1, 1, 1, 1, 1, 1, 2, 0, 0, 0, 1, 0, 1, 1, 1, 2, 0, 0, 2, 2, 1, 1, 1, 1, 1, 2, 1, 0, 1, 0, 0, 0, 0, 2, 0, 2, 1, 1, 1, 1, 0, 1, 1, 1, 0, 2, 2, 0, 2, 1, 1, 1, 0, 1, 0, 1, 1, 0, 1, 2, 1, 1, 2, 0, 2, 1, 1, 1, 0, 2, 2, 1, 0, 1, 1, 1, 2, 0, 1, 0, 0, 0, 1, 0, 1, 0, 2, 1, 2, 1, 0, 2, 2, 0, 1, 1, 0, 0, 0, 1, 1, 0, 0, 2, 2, 1, 1, 1, 1, 0, 1, 1, 2, 1, 1, 1, 2, 1, 1, 0, 1, 1, 0, 2, 1, 1, 1, 1, 2, 1, 1, 0, 1, 0, 0, 0, 1, 1, 0, 0, 2, 1, 2, 1, 2, 1, 1, 1, 2, 2, 0, 1, 0, 1, 1, 1, 1, 0, 1, 0, 0, 2, 1, 0, 0, 1, 0, 0, 0, 0, 1, 2, 2, 0, 1, 2, 0, 0, 2, 0, 0, 1, 2, 1, 0, 1, 1, 0, 1, 1, 1, 1, 0, 1, 1, 1, 1, 0, 0, 1, 2, 2, 1, 2, 1, 0, 1, 0, 2, 0, 1, 0, 2, 1, 2, 0, 2, 1, 0, 2, 0, 1, 1, 2, 1, 2, 1, 2, 2, 1, 0, 0, 2, 2, 2, 1, 1, 0, 1, 2, 1, 1, 1, 0, 1, 1, 1, 1, 1, 1, 2, 1, 2, 1, 0, 1, 1, 1, 1, 1, 1, 1, 0, 1, 2, 1, 2, 0, 1, 2, 1, 1, 1, 1, 1, 0, 1, 0, 1, 0, 0, 0, 1, 2, 0, 0, 1, 0, 2, 2, 1, 1, 2, 1, 1, 0, 1, 2, 2, 1, 2, 0, 2, 2, 1, 2, 1, 2, 2, 1, 0, 1, 0, 1, 1, 0, 1, 2, 1, 1, 2, 2, 1, 2, 2, 1, 1, 1, 1, 1, 1, 1, 0, 2, 1, 1, 0, 2, 2, 0, 0, 1, 2, 0, 0, 1, 1, 1, 1, 1, 2, 1, 1, 1, 1, 1, 1, 1, 2, 2, 2, 2, 2, 1, 1, 1, 1, 1, 0, 1, 1, 1, 0, 1, 0, 1, 1, 1, 1, 0, 1, 1, 1, 2, 2, 1, 0, 1, 1, 1, 1, 0, 2, 1, 0, 0, 1, 1, 1, 0, 1, 2, 1, 1, 0, 1, 2, 2, 1, 1, 0, 2, 0, 0, 0, 0, 0, 2, 0, 1, 0, 1, 0, 0, 1, 1, 0, 0, 2, 0, 1, 2, 1, 0, 1, 1, 2, 1, 0, 0, 1, 1, 1, 0, 1, 0, 0, 0, 1, 2, 0, 2, 0, 0, 1, 1, 1, 1, 1, 1, 2, 1, 1, 2, 2, 0, 1, 1, 0, 2, 2, 1, 1, 2, 2, 1, 1, 2, 2, 2, 1, 2, 1, 1, 1, 1, 0, 1, 0, 0, 2, 0, 1, 1, 1, 1, 0, 1, 1, 1, 1, 1, 2, 2, 2, 2, 0, 0, 2, 0, 2, 1, 0, 1, 0, 0, 0, 1, 1, 1, 2, 0, 1, 0, 0, 1, 0, 2, 1, 1, 1, 1, 1, 2, 1, 2, 0, 2, 0, 0, 0, 2, 2, 2, 0, 1, 1, 0, 1, 2, 2, 1, 1, 1, 0, 1, 1, 1, 0, 1, 2, 1, 1, 1, 2, 0, 2, 2, 2, 1, 2, 1, 0, 2, 0, 1, 1, 1, 0, 1, 1, 1, 0, 1, 2, 0, 1, 0, 1, 1, 2, 1, 1, 2, 1, 1, 1, 0, 1, 1, 1, 2, 0, 1, 0, 1, 1, 0, 0, 1, 0, 1, 1, 1, 1, 1, 2, 1, 0, 1, 2, 2, 0, 1, 1, 1, 2, 2, 0, 1, 1, 2, 2, 1, 0, 1, 0, 1, 1, 2, 2, 1, 1, 1, 0, 1, 1, 2, 0, 2, 2, 1, 1, 2, 2, 1, 0, 1, 1, 1, 0, 1, 1, 0, 1, 2, 1, 1, 0, 1, 1, 2, 0, 0, 1, 2, 1, 2, 1, 2, 1, 1, 2, 1, 2, 2, 2, 2, 0, 1, 1, 1, 1, 2, 0, 2, 0, 1, 2, 1, 1, 0, 1, 1, 1, 1, 1, 0, 1, 1, 1, 1, 0, 1, 2, 1, 2, 2, 1, 0, 1, 1, 1, 1, 1, 0, 0, 1, 1, 2, 1, 1, 0, 1, 0, 1, 0, 0, 1, 1, 1, 0, 2, 1, 2, 1, 2, 0, 2, 0, 1, 1, 1, 0, 1, 2, 1, 1, 1, 1, 1, 1, 1, 1, 1, 2, 1, 0, 2, 0, 1, 1, 0, 1, 0, 2, 0, 0, 2, 0, 1, 0, 0, 1, 0, 2, 0, 1, 0, 1, 0, 1, 0, 1, 0, 1, 2, 0, 1, 0, 1, 0, 2, 1, 2, 2, 0, 1, 1, 1, 2, 0, 1, 1, 1, 1, 1, 1, 2, 1, 0, 0, 0, 1, 1, 1, 0, 1, 2, 0, 1, 0, 0, 1, 1, 1, 1, 2, 1, 1, 1, 1, 1, 1, 0, 1, 1, 1, 1, 2, 0, 1, 1, 1, 1, 0, 2, 1, 1, 2, 0, 1, 0, 1, 1, 2, 1, 2, 2, 2, 1, 2, 2, 2, 1, 2, 2, 0, 2, 2, 1, 0, 2, 2, 0, 1, 1, 0, 1, 1, 1, 2, 2, 2, 1, 1, 1, 2, 0, 0, 0, 2, 1, 2, 0, 0, 0, 2, 1, 1, 0, 0, 0, 0, 1, 1, 1, 1, 1, 0, 2, 1, 0, 1, 2, 1, 0, 0, 2, 0, 2, 1, 0, 1, 2, 1, 1, 1, 1, 1, 0, 1, 2, 1, 2, 1, 2, 1, 0, 0, 1, 1, 1, 0, 2, 2, 1, 1, 1, 1, 1, 1, 1, 1, 2, 2, 0, 0, 0, 2, 0, 0, 1, 2, 2, 1, 2, 2, 2, 0, 2, 0, 1, 1, 2, 0, 0, 1, 2, 1, 0, 1, 1, 0, 1, 1, 1, 1, 1, 1, 0, 1, 1, 2, 1, 2, 0, 1, 1, 0, 0, 1, 1, 1, 2, 0, 1, 1, 1, 0, 1, 2, 0, 2, 2, 0, 0, 2, 1, 2, 1, 1, 1, 1, 2, 2, 0, 1, 1, 1, 1, 2, 1, 2, 1, 1, 2, 0, 0, 0, 0, 1, 0, 0, 0, 0, 1, 1, 1, 1, 1, 2, 1, 1, 1, 1, 2, 1, 0, 1, 1, 1, 1, 2, 1, 1, 0, 1, 1, 1, 2, 1, 1, 2, 1, 0, 0, 1, 1, 0, 1, 1, 2, 0, 0, 1, 0, 1, 1, 1, 1, 2, 2, 1, 0, 2, 1, 0, 0, 2, 0, 2, 2, 1, 2, 1, 0, 2, 0, 0, 1, 1, 0, 2, 2, 1, 0, 2, 1, 0, 0, 2, 0, 2, 2, 1, 2, 2, 1, 1, 1, 1, 0, 1, 0, 2, 0, 0, 2, 1, 1, 1, 2, 0, 2, 1, 0, 0, 2, 1, 1, 1, 0, 1, 0, 0, 2, 1, 0, 2, 0, 1, 0, 0, 2, 2, 0, 2, 1, 2, 1, 2, 1, 2, 0, 1, 0, 1, 2, 1, 2, 0, 1, 2, 0, 1, 0, 2, 1, 1, 0, 0, 1, 1, 0, 1, 0, 2, 1, 1, 0, 2, 1, 2, 1, 0, 1, 1, 0, 0, 1, 1, 1, 1, 1, 0, 0, 1, 1, 1, 1, 1, 0, 1, 2, 0, 0, 0, 1, 1, 1, 2, 1, 0, 1, 1, 0, 2, 2, 1, 1, 1, 1, 1, 0, 0, 1, 1, 1, 2, 0, 0, 1, 2, 1, 2, 0, 0, 1, 1, 1, 1, 0, 1, 0, 0, 1, 1, 0, 1, 2, 2, 0, 2, 2, 0, 2, 0, 1, 1, 0, 1, 1, 1, 1, 2, 2, 0, 1, 1, 1, 1, 1, 1, 0, 1, 1, 2, 0, 1, 1, 0, 1, 1, 2, 2, 0, 1, 1, 1, 1, 0, 0, 2, 1, 2, 1, 2, 2, 0, 0, 2, 1, 2, 0, 0, 2, 0, 1, 2, 1, 1, 1, 1, 1, 0, 1, 1, 0, 0, 1, 2, 1, 2, 2, 1, 1, 2, 0, 1, 1, 1, 1, 1, 2, 2, 1, 1, 1, 2, 1, 1, 1, 1, 0, 0, 2, 2, 2, 2, 0, 1, 0, 1, 0, 1, 2, 0, 1, 1, 0, 0, 0, 1, 0, 0, 1, 0, 0, 1, 1, 1, 2, 1, 1, 1, 1, 1, 1, 2, 1, 0, 1, 0, 2, 1, 2, 1, 1, 2, 1, 2, 2, 1, 2, 1, 2, 0, 2, 0, 0, 2, 1, 2, 1, 1, 2, 1, 0, 1, 1, 0, 2, 2, 1, 1, 2, 1, 1, 2, 0, 0, 1, 0, 0, 2, 0, 1, 1, 1, 2, 2, 0, 1, 1, 1, 0, 1, 0, 1, 2, 1, 1, 1, 0, 1, 0, 0, 1, 1, 1, 1, 2, 0, 2, 1, 0, 0, 1, 0, 2, 1, 2, 0, 0, 1, 1, 1, 0, 0, 0, 0, 2, 1, 1, 2, 0, 1, 1, 1, 1, 1, 0, 2, 0, 0, 1, 0, 1, 0, 2, 0, 1, 1, 2, 0, 0, 1, 2, 2, 0, 1, 0, 1, 2, 0, 0, 2, 1, 1, 1, 0, 0, 1, 0, 2, 0, 1, 0, 1, 1, 1, 1, 1, 2, 1, 2, 1, 1, 1, 0, 1, 2, 0, 0, 0, 0, 2, 0, 2, 1, 2, 2, 1, 2, 1, 1, 1, 1, 2, 1, 1, 1, 1, 1, 2, 1, 1, 2, 1, 0, 1, 2, 2, 2, 1, 0, 0, 1, 1, 1, 1, 0, 1, 0, 1, 1, 1, 1, 2, 1, 1, 1, 2, 0, 1, 1, 2, 0, 1, 0, 2, 1, 1, 1, 1, 0, 2, 2, 0, 1, 1, 1, 2, 2, 1, 1, 2, 2, 0, 0, 2, 0, 1, 2, 1, 1, 1, 1, 0, 1, 2, 1, 1, 2, 2, 0, 0, 1, 1, 0, 0, 1, 0, 0, 1, 2, 1, 2, 0, 2, 1, 0, 0, 2, 0, 2, 2, 1, 1, 1, 1, 2, 1, 1, 1, 1, 1, 2, 0, 0, 1, 2, 1, 1, 0, 0, 0, 2, 0, 1, 2, 0, 2, 1, 1, 0, 0, 1, 0, 1, 1, 0, 2, 1, 2, 2, 0, 0, 0, 1, 0, 1, 0, 2, 1, 0, 0, 0, 1, 1, 1, 1, 0, 1, 1, 1, 1, 0, 0, 0, 1, 0, 0, 1, 1, 0, 1, 1, 2, 1, 0, 0, 1, 1, 1, 2, 1, 1, 2, 1, 2, 1, 0, 2, 1, 1, 1, 1, 0, 1, 2, 1, 1, 0, 0, 0, 2, 1, 1, 2, 1, 1, 1, 2, 2, 0, 0, 2, 1, 1, 1, 1, 2, 2, 2, 1, 2, 0, 0, 1, 1, 1, 1, 0, 0, 1, 1, 0, 0, 1, 0, 0, 1, 1, 2, 0, 0, 1, 2, 1, 1, 1, 0, 0, 0, 2, 2, 1, 1, 1, 1, 1, 1, 1, 0, 2, 1, 1, 1, 2, 2, 0, 0, 2, 1, 1, 1, 1, 2, 1, 1, 0, 1, 1, 2, 0, 1, 2, 0, 1, 1, 0, 0, 2, 1, 2, 1, 1, 1, 2, 1, 1, 1, 1, 2, 1, 1, 2, 0, 1, 2, 1, 1, 2, 1, 1, 1, 0, 2, 0, 1, 1, 2, 1, 1, 2, 0, 1, 2, 1, 0, 0, 2, 1, 1, 0, 1, 1, 1, 2, 0, 1, 1, 2, 2, 0, 1, 2, 0, 1, 0, 1, 0, 0, 2, 1, 1, 2, 2, 0, 1, 1, 1, 0, 1, 1, 2, 1, 2, 0, 0, 1, 1, 2, 1, 1, 1, 2, 2, 0, 2, 2, 2, 0, 0, 1, 1, 0, 2, 1, 1, 1, 2, 0, 1, 0, 1, 0, 1, 1, 1, 1, 1, 1, 1, 2, 1, 1, 2, 2, 0, 0, 2, 2, 1, 1, 2, 2, 2, 0, 1, 2, 0, 2, 1, 2, 0, 1, 2, 1, 1, 1, 2, 0, 1, 2, 0, 0, 0, 0, 2, 1, 1, 0, 1, 0, 1, 1, 1, 1, 2, 1, 0, 0, 1, 1, 2, 0, 1, 1, 2, 1, 0, 1, 0, 2, 1, 1, 1, 1, 1, 0, 0, 2, 0, 0, 2, 1, 1, 1, 1, 1, 1, 1, 2, 0, 1, 0, 2, 1, 0, 1, 2, 1, 2, 0, 1, 2, 2, 2, 1, 1, 2, 2, 2, 1, 2, 1, 0, 0, 1, 1, 1, 0, 1, 1, 2, 1, 2, 1, 1, 0, 1, 0, 1, 0, 0, 2, 2, 0, 0, 1, 1, 1, 2, 2, 0, 0, 0, 1, 1, 0, 2, 2, 1, 1, 0, 1, 2, 0, 1, 2, 0, 0, 1, 1, 2, 1, 1, 1, 1, 1, 1, 0, 1, 1, 0, 2, 1, 0, 2, 0, 1, 0, 1, 2, 1, 0, 0, 1, 1, 1, 2, 1, 2, 1, 1, 2, 1, 0, 1, 0, 2, 1, 0, 1, 0, 2, 2, 1, 1, 1, 0, 1, 1, 0, 2, 1, 1, 1, 1, 1, 1, 1, 1, 1, 1, 0, 2, 1, 1, 0, 0, 0, 2, 0, 0, 1, 1, 1, 1, 2, 1, 1, 0, 0, 1, 0, 2, 0, 0, 2, 1, 1, 2, 1, 2, 2, 1, 1, 1, 0, 0, 1, 2, 1, 1, 2, 1, 1, 2, 0, 1, 1, 2, 1, 2, 1, 0, 2, 1, 1, 1, 2, 0, 1, 1, 2, 2, 2, 1, 0, 1, 2, 0, 1, 1, 1, 2, 1, 2, 2, 1, 1, 1, 0, 1, 1, 2, 2, 1, 1, 1, 0, 2, 2, 1, 1, 0, 1, 1, 1, 1, 0, 1, 2, 0, 1, 1, 1, 0, 1, 1, 2, 1, 1, 1, 0, 1, 2, 2, 1, 0, 1, 0, 2, 2, 0, 0, 2, 1, 0, 1, 2, 1, 0, 2, 2, 1, 1, 2, 1, 0, 1, 0, 1, 1, 1, 0, 2, 2, 0, 2, 1, 1, 1, 1, 1, 1, 1, 2, 0, 1, 2, 1, 1, 0, 1, 1, 1, 2, 2, 2, 2, 2, 1, 0, 1, 1, 2, 0, 0, 2, 2, 1, 1, 2, 1, 1, 1, 2, 1, 2, 1, 1, 0, 0, 0, 1, 1, 2, 2, 1, 0, 2, 1, 0, 2, 1, 0, 1, 1, 1, 1, 1, 2, 2, 1, 1, 0, 2, 1, 2, 0, 0, 2, 1, 1, 1, 2, 1, 1, 1, 1, 1, 2, 1, 1, 2, 0, 2, 1, 1, 1, 1, 1, 0, 0, 1, 1, 2, 0, 1, 2, 0, 2, 2, 0, 2, 2, 1, 0, 2, 0, 1, 2, 1, 2, 0, 1, 0, 1, 1, 2, 0, 1, 1, 0, 1, 1, 2, 1, 1, 1, 2, 0, 1, 1, 1, 2, 1, 2, 1, 1, 1, 1, 0, 1, 2, 1, 0, 0, 1, 1, 1, 1, 1, 0, 1, 1, 0, 1, 0, 2, 1, 0, 0, 1, 2, 1, 1, 1, 2, 1, 1, 1, 1, 0, 1, 1, 2, 1, 0, 2, 2, 0, 1, 0, 1, 1, 1, 1, 1, 0, 2, 0, 1, 2, 1, 0, 2, 1, 2, 1, 1, 1, 0, 2, 0, 1, 1, 0, 1, 2, 1, 2, 2, 1, 0, 0, 2, 1, 2, 1, 1, 0, 1, 0, 1, 1, 0, 1, 0, 2, 1, 1, 0, 2, 1, 1, 2, 2, 1, 2, 1, 1, 1, 2, 0, 2, 2, 1, 2, 1, 1, 1, 0, 2, 0, 1, 1, 1, 1, 1, 2, 1, 0, 0, 1, 0, 1, 1, 1, 2, 2, 1, 0, 1, 0, 0, 1, 2, 2, 0, 1, 1, 1, 2, 1, 1, 0, 2, 1, 2, 1, 1, 1, 1, 2, 0, 1, 2, 1, 2, 1, 2, 1, 0, 2, 1, 0, 1, 2, 1, 2, 1, 0, 1, 0, 0, 1, 2, 1, 0, 1, 1, 1, 1, 0, 2, 1, 1, 1, 2, 2, 1, 0, 2, 1, 2, 1, 1, 2, 0, 1, 1, 1, 1, 0, 1, 1, 1, 2, 2, 2, 2, 0, 1, 1, 2, 0, 0, 0, 1, 1, 2, 1, 2, 1, 1, 1, 1, 2, 0, 2, 1, 1, 0, 0, 0, 0, 1, 1, 0, 0, 2, 1, 1, 0, 0, 0, 1, 0, 2, 0, 1, 0, 2, 1, 0, 1, 1, 0, 2, 1, 2, 2, 0, 1, 0, 1, 1]\n"
     ]
    }
   ],
   "source": [
    "a=[]\n",
    "for i in range (len(df_test['text'])):\n",
    "    a.append(model_pipeline.predict([df_test['text'][i]] )[0])\n",
    "print(a)"
   ]
  },
  {
   "cell_type": "code",
   "execution_count": 23,
   "id": "617e6c1c-74c5-4493-8982-571cfc4bb422",
   "metadata": {},
   "outputs": [],
   "source": [
    "df_test2=pd.read_csv('test.csv')"
   ]
  },
  {
   "cell_type": "markdown",
   "id": "876ebee8-7666-4d20-ac3b-7c03a888596e",
   "metadata": {},
   "source": [
    "добавление предсказаний в датасет"
   ]
  },
  {
   "cell_type": "code",
   "execution_count": 24,
   "id": "5f986926-0e7f-4aa2-b90a-47da95b6a0b6",
   "metadata": {},
   "outputs": [
    {
     "name": "stdout",
     "output_type": "stream",
     "text": [
      "          ID                                               text  sentiment\n",
      "0          0  Развода на деньги нет Наблюдаюсь в Лайфклиник ...          2\n",
      "1          1  Отель выбрали потому что рядом со стадионом. О...          0\n",
      "2          2  Вылечили Гноился с рождения глазик, в поликлин...          1\n",
      "3          3  Хорошее расположение.С вокзала дошли пешком.Но...          0\n",
      "4          4  Отличное месторасположение,прекрасный вид,особ...          1\n",
      "...      ...                                                ...        ...\n",
      "21093  21093  Несколько лет назад муж останавливался в этом ...          0\n",
      "21094  21094  Спасли от боли После родов у меня появились бо...          1\n",
      "21095  21095  з ролика понятно одно - девушка- наблюдатель  ...          0\n",
      "21096  21096  Остались всем довольны, дружелюбный персонал, ...          1\n",
      "21097  21097  Спасибо огромное за сыночка Хочу выразить огро...          1\n",
      "\n",
      "[21098 rows x 3 columns]\n"
     ]
    }
   ],
   "source": [
    "df_test2[\"sentiment\"]=a\n",
    "print(df_test2)"
   ]
  },
  {
   "cell_type": "code",
   "execution_count": 28,
   "id": "a93b8553-368e-4ae2-aca0-9cde253f0c5c",
   "metadata": {},
   "outputs": [
    {
     "data": {
      "text/plain": [
       "0.3360034126457484"
      ]
     },
     "execution_count": 28,
     "metadata": {},
     "output_type": "execute_result"
    }
   ],
   "source": [
    "precision_score(y_true=df_test_sub[\"sentiment\"], y_pred=model_pipeline. predict(df_test[\"text\" ]), average='micro')"
   ]
  },
  {
   "cell_type": "code",
   "execution_count": 29,
   "id": "6b1b0ebb-80f6-4082-b6a4-6cf7156d579a",
   "metadata": {},
   "outputs": [
    {
     "data": {
      "text/plain": [
       "0.3360034126457484"
      ]
     },
     "execution_count": 29,
     "metadata": {},
     "output_type": "execute_result"
    }
   ],
   "source": [
    "recall_score(y_true=df_test_sub[\"sentiment\"], y_pred=model_pipeline. predict(df_test[\"text\" ]), average='micro')"
   ]
  },
  {
   "cell_type": "code",
   "execution_count": 69,
   "id": "abfa76de-3b35-48cd-8fcb-ce86281419a2",
   "metadata": {},
   "outputs": [],
   "source": [
    "df_test2.to_csv('df_test.csv', encoding='utf-8')"
   ]
  },
  {
   "cell_type": "code",
   "execution_count": null,
   "id": "8a659d3f-5909-4831-90f8-b6ea66732a71",
   "metadata": {},
   "outputs": [],
   "source": []
  },
  {
   "cell_type": "code",
   "execution_count": null,
   "id": "858ea474-12d1-468c-b5e0-42f93322b71d",
   "metadata": {},
   "outputs": [],
   "source": []
  },
  {
   "cell_type": "code",
   "execution_count": null,
   "id": "ab50d1a2-144f-493b-9afc-f32e1a8dd1be",
   "metadata": {},
   "outputs": [],
   "source": []
  }
 ],
 "metadata": {
  "kernelspec": {
   "display_name": "Python 3 (ipykernel)",
   "language": "python",
   "name": "python3"
  },
  "language_info": {
   "codemirror_mode": {
    "name": "ipython",
    "version": 3
   },
   "file_extension": ".py",
   "mimetype": "text/x-python",
   "name": "python",
   "nbconvert_exporter": "python",
   "pygments_lexer": "ipython3",
   "version": "3.11.7"
  }
 },
 "nbformat": 4,
 "nbformat_minor": 5
}
